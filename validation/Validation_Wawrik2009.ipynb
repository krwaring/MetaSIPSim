{
 "cells": [
  {
   "cell_type": "markdown",
   "metadata": {},
   "source": [
    "# Validation against Wawrik et al. 2009"
   ]
  },
  {
   "cell_type": "markdown",
   "metadata": {},
   "source": [
    "This notebook compares metaSIPSim simulation results against those of Wawrik et al. 2009. Comparisons are made to figure 3B from said paper.\n",
    "\n",
    "For the simulation, I will be generating fragments only. I will estimate the amount of DNA from each genome in each fraction by multiplying fragment size by simulated abundance then summing within each genome.\n",
    "\n",
    "Wawrik, B., Callaghan, A. V., & Bronk, D. A. (2009). Use of Inorganic and Organic Nitrogen by Synechococcus spp. and Diatoms on the West Florida Shelf as Measured Using Stable Isotope Probing. Applied and Environmental Microbiology, 75(21), 6662–6670. DOI:10.1128/AEM.01002-09\n"
   ]
  },
  {
   "cell_type": "markdown",
   "metadata": {},
   "source": [
    "## Intitiation"
   ]
  },
  {
   "cell_type": "code",
   "execution_count": 1,
   "metadata": {},
   "outputs": [],
   "source": [
    "import os\n",
    "import pandas as pd\n",
    "import ConfigParser\n",
    "import rpy2.ipython"
   ]
  },
  {
   "cell_type": "code",
   "execution_count": 2,
   "metadata": {},
   "outputs": [],
   "source": [
    "%load_ext rpy2.ipython"
   ]
  },
  {
   "cell_type": "code",
   "execution_count": 3,
   "metadata": {},
   "outputs": [
    {
     "name": "stderr",
     "output_type": "stream",
     "text": [
      "/home/sam/anaconda3/envs/SIPSim2_py2/lib/python2.7/site-packages/rpy2/rinterface/__init__.py:186: RRuntimeWarning: \n",
      "Attaching package: ‘dplyr’\n",
      "\n",
      "\n",
      "  warnings.warn(x, RRuntimeWarning)\n",
      "/home/sam/anaconda3/envs/SIPSim2_py2/lib/python2.7/site-packages/rpy2/rinterface/__init__.py:186: RRuntimeWarning: The following objects are masked from ‘package:stats’:\n",
      "\n",
      "    filter, lag\n",
      "\n",
      "\n",
      "  warnings.warn(x, RRuntimeWarning)\n",
      "/home/sam/anaconda3/envs/SIPSim2_py2/lib/python2.7/site-packages/rpy2/rinterface/__init__.py:186: RRuntimeWarning: The following objects are masked from ‘package:base’:\n",
      "\n",
      "    intersect, setdiff, setequal, union\n",
      "\n",
      "\n",
      "  warnings.warn(x, RRuntimeWarning)\n"
     ]
    }
   ],
   "source": [
    "%%R\n",
    "library(dplyr)\n",
    "library(ggplot2)"
   ]
  },
  {
   "cell_type": "code",
   "execution_count": 4,
   "metadata": {},
   "outputs": [],
   "source": [
    "# What is your working directory?\n",
    "workdir = '/home/sam/data/SIPSim2_data/dev/validation/Wawrik2009/'\n",
    "\n",
    "# Where are your genomes?\n",
    "genomedir = '/home/sam/data/SIPSim2_data/dev/validation/Wawrik2009/genomes/'\n",
    "\n"
   ]
  },
  {
   "cell_type": "code",
   "execution_count": 5,
   "metadata": {},
   "outputs": [
    {
     "name": "stdout",
     "output_type": "stream",
     "text": [
      "/home/sam/data/SIPSim2_data/dev/validation/Wawrik2009\n",
      "/home/sam/data/SIPSim2_data/dev/validation/Wawrik2009/genomes/\n"
     ]
    }
   ],
   "source": [
    "# making directories\n",
    "## working directory\n",
    "if not os.path.isdir(workdir):\n",
    "    os.makedirs(workdir)\n",
    "%cd $workdir\n",
    "\n",
    "## genome directory\n",
    "if not os.path.isdir(genomedir):\n",
    "    os.makedirs(genomedir)\n",
    "print(genomedir)"
   ]
  },
  {
   "cell_type": "markdown",
   "metadata": {},
   "source": [
    "## Part 1: Get genomes"
   ]
  },
  {
   "cell_type": "code",
   "execution_count": 6,
   "metadata": {},
   "outputs": [
    {
     "name": "stdout",
     "output_type": "stream",
     "text": [
      "/home/sam/data/SIPSim2_data/dev/validation/Wawrik2009/genomes\n",
      "--2019-05-22 13:09:36--  ftp://ftp.ncbi.nlm.nih.gov/genomes/all/GCF/000/063/505/GCF_000063505.1_ASM6350v1/GCF_000063505.1_ASM6350v1_genomic.fna.gz\n",
      "           => ‘Synechococcus_sp_WH7803.fna.gz’\n",
      "Resolving ftp.ncbi.nlm.nih.gov (ftp.ncbi.nlm.nih.gov)... 130.14.250.10, 2607:f220:41e:250::10\n",
      "Connecting to ftp.ncbi.nlm.nih.gov (ftp.ncbi.nlm.nih.gov)|130.14.250.10|:21... connected.\n",
      "Logging in as anonymous ... Logged in!\n",
      "==> SYST ... done.    ==> PWD ... done.\n",
      "==> TYPE I ... done.  ==> CWD (1) /genomes/all/GCF/000/063/505/GCF_000063505.1_ASM6350v1 ... done.\n",
      "==> SIZE GCF_000063505.1_ASM6350v1_genomic.fna.gz ... 694327\n",
      "==> PASV ... done.    ==> RETR GCF_000063505.1_ASM6350v1_genomic.fna.gz ... done.\n",
      "Length: 694327 (678K) (unauthoritative)\n",
      "\n",
      "GCF_000063505.1_ASM 100%[===================>] 678.05K  --.-KB/s    in 0.07s   \n",
      "\n",
      "2019-05-22 13:09:37 (8.92 MB/s) - ‘Synechococcus_sp_WH7803.fna.gz’ saved [694327]\n",
      "\n"
     ]
    }
   ],
   "source": [
    "%cd $genomedir\n",
    "# The genomes you want are:\n",
    "## Synechococcus_sp_WH7803: GCF_000063505.1\n",
    "\n",
    "\n",
    "!wget -O Synechococcus_sp_WH7803.fna.gz ftp://ftp.ncbi.nlm.nih.gov/genomes/all/GCF/000/063/505/GCF_000063505.1_ASM6350v1/GCF_000063505.1_ASM6350v1_genomic.fna.gz\n",
    "\n",
    "!gunzip Synechococcus_sp_WH7803.fna.gz\n"
   ]
  },
  {
   "cell_type": "markdown",
   "metadata": {},
   "source": [
    "## Part 2: Simulation"
   ]
  },
  {
   "cell_type": "markdown",
   "metadata": {},
   "source": [
    "### A) Get genome indexes"
   ]
  },
  {
   "cell_type": "code",
   "execution_count": 7,
   "metadata": {},
   "outputs": [
    {
     "name": "stdout",
     "output_type": "stream",
     "text": [
      "/home/sam/data/SIPSim2_data/dev/validation/Wawrik2009\n"
     ]
    }
   ],
   "source": [
    "%cd $workdir"
   ]
  },
  {
   "cell_type": "code",
   "execution_count": 8,
   "metadata": {},
   "outputs": [
    {
     "name": "stdout",
     "output_type": "stream",
     "text": [
      "Synechococcus_sp_WH7803.fna\r\n"
     ]
    }
   ],
   "source": [
    "# make index file of genomes \n",
    "!ls $genomedir | grep \".fna\" > genome_files.txt\n",
    "!tail genome_files.txt"
   ]
  },
  {
   "cell_type": "code",
   "execution_count": 9,
   "metadata": {},
   "outputs": [
    {
     "name": "stdout",
     "output_type": "stream",
     "text": [
      "Synechococcus_sp_WH7803\tSynechococcus_sp_WH7803.fna\r\n"
     ]
    }
   ],
   "source": [
    "with open(\"genome_files.txt\", 'r') as genome_files, open (\"genome_index.txt\", 'w') as genome_index:\n",
    "    genomes = genome_files.readlines()\n",
    "    for line in genomes:\n",
    "        fasta = line\n",
    "        taxa = fasta.replace('.fna\\n', '\\t')\n",
    "        genome_index.write(taxa + fasta)\n",
    "!cat genome_index.txt"
   ]
  },
  {
   "cell_type": "markdown",
   "metadata": {},
   "source": [
    "### B) Set up experimental design"
   ]
  },
  {
   "cell_type": "markdown",
   "metadata": {},
   "source": [
    "#### List of incorporators\n",
    "In this case Synechococcus_sp_WH7803 will be 100% incorporating in library 2"
   ]
  },
  {
   "cell_type": "code",
   "execution_count": 10,
   "metadata": {},
   "outputs": [
    {
     "name": "stdout",
     "output_type": "stream",
     "text": [
      "taxon_name\tlibrary\tpercent_incorporation\tsd_incorporation\r\n",
      "Synechococcus_sp_WH7803\t2\t100.0\t0\r\n"
     ]
    }
   ],
   "source": [
    "library = [2]\n",
    "\n",
    "taxon_name = ['Synechococcus_sp_WH7803'] \n",
    "\n",
    "percent_incorporation = [100.0]\n",
    "\n",
    "sd_incorporation = [0]\n",
    "\n",
    "incorporators = pd.DataFrame({'taxon_name':taxon_name, 'library':library, \n",
    "                       'percent_incorporation':percent_incorporation, 'sd_incorporation':sd_incorporation})\n",
    "incorporators = incorporators.reindex(columns = ['taxon_name', 'library', 'percent_incorporation', 'sd_incorporation'])\n",
    "incorporators.to_csv(\"incorporators.txt\", sep='\\t', index=False)\n",
    "\n",
    "!cat incorporators.txt"
   ]
  },
  {
   "cell_type": "markdown",
   "metadata": {},
   "source": [
    "#### Community composition file\n",
    "Cultures were isolates so they have a relative abundance of 100%"
   ]
  },
  {
   "cell_type": "code",
   "execution_count": 11,
   "metadata": {},
   "outputs": [
    {
     "name": "stdout",
     "output_type": "stream",
     "text": [
      "library\ttaxon_name\trel_abund_perc\trank\r\n",
      "1\tSynechococcus_sp_WH7803\t100.0\t1\r\n",
      "2\tSynechococcus_sp_WH7803\t100.0\t2\r\n"
     ]
    }
   ],
   "source": [
    "library = [1, 2]\n",
    "\n",
    "taxon_name = ['Synechococcus_sp_WH7803', 'Synechococcus_sp_WH7803'] \n",
    "\n",
    "rel_abund_perc = [100.0, 100.0]\n",
    "\n",
    "rank = [1,2]\n",
    "\n",
    "comm = pd.DataFrame({'library':library, 'taxon_name':taxon_name, \n",
    "                       'rel_abund_perc':rel_abund_perc, 'rank':rank})\n",
    "comm = comm.reindex(columns = ['library', 'taxon_name', 'rel_abund_perc', 'rank'])\n",
    "comm.to_csv(\"comm.txt\", sep='\\t', index=False)\n",
    "\n",
    "!cat comm.txt"
   ]
  },
  {
   "cell_type": "markdown",
   "metadata": {},
   "source": [
    "#### Generate fraction file\n",
    "These fractions are estimated from the paper figure"
   ]
  },
  {
   "cell_type": "code",
   "execution_count": 12,
   "metadata": {},
   "outputs": [],
   "source": [
    "%%R\n",
    "fractions = read.table('/home/sam/data/SIPSim2_data/dev/validation/figure_estimates.txt', \n",
    "                          header=TRUE, sep=\"\\t\") %>%\n",
    "    filter(Study == \"Wawrik2009\") %>%\n",
    "    mutate(BD = round(BD, digits=3)) %>%\n",
    "    select(library, BD, fraction) %>%\n",
    "    group_by(library) %>%\n",
    "    mutate(last_frac = max(fraction)) %>%\n",
    "    ungroup()\n",
    "for (i in 1:nrow(fractions)){\n",
    "    fractions$BD_prev[i] = fractions$BD[i-1]\n",
    "    fractions$BD_next[i] = fractions$BD[i+1]\n",
    "    if (fractions$fraction[i] == 1){\n",
    "        fractions$BD_prev[i] = (2*fractions$BD[i])-fractions$BD_next[i]\n",
    "    }\n",
    "    if (fractions$fraction[i] == fractions$last_frac[i]){\n",
    "        fractions$BD_next[i] = (2*fractions$BD[i])-fractions$BD_prev[i]\n",
    "    }\n",
    "}\n",
    "fractions = fractions %>%\n",
    "    mutate(BD_min = (BD+BD_prev)/2, BD_max = (BD+BD_next)/2) %>%\n",
    "    mutate(fraction_size = round(BD_max-BD_min, 4)) %>%\n",
    "    select(library, fraction, BD_min, BD_max, fraction_size)\n",
    "write.table(fractions, \"fracs.txt\", quote=F, sep=\"\\t\", row.names=F)"
   ]
  },
  {
   "cell_type": "code",
   "execution_count": 13,
   "metadata": {},
   "outputs": [
    {
     "name": "stdout",
     "output_type": "stream",
     "text": [
      "library\tfraction\tBD_min\tBD_max\tfraction_size\r\n",
      "1\t1\t1.687\t1.693\t0.006\r\n",
      "1\t2\t1.693\t1.6975\t0.0045\r\n",
      "1\t3\t1.6975\t1.7005\t0.003\r\n",
      "1\t4\t1.7005\t1.704\t0.0035\r\n",
      "1\t5\t1.704\t1.708\t0.004\r\n",
      "1\t6\t1.708\t1.712\t0.004\r\n",
      "1\t7\t1.712\t1.7165\t0.0045\r\n",
      "1\t8\t1.7165\t1.721\t0.0045\r\n",
      "1\t9\t1.721\t1.725\t0.004\r\n",
      "1\t10\t1.725\t1.7295\t0.0045\r\n",
      "1\t11\t1.7295\t1.7345\t0.005\r\n",
      "1\t12\t1.7345\t1.739\t0.0045\r\n",
      "1\t13\t1.739\t1.7425\t0.0035\r\n",
      "1\t14\t1.7425\t1.7455\t0.003\r\n",
      "2\t1\t1.687\t1.693\t0.006\r\n",
      "2\t2\t1.693\t1.6965\t0.0035\r\n",
      "2\t3\t1.6965\t1.698\t0.0015\r\n",
      "2\t4\t1.698\t1.7005\t0.0025\r\n",
      "2\t5\t1.7005\t1.704\t0.0035\r\n",
      "2\t6\t1.704\t1.7075\t0.0035\r\n",
      "2\t7\t1.7075\t1.7105\t0.003\r\n",
      "2\t8\t1.7105\t1.713\t0.0025\r\n",
      "2\t9\t1.713\t1.7155\t0.0025\r\n",
      "2\t10\t1.7155\t1.718\t0.0025\r\n",
      "2\t11\t1.718\t1.7235\t0.0055\r\n",
      "2\t12\t1.7235\t1.73\t0.0065\r\n",
      "2\t13\t1.73\t1.7335\t0.0035\r\n",
      "2\t14\t1.7335\t1.7365\t0.003\r\n",
      "2\t15\t1.7365\t1.74\t0.0035\r\n",
      "2\t16\t1.74\t1.7445\t0.0045\r\n",
      "2\t17\t1.7445\t1.7495\t0.005\r\n",
      "2\t18\t1.7495\t1.755\t0.0055\r\n",
      "2\t19\t1.755\t1.761\t0.006\r\n"
     ]
    }
   ],
   "source": [
    "!cat fracs.txt"
   ]
  },
  {
   "cell_type": "markdown",
   "metadata": {},
   "source": [
    "### C) Make configuration file for simulation\n",
    "This configuration file contains all the information needed for simulation. Gradient configuration is based on the methods section."
   ]
  },
  {
   "cell_type": "code",
   "execution_count": 14,
   "metadata": {},
   "outputs": [],
   "source": [
    "config = ConfigParser.SafeConfigParser()\n",
    "\n",
    "## Other parameters\n",
    "config.add_section('Other')\n",
    "config.set('Other', 'temp_directory', './tmp')\n",
    "config.set('Other', 'threads', '1')\n",
    "config.set('Other', 'logfile', 'SIPSim2_Wawrik.log')\n",
    "config.set('Other', 'endpoint', 'fragment_list')\n",
    "\n",
    "## Library parameters\n",
    "config.add_section('Library')\n",
    "config.set('Library', 'library_list', '1, 2')\n",
    "config.set('Library', 'window_or_fraction', 'fraction')\n",
    "\n",
    "## Fragment parameters\n",
    "config.add_section('Fragment')\n",
    "config.set('Fragment', 'path_to_SIPSim', '/home/sam/notebooks/SIPSim')\n",
    "config.set('Fragment', 'genome_index_file', 'genome_index.txt')\n",
    "config.set('Fragment', 'genomeDir', genomedir)\n",
    "config.set('Fragment', 'frag_length_distribution', 'skewed-normal,9000,2500,-5')\n",
    "config.set('Fragment', 'coverage_of_fragments', '100')\n",
    "config.set('Fragment', 'fragment_file', 'frags.txt')\n",
    "config.set('Fragment', 'temp_fragment_file', 'tmp.frags')\n",
    "config.set('Fragment', 'number_of_iterations', '1')\n",
    "\n",
    "\n",
    "## Gradient parameters\n",
    "config.add_section('Gradient')\n",
    "config.set('Gradient', 'temperature', '293.15')\n",
    "config.set('Gradient', 'avg_density', '1.701')\n",
    "config.set('Gradient', 'angular_velocity', '16860743')\n",
    "config.set('Gradient', 'min_rotation_radius', '7.47')\n",
    "config.set('Gradient', 'max_rotation_radius', '8.79')\n",
    "config.set('Gradient', 'tube_angle', '0')\n",
    "config.set('Gradient', 'tube_radius', '0.66')\n",
    "config.set('Gradient', 'tube_height', '4.7')\n",
    "config.set('Gradient', 'fraction_frag_in_DBL', '0.001')\n",
    "config.set('Gradient', 'isotope', 'N')\n",
    "\n",
    "## Model parameters\n",
    "config.add_section('Model')\n",
    "config.set('Model', 'min_bouyant_density', '1.67')\n",
    "config.set('Model', 'max_bouyant_density', '1.775')\n",
    "config.set('Model', 'bouyant_density_step', '0.0001')\n",
    "config.set('Model', 'fraction_table_file', 'fracs.txt')\n",
    "\n",
    "## Community parameters\n",
    "config.add_section('Community')\n",
    "config.set('Community', 'community_file', 'comm.txt')\n",
    "config.set('Community', 'incorporator_file', 'incorporators.txt')\n",
    "\n",
    "## Sequencing parameters\n",
    "config.add_section('Sequencing')\n",
    "config.set('Sequencing', 'number_of_genomes_per_iteration', '1')\n",
    "\n",
    "\n",
    "# Writing our configuration file to 'example.cfg'\n",
    "with open('simulation_parameters.cfg', 'wb') as configfile:\n",
    "    config.write(configfile)"
   ]
  },
  {
   "cell_type": "markdown",
   "metadata": {},
   "source": [
    "### D) Simulate fragments for each fraction\n",
    "Use the function SIPSim2_get_fragment_list_fractions.py to get the fragments for each genome in each fraction of every library"
   ]
  },
  {
   "cell_type": "code",
   "execution_count": 15,
   "metadata": {},
   "outputs": [
    {
     "name": "stdout",
     "output_type": "stream",
     "text": [
      "Running SIPSim_metagenome\n",
      "This program was writen by Samuel Barnett (seb369@cornell.edu)\n",
      "\n",
      "This run was started on 22/05/19 at 13:10:17\n",
      "\n",
      "\n",
      "You have chosen to get an list of simulated SIP metagenome fragments with adjusted buoyant densities.\n",
      "You have selected to simulate metagenome sequences for each fraction.\n",
      "\n",
      "Your community abundance file is: comm.txt\n",
      "\n",
      "Your incorporator assignment file is: incorporators.txt\n",
      "\n",
      "You are simulating with the isotope of N\n",
      "\n",
      "It took 0.734 seconds to get these models.\n",
      "It took 0.792 seconds to get these models.\n",
      "\n",
      "Building fragments\n",
      "\n",
      "It took 12.16 seconds to build the fragments\n",
      "\n",
      "----------\n",
      "\n",
      "Starting library 1\n",
      "\n",
      "Starting library 1 fraction 1 BD:1.687-1.693\n",
      "Writing fragments to file\n",
      "It took 13.135 seconds to write fragment file.\n",
      "It took 13.136 seconds to run library 1 fraction BD:1.687-1.693 iteration 1\n",
      "\n",
      "It took 13.136 seconds to run the library 1 fraction 1 BD:1.687-1.693\n",
      "\n",
      "Starting library 1 fraction 2 BD:1.693-1.6975\n",
      "Writing fragments to file\n",
      "It took 12.609 seconds to write fragment file.\n",
      "It took 25.746 seconds to run library 1 fraction BD:1.693-1.6975 iteration 1\n",
      "\n",
      "It took 12.61 seconds to run the library 1 fraction 2 BD:1.693-1.6975\n",
      "\n",
      "Starting library 1 fraction 3 BD:1.6975-1.7005\n",
      "Writing fragments to file\n",
      "It took 12.675 seconds to write fragment file.\n",
      "It took 38.422 seconds to run library 1 fraction BD:1.6975-1.7005 iteration 1\n",
      "\n",
      "It took 12.676 seconds to run the library 1 fraction 3 BD:1.6975-1.7005\n",
      "\n",
      "Starting library 1 fraction 4 BD:1.7005-1.704\n",
      "Writing fragments to file\n",
      "It took 12.724 seconds to write fragment file.\n",
      "It took 51.147 seconds to run library 1 fraction BD:1.7005-1.704 iteration 1\n",
      "\n",
      "It took 12.725 seconds to run the library 1 fraction 4 BD:1.7005-1.704\n",
      "\n",
      "Starting library 1 fraction 5 BD:1.704-1.708\n",
      "Writing fragments to file\n",
      "It took 12.578 seconds to write fragment file.\n",
      "It took 63.725 seconds to run library 1 fraction BD:1.704-1.708 iteration 1\n",
      "\n",
      "It took 12.578 seconds to run the library 1 fraction 5 BD:1.704-1.708\n",
      "\n",
      "Starting library 1 fraction 6 BD:1.708-1.712\n",
      "Writing fragments to file\n",
      "It took 12.77 seconds to write fragment file.\n",
      "It took 76.496 seconds to run library 1 fraction BD:1.708-1.712 iteration 1\n",
      "\n",
      "It took 12.771 seconds to run the library 1 fraction 6 BD:1.708-1.712\n",
      "\n",
      "Starting library 1 fraction 7 BD:1.712-1.7165\n",
      "Writing fragments to file\n",
      "It took 12.757 seconds to write fragment file.\n",
      "It took 89.253 seconds to run library 1 fraction BD:1.712-1.7165 iteration 1\n",
      "\n",
      "It took 12.757 seconds to run the library 1 fraction 7 BD:1.712-1.7165\n",
      "\n",
      "Starting library 1 fraction 8 BD:1.7165-1.721\n",
      "Writing fragments to file\n",
      "It took 12.676 seconds to write fragment file.\n",
      "It took 101.93 seconds to run library 1 fraction BD:1.7165-1.721 iteration 1\n",
      "\n",
      "It took 12.676 seconds to run the library 1 fraction 8 BD:1.7165-1.721\n",
      "\n",
      "Starting library 1 fraction 9 BD:1.721-1.725\n",
      "Writing fragments to file\n",
      "It took 12.867 seconds to write fragment file.\n",
      "It took 114.798 seconds to run library 1 fraction BD:1.721-1.725 iteration 1\n",
      "\n",
      "It took 12.868 seconds to run the library 1 fraction 9 BD:1.721-1.725\n",
      "\n",
      "Starting library 1 fraction 10 BD:1.725-1.7295\n",
      "Writing fragments to file\n",
      "It took 12.72 seconds to write fragment file.\n",
      "It took 127.519 seconds to run library 1 fraction BD:1.725-1.7295 iteration 1\n",
      "\n",
      "It took 12.721 seconds to run the library 1 fraction 10 BD:1.725-1.7295\n",
      "\n",
      "Starting library 1 fraction 11 BD:1.7295-1.7345\n",
      "Writing fragments to file\n",
      "It took 12.741 seconds to write fragment file.\n",
      "It took 140.261 seconds to run library 1 fraction BD:1.7295-1.7345 iteration 1\n",
      "\n",
      "It took 12.742 seconds to run the library 1 fraction 11 BD:1.7295-1.7345\n",
      "\n",
      "Starting library 1 fraction 12 BD:1.7345-1.739\n",
      "Writing fragments to file\n",
      "It took 12.832 seconds to write fragment file.\n",
      "It took 153.093 seconds to run library 1 fraction BD:1.7345-1.739 iteration 1\n",
      "\n",
      "It took 12.833 seconds to run the library 1 fraction 12 BD:1.7345-1.739\n",
      "\n",
      "Starting library 1 fraction 13 BD:1.739-1.7425\n",
      "Writing fragments to file\n",
      "It took 12.659 seconds to write fragment file.\n",
      "It took 165.753 seconds to run library 1 fraction BD:1.739-1.7425 iteration 1\n",
      "\n",
      "It took 12.659 seconds to run the library 1 fraction 13 BD:1.739-1.7425\n",
      "\n",
      "Starting library 1 fraction 14 BD:1.7425-1.7455\n",
      "Writing fragments to file\n",
      "It took 12.724 seconds to write fragment file.\n",
      "It took 178.478 seconds to run library 1 fraction BD:1.7425-1.7455 iteration 1\n",
      "\n",
      "It took 12.725 seconds to run the library 1 fraction 14 BD:1.7425-1.7455\n",
      "\n",
      "It took 178.478 seconds to run the whole library 1\n",
      "\n",
      "----------\n",
      "\n",
      "Starting library 2\n",
      "\n",
      "Starting library 2 fraction 1 BD:1.687-1.693\n",
      "Writing fragments to file\n",
      "It took 12.881 seconds to write fragment file.\n",
      "It took 12.882 seconds to run library 2 fraction BD:1.687-1.693 iteration 1\n",
      "\n",
      "It took 12.882 seconds to run the library 2 fraction 1 BD:1.687-1.693\n",
      "\n",
      "Starting library 2 fraction 2 BD:1.693-1.6965\n",
      "Writing fragments to file\n",
      "It took 12.842 seconds to write fragment file.\n",
      "It took 25.725 seconds to run library 2 fraction BD:1.693-1.6965 iteration 1\n",
      "\n",
      "It took 12.843 seconds to run the library 2 fraction 2 BD:1.693-1.6965\n",
      "\n",
      "Starting library 2 fraction 3 BD:1.6965-1.698\n",
      "Writing fragments to file\n",
      "It took 12.871 seconds to write fragment file.\n",
      "It took 38.597 seconds to run library 2 fraction BD:1.6965-1.698 iteration 1\n",
      "\n",
      "It took 12.872 seconds to run the library 2 fraction 3 BD:1.6965-1.698\n",
      "\n",
      "Starting library 2 fraction 4 BD:1.698-1.7005\n",
      "Writing fragments to file\n",
      "It took 12.898 seconds to write fragment file.\n",
      "It took 51.495 seconds to run library 2 fraction BD:1.698-1.7005 iteration 1\n",
      "\n",
      "It took 12.898 seconds to run the library 2 fraction 4 BD:1.698-1.7005\n",
      "\n",
      "Starting library 2 fraction 5 BD:1.7005-1.704\n",
      "Writing fragments to file\n",
      "It took 12.931 seconds to write fragment file.\n",
      "It took 64.427 seconds to run library 2 fraction BD:1.7005-1.704 iteration 1\n",
      "\n",
      "It took 12.932 seconds to run the library 2 fraction 5 BD:1.7005-1.704\n",
      "\n",
      "Starting library 2 fraction 6 BD:1.704-1.7075\n",
      "Writing fragments to file\n",
      "It took 12.879 seconds to write fragment file.\n",
      "It took 77.307 seconds to run library 2 fraction BD:1.704-1.7075 iteration 1\n",
      "\n",
      "It took 12.88 seconds to run the library 2 fraction 6 BD:1.704-1.7075\n",
      "\n",
      "Starting library 2 fraction 7 BD:1.7075-1.7105\n",
      "Writing fragments to file\n",
      "It took 13.174 seconds to write fragment file.\n",
      "It took 90.481 seconds to run library 2 fraction BD:1.7075-1.7105 iteration 1\n",
      "\n",
      "It took 13.174 seconds to run the library 2 fraction 7 BD:1.7075-1.7105\n",
      "\n",
      "Starting library 2 fraction 8 BD:1.7105-1.713\n",
      "Writing fragments to file\n",
      "It took 13.054 seconds to write fragment file.\n",
      "It took 103.536 seconds to run library 2 fraction BD:1.7105-1.713 iteration 1\n",
      "\n",
      "It took 13.055 seconds to run the library 2 fraction 8 BD:1.7105-1.713\n",
      "\n",
      "Starting library 2 fraction 9 BD:1.713-1.7155\n",
      "Writing fragments to file\n",
      "It took 12.947 seconds to write fragment file.\n",
      "It took 116.484 seconds to run library 2 fraction BD:1.713-1.7155 iteration 1\n",
      "\n",
      "It took 12.948 seconds to run the library 2 fraction 9 BD:1.713-1.7155\n",
      "\n",
      "Starting library 2 fraction 10 BD:1.7155-1.718\n",
      "Writing fragments to file\n",
      "It took 12.809 seconds to write fragment file.\n",
      "It took 129.294 seconds to run library 2 fraction BD:1.7155-1.718 iteration 1\n",
      "\n",
      "It took 12.81 seconds to run the library 2 fraction 10 BD:1.7155-1.718\n",
      "\n",
      "Starting library 2 fraction 11 BD:1.718-1.7235\n",
      "Writing fragments to file\n",
      "It took 12.833 seconds to write fragment file.\n",
      "It took 142.128 seconds to run library 2 fraction BD:1.718-1.7235 iteration 1\n",
      "\n",
      "It took 12.834 seconds to run the library 2 fraction 11 BD:1.718-1.7235\n",
      "\n",
      "Starting library 2 fraction 12 BD:1.7235-1.73\n",
      "Writing fragments to file\n",
      "It took 12.988 seconds to write fragment file.\n",
      "It took 155.117 seconds to run library 2 fraction BD:1.7235-1.73 iteration 1\n",
      "\n",
      "It took 12.989 seconds to run the library 2 fraction 12 BD:1.7235-1.73\n",
      "\n",
      "Starting library 2 fraction 13 BD:1.73-1.7335\n",
      "Writing fragments to file\n",
      "It took 12.947 seconds to write fragment file.\n",
      "It took 168.064 seconds to run library 2 fraction BD:1.73-1.7335 iteration 1\n",
      "\n",
      "It took 12.947 seconds to run the library 2 fraction 13 BD:1.73-1.7335\n",
      "\n",
      "Starting library 2 fraction 14 BD:1.7335-1.7365\n",
      "Writing fragments to file\n",
      "It took 12.878 seconds to write fragment file.\n",
      "It took 180.943 seconds to run library 2 fraction BD:1.7335-1.7365 iteration 1\n",
      "\n",
      "It took 12.879 seconds to run the library 2 fraction 14 BD:1.7335-1.7365\n",
      "\n",
      "Starting library 2 fraction 15 BD:1.7365-1.74\n"
     ]
    },
    {
     "name": "stdout",
     "output_type": "stream",
     "text": [
      "Writing fragments to file\n",
      "It took 12.948 seconds to write fragment file.\n",
      "It took 193.892 seconds to run library 2 fraction BD:1.7365-1.74 iteration 1\n",
      "\n",
      "It took 12.948 seconds to run the library 2 fraction 15 BD:1.7365-1.74\n",
      "\n",
      "Starting library 2 fraction 16 BD:1.74-1.7445\n",
      "Writing fragments to file\n",
      "It took 13.058 seconds to write fragment file.\n",
      "It took 206.951 seconds to run library 2 fraction BD:1.74-1.7445 iteration 1\n",
      "\n",
      "It took 13.059 seconds to run the library 2 fraction 16 BD:1.74-1.7445\n",
      "\n",
      "Starting library 2 fraction 17 BD:1.7445-1.7495\n",
      "Writing fragments to file\n",
      "It took 12.917 seconds to write fragment file.\n",
      "It took 219.869 seconds to run library 2 fraction BD:1.7445-1.7495 iteration 1\n",
      "\n",
      "It took 12.918 seconds to run the library 2 fraction 17 BD:1.7445-1.7495\n",
      "\n",
      "Starting library 2 fraction 18 BD:1.7495-1.755\n",
      "Writing fragments to file\n",
      "It took 13.068 seconds to write fragment file.\n",
      "It took 232.938 seconds to run library 2 fraction BD:1.7495-1.755 iteration 1\n",
      "\n",
      "It took 13.069 seconds to run the library 2 fraction 18 BD:1.7495-1.755\n",
      "\n",
      "Starting library 2 fraction 19 BD:1.755-1.761\n",
      "Writing fragments to file\n",
      "It took 12.87 seconds to write fragment file.\n",
      "It took 245.808 seconds to run library 2 fraction BD:1.755-1.761 iteration 1\n",
      "\n",
      "It took 12.87 seconds to run the library 2 fraction 19 BD:1.755-1.761\n",
      "\n",
      "It took 245.808 seconds to run the whole library 2\n",
      "\n",
      "----------\n",
      "\n",
      "It took 437.993 seconds to run the entire simulation. This program is now done!\n"
     ]
    }
   ],
   "source": [
    "!python /home/sam/notebooks/SIPSim_metagenome/bin/SIPSim_metagenome.py simulation_parameters.cfg"
   ]
  },
  {
   "cell_type": "markdown",
   "metadata": {},
   "source": [
    "## Part 3: Original SIPSim simulation"
   ]
  },
  {
   "cell_type": "markdown",
   "metadata": {},
   "source": [
    "Compare SIPSim_metagenome to SIPSim"
   ]
  },
  {
   "cell_type": "code",
   "execution_count": 16,
   "metadata": {},
   "outputs": [
    {
     "name": "stdout",
     "output_type": "stream",
     "text": [
      "/home/sam/data/SIPSim2_data/dev/validation/Wawrik2009\n"
     ]
    }
   ],
   "source": [
    "%cd $workdir"
   ]
  },
  {
   "cell_type": "markdown",
   "metadata": {},
   "source": [
    "Modify the comm.txt file so that you include both genomes"
   ]
  },
  {
   "cell_type": "code",
   "execution_count": 17,
   "metadata": {},
   "outputs": [
    {
     "name": "stdout",
     "output_type": "stream",
     "text": [
      "library\ttaxon_name\trel_abund_perc\trank\n",
      "1\tSynechococcus_sp_WH7803\t100.0\t1\n",
      "2\tSynechococcus_sp_WH7803\t100.0\t1\n"
     ]
    }
   ],
   "source": [
    "%%bash\n",
    "echo -e \"library\\ttaxon_name\\trel_abund_perc\\trank\" > comm2.txt\n",
    "echo -e \"1\\tSynechococcus_sp_WH7803\\t100.0\\t1\" >> comm2.txt\n",
    "echo -e \"2\\tSynechococcus_sp_WH7803\\t100.0\\t1\" >> comm2.txt\n",
    "\n",
    "\n",
    "cat comm2.txt"
   ]
  },
  {
   "cell_type": "markdown",
   "metadata": {},
   "source": [
    "### 1) Get fragments"
   ]
  },
  {
   "cell_type": "code",
   "execution_count": 18,
   "metadata": {},
   "outputs": [
    {
     "name": "stdout",
     "output_type": "stream",
     "text": [
      "DEBUG:CACHEDIR=/home/sam/.cache/matplotlib\r\n",
      "DEBUG:Using fontManager instance from /home/sam/.cache/matplotlib/fontList.json\r\n",
      "DEBUG:backend agg version v2.2\r\n",
      "Processing: \"Synechococcus_sp_WH7803\"\r\n",
      "  Genome name: Synechococcus_sp_WH7803\r\n",
      "  Genome length (bp): 2366980\r\n",
      "  Number of amplicons: None\r\n",
      "  Number of fragments simulated: 33621\r\n"
     ]
    }
   ],
   "source": [
    "!SIPSim fragments \\\n",
    "    genome_index.txt \\\n",
    "    --fp $genomedir/ \\\n",
    "    --fld skewed-normal,9000,2500,-5 \\\n",
    "    --flr None,None \\\n",
    "    --nf 100X \\\n",
    "    --tbl \\\n",
    "    --np 20 \\\n",
    "    2> Wawrik_SIPsim.log \\\n",
    "    > Wawrik_SIPsim.txt\n",
    "!cat Wawrik_SIPsim.log"
   ]
  },
  {
   "cell_type": "markdown",
   "metadata": {},
   "source": [
    "### 2) Convert to 2d-KDE format"
   ]
  },
  {
   "cell_type": "code",
   "execution_count": 19,
   "metadata": {},
   "outputs": [
    {
     "name": "stdout",
     "output_type": "stream",
     "text": [
      "DEBUG:CACHEDIR=/home/sam/.cache/matplotlib\n",
      "DEBUG:Using fontManager instance from /home/sam/.cache/matplotlib/fontList.json\n",
      "DEBUG:backend agg version v2.2\n",
      "-rw-rw-r-- 1 sam sam 527K May 22 13:22 Wawrik_SIPsim_kde.pkl\n"
     ]
    }
   ],
   "source": [
    "!SIPSim fragment_KDE \\\n",
    "    Wawrik_SIPsim.txt \\\n",
    "    > Wawrik_SIPsim_kde.pkl\n",
    "    \n",
    "!ls -thlc Wawrik_SIPsim_kde.pkl"
   ]
  },
  {
   "cell_type": "markdown",
   "metadata": {},
   "source": [
    "### 3) Add diffusion"
   ]
  },
  {
   "cell_type": "code",
   "execution_count": 20,
   "metadata": {},
   "outputs": [
    {
     "name": "stdout",
     "output_type": "stream",
     "text": [
      "DEBUG:CACHEDIR=/home/sam/.cache/matplotlib\n",
      "DEBUG:Using fontManager instance from /home/sam/.cache/matplotlib/fontList.json\n",
      "DEBUG:backend agg version v2.2\n",
      "Index size: 90508\n",
      "Processing: Synechococcus_sp_WH7803\n",
      "-rw-rw-r-- 1 sam sam 3.9M May 22 13:22 Wawrik_SIPsim_kde_dif.pkl\n"
     ]
    }
   ],
   "source": [
    "!SIPSim diffusion \\\n",
    "    Wawrik_SIPsim_kde.pkl \\\n",
    "    --np 20 \\\n",
    "    > Wawrik_SIPsim_kde_dif.pkl\n",
    "\n",
    "!ls -thlc Wawrik_SIPsim_kde_dif.pkl"
   ]
  },
  {
   "cell_type": "markdown",
   "metadata": {},
   "source": [
    "### 4) Add diffusive boundery layer"
   ]
  },
  {
   "cell_type": "code",
   "execution_count": 21,
   "metadata": {},
   "outputs": [
    {
     "name": "stdout",
     "output_type": "stream",
     "text": [
      "DEBUG:CACHEDIR=/home/sam/.cache/matplotlib\n",
      "DEBUG:Using fontManager instance from /home/sam/.cache/matplotlib/fontList.json\n",
      "DEBUG:backend agg version v2.2\n",
      "/home/sam/anaconda3/envs/SIPSim2_py2/lib/python2.7/site-packages/numpy/lib/polynomial.py:680: RuntimeWarning: invalid value encountered in multiply\n",
      "  y = y * x + p[i]\n",
      "DBL_index file written: \"DBL_index.txt\"\n",
      "Processing: Synechococcus_sp_WH7803\n",
      "-rw-rw-r-- 1 sam sam 3.9M May 22 13:22 Wawrik_SIPsim_kde_dif_DBL.pkl\n"
     ]
    }
   ],
   "source": [
    "!SIPSim DBL \\\n",
    "    Wawrik_SIPsim_kde_dif.pkl \\\n",
    "    --np 20 \\\n",
    "    -D 1.701 \\\n",
    "    -w 16860743 \\\n",
    "    --tube_height 4.7 \\\n",
    "    --r_min 7.47 \\\n",
    "    --r_max 8.79 \\\n",
    "    --vertical \\\n",
    "    > Wawrik_SIPsim_kde_dif_DBL.pkl\n",
    "\n",
    "\n",
    "!ls -thlc Wawrik_SIPsim_kde_dif_DBL.pkl"
   ]
  },
  {
   "cell_type": "markdown",
   "metadata": {},
   "source": [
    "### 5) Add isotope incorporation"
   ]
  },
  {
   "cell_type": "code",
   "execution_count": 22,
   "metadata": {},
   "outputs": [
    {
     "name": "stdout",
     "output_type": "stream",
     "text": [
      "taxon_name\tlibrary\tpercent_incorporation\tsd_incorporation\r\n",
      "Synechococcus_sp_WH7803\t2\t100.0\t0\r\n"
     ]
    }
   ],
   "source": [
    "!cat incorporators.txt"
   ]
  },
  {
   "cell_type": "code",
   "execution_count": 23,
   "metadata": {},
   "outputs": [
    {
     "name": "stdout",
     "output_type": "stream",
     "text": [
      "\n",
      "[1]\n",
      "    # baseline: no incorporation\n",
      "    treatment = control\n",
      "    \n",
      "    [[intraPopDist 1]]\n",
      "        distribution = uniform\n",
      "        \n",
      "        [[[start]]]\n",
      "            \n",
      "            [[[[interPopDist 1]]]]\n",
      "                distribution = uniform\n",
      "                start = 0\n",
      "                end = 0\n",
      "        \n",
      "        [[[end]]]\n",
      "            \n",
      "            [[[[interPopDist 1]]]]\n",
      "                distribution = uniform\n",
      "                start = 0\n",
      "                end = 0\n",
      "[2]\n",
      "    # 'treatment' community: possible incorporation\n",
      "    treatment = labeled\n",
      "    max_perc_taxa_incorp = 100\n",
      "    \n",
      "    [[intraPopDist 1]]\n",
      "        distribution = normal\n",
      "        [[[mu]]]\n",
      "            [[[[interPopDist 1]]]]\n",
      "                start = 100\n",
      "                distribution = uniform\n",
      "                end = 100\n",
      "        [[[sigma]]]\n",
      "            [[[[interPopDist 1]]]]\n",
      "                start = 0\n",
      "                distribution = uniform\n",
      "                end = 0\n",
      "    \n"
     ]
    },
    {
     "name": "stderr",
     "output_type": "stream",
     "text": [
      "DEBUG:CACHEDIR=/home/sam/.cache/matplotlib\n",
      "DEBUG:Using fontManager instance from /home/sam/.cache/matplotlib/fontList.json\n",
      "DEBUG:backend agg version v2.2\n"
     ]
    }
   ],
   "source": [
    "%%bash\n",
    "SIPSim incorp_config_example \\\n",
    "  --percTaxa 100 \\\n",
    "  --percIncorpMean 100 \\\n",
    "  --percIncorpSD 0 \\\n",
    "  --n_reps 1 \\\n",
    "  > incorp.config\n",
    "  \n",
    "cat incorp.config"
   ]
  },
  {
   "cell_type": "markdown",
   "metadata": {},
   "source": [
    "Make file identifying incorporators for each library"
   ]
  },
  {
   "cell_type": "code",
   "execution_count": 24,
   "metadata": {},
   "outputs": [
    {
     "name": "stdout",
     "output_type": "stream",
     "text": [
      "1\n",
      "2\tSynechococcus_sp_WH7803\n",
      "\n"
     ]
    }
   ],
   "source": [
    "%%bash\n",
    "echo -e \"1\\n2\\tSynechococcus_sp_WH7803\\n\" > incorp_taxa.txt\n",
    "\n",
    "cat incorp_taxa.txt\n"
   ]
  },
  {
   "cell_type": "markdown",
   "metadata": {},
   "source": [
    "Add isoptope incorporation"
   ]
  },
  {
   "cell_type": "code",
   "execution_count": 25,
   "metadata": {},
   "outputs": [
    {
     "name": "stdout",
     "output_type": "stream",
     "text": [
      "DEBUG:CACHEDIR=/home/sam/.cache/matplotlib\n",
      "DEBUG:Using fontManager instance from /home/sam/.cache/matplotlib/fontList.json\n",
      "DEBUG:backend agg version v2.2\n",
      "Loading KDE object...\n",
      "Processing library: 1\n",
      "Processing: Synechococcus_sp_WH7803\n",
      "Processing library: 2\n",
      "WARNING: config library 2 not found in KDEs.Using a different KDE object\n",
      "Processing: Synechococcus_sp_WH7803\n",
      "File written: BD-shift_stats.txt\n",
      "-rw-rw-r-- 1 sam sam 7.7M May 22 13:22 Wawrik_SIPsim_kde_dif_DBL_inc.pkl\n",
      "library\ttaxon\tmin\tq25\tmean\tmedian\tq75\tmax\n",
      "1\tSynechococcus_sp_WH7803\t0.0\t0.0\t0.0\t0.0\t0.0\t0.0\n",
      "2\tSynechococcus_sp_WH7803\t0.0159999999999\t0.016\t0.016\t0.016\t0.016\t0.016\n"
     ]
    }
   ],
   "source": [
    "!SIPSim isotope_incorp \\\n",
    "    --comm comm2.txt \\\n",
    "    --taxa incorp_taxa.txt \\\n",
    "    --isotope 15N \\\n",
    "    --np 20 \\\n",
    "    Wawrik_SIPsim_kde_dif_DBL.pkl \\\n",
    "    incorp.config \\\n",
    "    > Wawrik_SIPsim_kde_dif_DBL_inc.pkl\n",
    "\n",
    "!ls -thlc Wawrik_SIPsim_kde_dif_DBL_inc.pkl \n",
    "!cat BD-shift_stats.txt"
   ]
  },
  {
   "cell_type": "markdown",
   "metadata": {},
   "source": [
    "### 6) Making OTU table\n"
   ]
  },
  {
   "cell_type": "markdown",
   "metadata": {},
   "source": [
    "Get fraction table for each library"
   ]
  },
  {
   "cell_type": "code",
   "execution_count": 26,
   "metadata": {},
   "outputs": [
    {
     "name": "stdout",
     "output_type": "stream",
     "text": [
      "library\tfraction\tBD_min\tBD_max\tfraction_size\r\n",
      "1\t1\t1.687\t1.693\t0.006\r\n",
      "1\t2\t1.693\t1.6975\t0.0045\r\n",
      "1\t3\t1.6975\t1.7005\t0.003\r\n",
      "1\t4\t1.7005\t1.704\t0.0035\r\n",
      "1\t5\t1.704\t1.708\t0.004\r\n",
      "1\t6\t1.708\t1.712\t0.004\r\n",
      "1\t7\t1.712\t1.7165\t0.0045\r\n",
      "1\t8\t1.7165\t1.721\t0.0045\r\n",
      "1\t9\t1.721\t1.725\t0.004\r\n",
      "1\t10\t1.725\t1.7295\t0.0045\r\n",
      "1\t11\t1.7295\t1.7345\t0.005\r\n",
      "1\t12\t1.7345\t1.739\t0.0045\r\n",
      "1\t13\t1.739\t1.7425\t0.0035\r\n",
      "1\t14\t1.7425\t1.7455\t0.003\r\n",
      "2\t1\t1.687\t1.693\t0.006\r\n",
      "2\t2\t1.693\t1.6965\t0.0035\r\n",
      "2\t3\t1.6965\t1.698\t0.0015\r\n",
      "2\t4\t1.698\t1.7005\t0.0025\r\n",
      "2\t5\t1.7005\t1.704\t0.0035\r\n",
      "2\t6\t1.704\t1.7075\t0.0035\r\n",
      "2\t7\t1.7075\t1.7105\t0.003\r\n",
      "2\t8\t1.7105\t1.713\t0.0025\r\n",
      "2\t9\t1.713\t1.7155\t0.0025\r\n",
      "2\t10\t1.7155\t1.718\t0.0025\r\n",
      "2\t11\t1.718\t1.7235\t0.0055\r\n",
      "2\t12\t1.7235\t1.73\t0.0065\r\n",
      "2\t13\t1.73\t1.7335\t0.0035\r\n",
      "2\t14\t1.7335\t1.7365\t0.003\r\n",
      "2\t15\t1.7365\t1.74\t0.0035\r\n",
      "2\t16\t1.74\t1.7445\t0.0045\r\n",
      "2\t17\t1.7445\t1.7495\t0.005\r\n",
      "2\t18\t1.7495\t1.755\t0.0055\r\n",
      "2\t19\t1.755\t1.761\t0.006\r\n"
     ]
    }
   ],
   "source": [
    "!cat fracs.txt"
   ]
  },
  {
   "cell_type": "code",
   "execution_count": 27,
   "metadata": {},
   "outputs": [
    {
     "name": "stdout",
     "output_type": "stream",
     "text": [
      "DEBUG:CACHEDIR=/home/sam/.cache/matplotlib\n",
      "DEBUG:Using fontManager instance from /home/sam/.cache/matplotlib/fontList.json\n",
      "DEBUG:backend agg version v2.2\n",
      "Loading files...\n",
      "Simulating OTUs...\n",
      "Processing library: \"1\"\n",
      "  Processing taxon: \"Synechococcus_sp_WH7803\"\n",
      "   taxon abs-abundance:  100000\n",
      "Processing library: \"2\"\n",
      "  Processing taxon: \"Synechococcus_sp_WH7803\"\n",
      "   taxon abs-abundance:  100000\n",
      "library\ttaxon\tfraction\tBD_min\tBD_mid\tBD_max\tcount\trel_abund\n",
      "1\tSynechococcus_sp_WH7803\t-inf-1.687\t-inf\t1.686\t1.686\t29\t1\n",
      "1\tSynechococcus_sp_WH7803\t1.687-1.693\t1.687\t1.69\t1.693\t25\t1\n",
      "1\tSynechococcus_sp_WH7803\t1.693-1.698\t1.693\t1.696\t1.698\t119\t1\n",
      "1\tSynechococcus_sp_WH7803\t1.698-1.700\t1.698\t1.699\t1.7\t211\t1\n",
      "1\tSynechococcus_sp_WH7803\t1.700-1.704\t1.7\t1.702\t1.704\t628\t1\n",
      "1\tSynechococcus_sp_WH7803\t1.704-1.708\t1.704\t1.706\t1.708\t1547\t1\n",
      "1\tSynechococcus_sp_WH7803\t1.708-1.712\t1.708\t1.71\t1.712\t3882\t1\n",
      "1\tSynechococcus_sp_WH7803\t1.712-1.716\t1.712\t1.714\t1.716\t17619\t1\n",
      "1\tSynechococcus_sp_WH7803\t1.716-1.721\t1.716\t1.719\t1.721\t41165\t1\n",
      "1\tSynechococcus_sp_WH7803\t1.721-1.725\t1.721\t1.723\t1.725\t27594\t1\n",
      "1\tSynechococcus_sp_WH7803\t1.725-1.730\t1.725\t1.728\t1.73\t6727\t1\n",
      "1\tSynechococcus_sp_WH7803\t1.730-1.734\t1.73\t1.732\t1.734\t406\t1\n",
      "1\tSynechococcus_sp_WH7803\t1.734-1.739\t1.734\t1.736\t1.739\t11\t1\n",
      "1\tSynechococcus_sp_WH7803\t1.739-1.742\t1.739\t1.74\t1.742\t5\t1\n",
      "1\tSynechococcus_sp_WH7803\t1.746-inf\t1.747\t1.747\tinf\t32\t1\n",
      "2\tSynechococcus_sp_WH7803\t-inf-1.687\t-inf\t1.686\t1.686\t15\t1\n",
      "2\tSynechococcus_sp_WH7803\t1.687-1.693\t1.687\t1.69\t1.693\t3\t1\n",
      "2\tSynechococcus_sp_WH7803\t1.693-1.696\t1.693\t1.695\t1.696\t3\t1\n",
      "2\tSynechococcus_sp_WH7803\t1.696-1.698\t1.696\t1.697\t1.698\t3\t1\n",
      "2\tSynechococcus_sp_WH7803\t1.698-1.700\t1.698\t1.699\t1.7\t1\t1\n",
      "2\tSynechococcus_sp_WH7803\t1.704-1.708\t1.704\t1.706\t1.708\t13\t1\n",
      "2\tSynechococcus_sp_WH7803\t1.708-1.710\t1.708\t1.709\t1.71\t44\t1\n",
      "2\tSynechococcus_sp_WH7803\t1.710-1.713\t1.71\t1.712\t1.713\t70\t1\n",
      "2\tSynechococcus_sp_WH7803\t1.713-1.716\t1.713\t1.715\t1.716\t129\t1\n",
      "2\tSynechococcus_sp_WH7803\t1.716-1.718\t1.716\t1.717\t1.718\t311\t1\n",
      "2\tSynechococcus_sp_WH7803\t1.718-1.724\t1.718\t1.721\t1.724\t1716\t1\n",
      "2\tSynechococcus_sp_WH7803\t1.724-1.730\t1.724\t1.727\t1.73\t9260\t1\n",
      "2\tSynechococcus_sp_WH7803\t1.730-1.734\t1.73\t1.732\t1.734\t19933\t1\n",
      "2\tSynechococcus_sp_WH7803\t1.734-1.736\t1.734\t1.735\t1.736\t28669\t1\n",
      "2\tSynechococcus_sp_WH7803\t1.736-1.740\t1.736\t1.738\t1.74\t28040\t1\n",
      "2\tSynechococcus_sp_WH7803\t1.740-1.744\t1.74\t1.742\t1.744\t10965\t1\n",
      "2\tSynechococcus_sp_WH7803\t1.744-1.750\t1.744\t1.747\t1.75\t783\t1\n",
      "2\tSynechococcus_sp_WH7803\t1.750-1.755\t1.75\t1.752\t1.755\t21\t1\n",
      "2\tSynechococcus_sp_WH7803\t1.755-1.761\t1.755\t1.758\t1.761\t8\t1\n",
      "2\tSynechococcus_sp_WH7803\t1.761-inf\t1.762\t1.762\tinf\t13\t1\n"
     ]
    }
   ],
   "source": [
    "!SIPSim OTU_table \\\n",
    "    --np 1 \\\n",
    "    --abs 1e5 \\\n",
    "    Wawrik_SIPsim_kde_dif_DBL_inc.pkl \\\n",
    "    comm2.txt \\\n",
    "    fracs.txt \\\n",
    "    > Wawrik_SIPsim_OTU.txt\n",
    "    \n",
    "!cat Wawrik_SIPsim_OTU.txt"
   ]
  },
  {
   "cell_type": "markdown",
   "metadata": {},
   "source": [
    "## Part 3: Analysis\n",
    "\n",
    "Now I'll see how well the simulation results correspond with the actual DNA distribution. Here we will also make easier to handle files for nice visualizationg in R.\n",
    "\n",
    "### Get Wawrik data\n",
    "\n",
    "Also make a dataframe that indicates teh isotope for each reference in each library. This gives a bit more metadata that you can use when plotting"
   ]
  },
  {
   "cell_type": "code",
   "execution_count": 28,
   "metadata": {},
   "outputs": [
    {
     "data": {
      "text/plain": [
       "                taxon_name Isotope library    BD Ratio_of_maximum data_type\n",
       "1  Synechococcus_sp_WH7803     14N       1 1.690          0.01111 empirical\n",
       "2  Synechococcus_sp_WH7803     14N       1 1.696          0.01728 empirical\n",
       "3  Synechococcus_sp_WH7803     14N       1 1.699          0.01728 empirical\n",
       "4  Synechococcus_sp_WH7803     14N       1 1.702          0.00494 empirical\n",
       "5  Synechococcus_sp_WH7803     14N       1 1.706          0.04568 empirical\n",
       "6  Synechococcus_sp_WH7803     14N       1 1.710          0.21111 empirical\n",
       "7  Synechococcus_sp_WH7803     14N       1 1.714          0.94198 empirical\n",
       "8  Synechococcus_sp_WH7803     14N       1 1.719          1.00000 empirical\n",
       "9  Synechococcus_sp_WH7803     14N       1 1.723          0.14815 empirical\n",
       "10 Synechococcus_sp_WH7803     14N       1 1.727          0.04938 empirical\n",
       "11 Synechococcus_sp_WH7803     14N       1 1.732          0.01852 empirical\n",
       "12 Synechococcus_sp_WH7803     14N       1 1.737          0.00494 empirical\n",
       "13 Synechococcus_sp_WH7803     14N       1 1.741          0.00370 empirical\n",
       "14 Synechococcus_sp_WH7803     14N       1 1.744          0.00000 empirical\n",
       "15 Synechococcus_sp_WH7803     15N       2 1.690          0.00000 empirical\n",
       "16 Synechococcus_sp_WH7803     15N       2 1.696          0.00000 empirical\n",
       "17 Synechococcus_sp_WH7803     15N       2 1.697          0.00370 empirical\n",
       "18 Synechococcus_sp_WH7803     15N       2 1.699          0.00123 empirical\n",
       "19 Synechococcus_sp_WH7803     15N       2 1.702          0.00370 empirical\n",
       "20 Synechococcus_sp_WH7803     15N       2 1.706          0.00370 empirical\n",
       "21 Synechococcus_sp_WH7803     15N       2 1.709          0.00494 empirical\n",
       "22 Synechococcus_sp_WH7803     15N       2 1.712          0.00988 empirical\n",
       "23 Synechococcus_sp_WH7803     15N       2 1.714          0.01358 empirical\n",
       "24 Synechococcus_sp_WH7803     15N       2 1.717          0.01975 empirical\n",
       "25 Synechococcus_sp_WH7803     15N       2 1.719          0.00864 empirical\n",
       "26 Synechococcus_sp_WH7803     15N       2 1.728          0.07407 empirical\n",
       "27 Synechococcus_sp_WH7803     15N       2 1.732          0.41481 empirical\n",
       "28 Synechococcus_sp_WH7803     15N       2 1.735          1.00000 empirical\n",
       "29 Synechococcus_sp_WH7803     15N       2 1.738          0.22593 empirical\n",
       "30 Synechococcus_sp_WH7803     15N       2 1.742          0.03704 empirical\n",
       "31 Synechococcus_sp_WH7803     15N       2 1.747          0.01358 empirical\n",
       "32 Synechococcus_sp_WH7803     15N       2 1.752          0.00494 empirical\n",
       "33 Synechococcus_sp_WH7803     15N       2 1.758          0.00000 empirical\n",
       "        Study\n",
       "1  Wawrik2009\n",
       "2  Wawrik2009\n",
       "3  Wawrik2009\n",
       "4  Wawrik2009\n",
       "5  Wawrik2009\n",
       "6  Wawrik2009\n",
       "7  Wawrik2009\n",
       "8  Wawrik2009\n",
       "9  Wawrik2009\n",
       "10 Wawrik2009\n",
       "11 Wawrik2009\n",
       "12 Wawrik2009\n",
       "13 Wawrik2009\n",
       "14 Wawrik2009\n",
       "15 Wawrik2009\n",
       "16 Wawrik2009\n",
       "17 Wawrik2009\n",
       "18 Wawrik2009\n",
       "19 Wawrik2009\n",
       "20 Wawrik2009\n",
       "21 Wawrik2009\n",
       "22 Wawrik2009\n",
       "23 Wawrik2009\n",
       "24 Wawrik2009\n",
       "25 Wawrik2009\n",
       "26 Wawrik2009\n",
       "27 Wawrik2009\n",
       "28 Wawrik2009\n",
       "29 Wawrik2009\n",
       "30 Wawrik2009\n",
       "31 Wawrik2009\n",
       "32 Wawrik2009\n",
       "33 Wawrik2009\n"
      ]
     },
     "metadata": {},
     "output_type": "display_data"
    }
   ],
   "source": [
    "%%R\n",
    "real.df = read.table('/home/sam/data/SIPSim2_data/dev/validation/figure_estimates.txt', \n",
    "                          header=TRUE, sep=\"\\t\") %>%\n",
    "    filter(Study == \"Wawrik2009\") %>%\n",
    "    mutate(BD = round(BD, digits=3), data_type = \"empirical\") %>%\n",
    "    select(taxon_name, Isotope, library, BD, Ratio_of_maximum, data_type, Study)\n",
    "\n",
    "real.df"
   ]
  },
  {
   "cell_type": "code",
   "execution_count": 29,
   "metadata": {},
   "outputs": [
    {
     "data": {
      "text/plain": [
       "                taxon_name Isotope library      Study\n",
       "1  Synechococcus_sp_WH7803     14N       1 Wawrik2009\n",
       "15 Synechococcus_sp_WH7803     15N       2 Wawrik2009\n"
      ]
     },
     "metadata": {},
     "output_type": "display_data"
    }
   ],
   "source": [
    "%%R\n",
    "metadata = real.df %>%\n",
    "    select(taxon_name, Isotope, library, Study) %>%\n",
    "    unique\n",
    "metadata"
   ]
  },
  {
   "cell_type": "markdown",
   "metadata": {},
   "source": [
    "### metaSIPSim data\n",
    "Get the metaSIPSim simulated data and estimate the concentration of DNA from each reference as a ratio to the maximum concentration."
   ]
  },
  {
   "cell_type": "code",
   "execution_count": 30,
   "metadata": {},
   "outputs": [],
   "source": [
    "frag_table = pd.DataFrame(columns=['taxon_name', 'library', 'OriBD', \n",
    "                                   'percent_incorp', 'abundance',\n",
    "                                   'fragment_start', 'fragment_length'])\n",
    "for file in os.listdir(workdir):\n",
    "    if file.endswith('fragments.txt.gz'):\n",
    "        fraction = file.split('_')[3]\n",
    "        frag_table_sub = pd.read_table(file, compression='gzip')\n",
    "        frag_table_sub['fraction'] = fraction\n",
    "        frag_table = frag_table.append(frag_table_sub, ignore_index=True)\n",
    "        \n",
    "frag_table.to_csv('allfragments.txt', sep='\\t', index=False)\n",
    "frag_table = None"
   ]
  },
  {
   "cell_type": "code",
   "execution_count": 31,
   "metadata": {},
   "outputs": [
    {
     "data": {
      "text/plain": [
       "     OriBD   abundance fraction fragment_length fragment_start library\n",
       "1 1.720536 0.002145600        3            6053              0       1\n",
       "2 1.720190 0.002137426        3            9502           6054       1\n",
       "3 1.717661 0.002079615        3            8073          15557       1\n",
       "4 1.718907 0.002107643        3            7528          23631       1\n",
       "5 1.720051 0.002134159        3            7267          31160       1\n",
       "6 1.720141 0.002136257        3            8801          38428       1\n",
       "  percent_incorp                                                scaffoldID\n",
       "1              0 NC_009481.1 Synechococcus WH7803 complete genome sequence\n",
       "2              0 NC_009481.1 Synechococcus WH7803 complete genome sequence\n",
       "3              0 NC_009481.1 Synechococcus WH7803 complete genome sequence\n",
       "4              0 NC_009481.1 Synechococcus WH7803 complete genome sequence\n",
       "5              0 NC_009481.1 Synechococcus WH7803 complete genome sequence\n",
       "6              0 NC_009481.1 Synechococcus WH7803 complete genome sequence\n",
       "               taxon_name\n",
       "1 Synechococcus_sp_WH7803\n",
       "2 Synechococcus_sp_WH7803\n",
       "3 Synechococcus_sp_WH7803\n",
       "4 Synechococcus_sp_WH7803\n",
       "5 Synechococcus_sp_WH7803\n",
       "6 Synechococcus_sp_WH7803\n"
      ]
     },
     "metadata": {},
     "output_type": "display_data"
    }
   ],
   "source": [
    "%%R\n",
    "frag.df = read.delim('allfragments.txt') %>%\n",
    "    filter(abundance > 0)\n",
    "\n",
    "head(frag.df)"
   ]
  },
  {
   "cell_type": "code",
   "execution_count": 32,
   "metadata": {},
   "outputs": [
    {
     "data": {
      "text/plain": [
       "                taxon_name fraction library DNA_abundance\n",
       "1  Synechococcus_sp_WH7803        1       1  1.367830e+06\n",
       "2  Synechococcus_sp_WH7803        1       2  1.218847e+06\n",
       "3  Synechococcus_sp_WH7803        2       1  3.586450e+07\n",
       "4  Synechococcus_sp_WH7803        2       2  7.109939e+05\n",
       "5  Synechococcus_sp_WH7803        3       1  1.636552e+07\n",
       "6  Synechococcus_sp_WH7803        3       2  3.047117e+05\n",
       "7  Synechococcus_sp_WH7803        4       1  1.244773e+08\n",
       "8  Synechococcus_sp_WH7803        4       2  5.078528e+05\n",
       "9  Synechococcus_sp_WH7803        5       1  3.295307e+08\n",
       "10 Synechococcus_sp_WH7803        5       2  7.109939e+05\n",
       "11 Synechococcus_sp_WH7803        6       1  5.787100e+08\n",
       "12 Synechococcus_sp_WH7803        6       2  7.109939e+05\n",
       "13 Synechococcus_sp_WH7803        7       1  2.806422e+09\n",
       "14 Synechococcus_sp_WH7803        7       2  3.320420e+06\n",
       "15 Synechococcus_sp_WH7803        8       1  1.254372e+10\n",
       "16 Synechococcus_sp_WH7803        8       2  2.923669e+07\n",
       "17 Synechococcus_sp_WH7803        9       1  7.032092e+09\n",
       "18 Synechococcus_sp_WH7803        9       2  1.380894e+07\n",
       "19 Synechococcus_sp_WH7803       10       1  1.813065e+08\n",
       "20 Synechococcus_sp_WH7803       10       2  3.329373e+07\n",
       "21 Synechococcus_sp_WH7803       11       1  8.338315e+05\n",
       "22 Synechococcus_sp_WH7803       11       2  3.660081e+08\n",
       "23 Synechococcus_sp_WH7803       12       1  7.504483e+05\n",
       "24 Synechococcus_sp_WH7803       12       2  1.316244e+09\n",
       "25 Synechococcus_sp_WH7803       13       1  5.836820e+05\n",
       "26 Synechococcus_sp_WH7803       13       2  4.136409e+09\n",
       "27 Synechococcus_sp_WH7803       14       1  5.002989e+05\n",
       "28 Synechococcus_sp_WH7803       14       2  8.949781e+09\n",
       "29 Synechococcus_sp_WH7803       15       2  8.196873e+09\n",
       "30 Synechococcus_sp_WH7803       16       2  6.053131e+08\n",
       "31 Synechococcus_sp_WH7803       17       2  1.015706e+06\n",
       "32 Synechococcus_sp_WH7803       18       2  1.117276e+06\n",
       "33 Synechococcus_sp_WH7803       19       2  1.218847e+06\n"
      ]
     },
     "metadata": {},
     "output_type": "display_data"
    }
   ],
   "source": [
    "%%R\n",
    "taxa.df = frag.df %>%\n",
    "    mutate(base_abundance = abundance*fragment_length) %>%\n",
    "    group_by(taxon_name, fraction, library) %>%\n",
    "    summarize(DNA_abundance = sum(base_abundance)) %>%\n",
    "    as.data.frame\n",
    "frag.df = NULL\n",
    "taxa.df"
   ]
  },
  {
   "cell_type": "code",
   "execution_count": 33,
   "metadata": {},
   "outputs": [
    {
     "name": "stderr",
     "output_type": "stream",
     "text": [
      "/home/sam/anaconda3/envs/SIPSim2_py2/lib/python2.7/site-packages/rpy2/rinterface/__init__.py:186: RRuntimeWarning: Joining, by = c(\"fraction\", \"library\")\n",
      "\n",
      "  warnings.warn(x, RRuntimeWarning)\n"
     ]
    },
    {
     "data": {
      "text/plain": [
       "                taxon_name fraction library DNA_abundance      BD\n",
       "1  Synechococcus_sp_WH7803        1       1  1.367830e+06 1.69000\n",
       "2  Synechococcus_sp_WH7803        1       2  1.218847e+06 1.69000\n",
       "3  Synechococcus_sp_WH7803        2       1  3.586450e+07 1.69525\n",
       "4  Synechococcus_sp_WH7803        2       2  7.109939e+05 1.69475\n",
       "5  Synechococcus_sp_WH7803        3       1  1.636552e+07 1.69900\n",
       "6  Synechococcus_sp_WH7803        3       2  3.047117e+05 1.69725\n",
       "7  Synechococcus_sp_WH7803        4       1  1.244773e+08 1.70225\n",
       "8  Synechococcus_sp_WH7803        4       2  5.078528e+05 1.69925\n",
       "9  Synechococcus_sp_WH7803        5       1  3.295307e+08 1.70600\n",
       "10 Synechococcus_sp_WH7803        5       2  7.109939e+05 1.70225\n",
       "11 Synechococcus_sp_WH7803        6       1  5.787100e+08 1.71000\n",
       "12 Synechococcus_sp_WH7803        6       2  7.109939e+05 1.70575\n",
       "13 Synechococcus_sp_WH7803        7       1  2.806422e+09 1.71425\n",
       "14 Synechococcus_sp_WH7803        7       2  3.320420e+06 1.70900\n",
       "15 Synechococcus_sp_WH7803        8       1  1.254372e+10 1.71875\n",
       "16 Synechococcus_sp_WH7803        8       2  2.923669e+07 1.71175\n",
       "17 Synechococcus_sp_WH7803        9       1  7.032092e+09 1.72300\n",
       "18 Synechococcus_sp_WH7803        9       2  1.380894e+07 1.71425\n",
       "19 Synechococcus_sp_WH7803       10       1  1.813065e+08 1.72725\n",
       "20 Synechococcus_sp_WH7803       10       2  3.329373e+07 1.71675\n",
       "21 Synechococcus_sp_WH7803       11       1  8.338315e+05 1.73200\n",
       "22 Synechococcus_sp_WH7803       11       2  3.660081e+08 1.72075\n",
       "23 Synechococcus_sp_WH7803       12       1  7.504483e+05 1.73675\n",
       "24 Synechococcus_sp_WH7803       12       2  1.316244e+09 1.72675\n",
       "25 Synechococcus_sp_WH7803       13       1  5.836820e+05 1.74075\n",
       "26 Synechococcus_sp_WH7803       13       2  4.136409e+09 1.73175\n",
       "27 Synechococcus_sp_WH7803       14       1  5.002989e+05 1.74400\n",
       "28 Synechococcus_sp_WH7803       14       2  8.949781e+09 1.73500\n",
       "29 Synechococcus_sp_WH7803       15       2  8.196873e+09 1.73825\n",
       "30 Synechococcus_sp_WH7803       16       2  6.053131e+08 1.74225\n",
       "31 Synechococcus_sp_WH7803       17       2  1.015706e+06 1.74700\n",
       "32 Synechococcus_sp_WH7803       18       2  1.117276e+06 1.75225\n",
       "33 Synechococcus_sp_WH7803       19       2  1.218847e+06 1.75800\n"
      ]
     },
     "metadata": {},
     "output_type": "display_data"
    }
   ],
   "source": [
    "%%R\n",
    "fracs.df = read.delim('fracs.txt') %>%\n",
    "    mutate(BD = (BD_min + BD_max)/2) %>%\n",
    "    select(library, fraction, BD)\n",
    "taxa.df = inner_join(taxa.df, fracs.df)\n",
    "taxa.df"
   ]
  },
  {
   "cell_type": "code",
   "execution_count": 34,
   "metadata": {},
   "outputs": [
    {
     "name": "stderr",
     "output_type": "stream",
     "text": [
      "/home/sam/anaconda3/envs/SIPSim2_py2/lib/python2.7/site-packages/rpy2/rinterface/__init__.py:186: RRuntimeWarning: Joining, by = c(\"taxon_name\", \"library\")\n",
      "\n",
      "  warnings.warn(x, RRuntimeWarning)\n"
     ]
    },
    {
     "data": {
      "text/plain": [
       "                taxon_name fraction library DNA_abundance      BD     max_DNA\n",
       "1  Synechococcus_sp_WH7803        1       1  1.367830e+06 1.69000 12543722065\n",
       "2  Synechococcus_sp_WH7803        1       2  1.218847e+06 1.69000  8949780562\n",
       "3  Synechococcus_sp_WH7803        2       1  3.586450e+07 1.69525 12543722065\n",
       "4  Synechococcus_sp_WH7803        2       2  7.109939e+05 1.69475  8949780562\n",
       "5  Synechococcus_sp_WH7803        3       1  1.636552e+07 1.69900 12543722065\n",
       "6  Synechococcus_sp_WH7803        3       2  3.047117e+05 1.69725  8949780562\n",
       "7  Synechococcus_sp_WH7803        4       1  1.244773e+08 1.70225 12543722065\n",
       "8  Synechococcus_sp_WH7803        4       2  5.078528e+05 1.69925  8949780562\n",
       "9  Synechococcus_sp_WH7803        5       1  3.295307e+08 1.70600 12543722065\n",
       "10 Synechococcus_sp_WH7803        5       2  7.109939e+05 1.70225  8949780562\n",
       "11 Synechococcus_sp_WH7803        6       1  5.787100e+08 1.71000 12543722065\n",
       "12 Synechococcus_sp_WH7803        6       2  7.109939e+05 1.70575  8949780562\n",
       "13 Synechococcus_sp_WH7803        7       1  2.806422e+09 1.71425 12543722065\n",
       "14 Synechococcus_sp_WH7803        7       2  3.320420e+06 1.70900  8949780562\n",
       "15 Synechococcus_sp_WH7803        8       1  1.254372e+10 1.71875 12543722065\n",
       "16 Synechococcus_sp_WH7803        8       2  2.923669e+07 1.71175  8949780562\n",
       "17 Synechococcus_sp_WH7803        9       1  7.032092e+09 1.72300 12543722065\n",
       "18 Synechococcus_sp_WH7803        9       2  1.380894e+07 1.71425  8949780562\n",
       "19 Synechococcus_sp_WH7803       10       1  1.813065e+08 1.72725 12543722065\n",
       "20 Synechococcus_sp_WH7803       10       2  3.329373e+07 1.71675  8949780562\n",
       "21 Synechococcus_sp_WH7803       11       1  8.338315e+05 1.73200 12543722065\n",
       "22 Synechococcus_sp_WH7803       11       2  3.660081e+08 1.72075  8949780562\n",
       "23 Synechococcus_sp_WH7803       12       1  7.504483e+05 1.73675 12543722065\n",
       "24 Synechococcus_sp_WH7803       12       2  1.316244e+09 1.72675  8949780562\n",
       "25 Synechococcus_sp_WH7803       13       1  5.836820e+05 1.74075 12543722065\n",
       "26 Synechococcus_sp_WH7803       13       2  4.136409e+09 1.73175  8949780562\n",
       "27 Synechococcus_sp_WH7803       14       1  5.002989e+05 1.74400 12543722065\n",
       "28 Synechococcus_sp_WH7803       14       2  8.949781e+09 1.73500  8949780562\n",
       "29 Synechococcus_sp_WH7803       15       2  8.196873e+09 1.73825  8949780562\n",
       "30 Synechococcus_sp_WH7803       16       2  6.053131e+08 1.74225  8949780562\n",
       "31 Synechococcus_sp_WH7803       17       2  1.015706e+06 1.74700  8949780562\n",
       "32 Synechococcus_sp_WH7803       18       2  1.117276e+06 1.75225  8949780562\n",
       "33 Synechococcus_sp_WH7803       19       2  1.218847e+06 1.75800  8949780562\n",
       "   Ratio_of_maximum\n",
       "1      1.090450e-04\n",
       "2      1.361873e-04\n",
       "3      2.859159e-03\n",
       "4      7.944261e-05\n",
       "5      1.304678e-03\n",
       "6      3.404683e-05\n",
       "7      9.923471e-03\n",
       "8      5.674472e-05\n",
       "9      2.627057e-02\n",
       "10     7.944261e-05\n",
       "11     4.613543e-02\n",
       "12     7.944261e-05\n",
       "13     2.237312e-01\n",
       "14     3.710057e-04\n",
       "15     1.000000e+00\n",
       "16     3.266749e-03\n",
       "17     5.606065e-01\n",
       "18     1.542936e-03\n",
       "19     1.445396e-02\n",
       "20     3.720061e-03\n",
       "21     6.647401e-05\n",
       "22     4.089576e-02\n",
       "23     5.982661e-05\n",
       "24     1.470700e-01\n",
       "25     4.653181e-05\n",
       "26     4.621799e-01\n",
       "27     3.988441e-05\n",
       "28     1.000000e+00\n",
       "29     9.158742e-01\n",
       "30     6.763440e-02\n",
       "31     1.134894e-04\n",
       "32     1.248384e-04\n",
       "33     1.361873e-04\n"
      ]
     },
     "metadata": {},
     "output_type": "display_data"
    }
   ],
   "source": [
    "%%R\n",
    "max.abds = taxa.df %>%\n",
    "    group_by(library, taxon_name) %>%\n",
    "    summarize(max_DNA = max(DNA_abundance)) %>%\n",
    "    as.data.frame\n",
    "\n",
    "taxa.df = inner_join(taxa.df, max.abds) %>%\n",
    "    mutate(Ratio_of_maximum = DNA_abundance/max_DNA)\n",
    "taxa.df"
   ]
  },
  {
   "cell_type": "code",
   "execution_count": 35,
   "metadata": {},
   "outputs": [
    {
     "data": {
      "text/plain": [
       "                taxon_name Isotope library      BD Ratio_of_maximum  data_type\n",
       "1  Synechococcus_sp_WH7803     14N       1 1.69000     1.090450e-04 metaSIPSim\n",
       "2  Synechococcus_sp_WH7803     15N       2 1.69000     1.361873e-04 metaSIPSim\n",
       "3  Synechococcus_sp_WH7803     14N       1 1.69525     2.859159e-03 metaSIPSim\n",
       "4  Synechococcus_sp_WH7803     15N       2 1.69475     7.944261e-05 metaSIPSim\n",
       "5  Synechococcus_sp_WH7803     14N       1 1.69900     1.304678e-03 metaSIPSim\n",
       "6  Synechococcus_sp_WH7803     15N       2 1.69725     3.404683e-05 metaSIPSim\n",
       "7  Synechococcus_sp_WH7803     14N       1 1.70225     9.923471e-03 metaSIPSim\n",
       "8  Synechococcus_sp_WH7803     15N       2 1.69925     5.674472e-05 metaSIPSim\n",
       "9  Synechococcus_sp_WH7803     14N       1 1.70600     2.627057e-02 metaSIPSim\n",
       "10 Synechococcus_sp_WH7803     15N       2 1.70225     7.944261e-05 metaSIPSim\n",
       "11 Synechococcus_sp_WH7803     14N       1 1.71000     4.613543e-02 metaSIPSim\n",
       "12 Synechococcus_sp_WH7803     15N       2 1.70575     7.944261e-05 metaSIPSim\n",
       "13 Synechococcus_sp_WH7803     14N       1 1.71425     2.237312e-01 metaSIPSim\n",
       "14 Synechococcus_sp_WH7803     15N       2 1.70900     3.710057e-04 metaSIPSim\n",
       "15 Synechococcus_sp_WH7803     14N       1 1.71875     1.000000e+00 metaSIPSim\n",
       "16 Synechococcus_sp_WH7803     15N       2 1.71175     3.266749e-03 metaSIPSim\n",
       "17 Synechococcus_sp_WH7803     14N       1 1.72300     5.606065e-01 metaSIPSim\n",
       "18 Synechococcus_sp_WH7803     15N       2 1.71425     1.542936e-03 metaSIPSim\n",
       "19 Synechococcus_sp_WH7803     14N       1 1.72725     1.445396e-02 metaSIPSim\n",
       "20 Synechococcus_sp_WH7803     15N       2 1.71675     3.720061e-03 metaSIPSim\n",
       "21 Synechococcus_sp_WH7803     14N       1 1.73200     6.647401e-05 metaSIPSim\n",
       "22 Synechococcus_sp_WH7803     15N       2 1.72075     4.089576e-02 metaSIPSim\n",
       "23 Synechococcus_sp_WH7803     14N       1 1.73675     5.982661e-05 metaSIPSim\n",
       "24 Synechococcus_sp_WH7803     15N       2 1.72675     1.470700e-01 metaSIPSim\n",
       "25 Synechococcus_sp_WH7803     14N       1 1.74075     4.653181e-05 metaSIPSim\n",
       "26 Synechococcus_sp_WH7803     15N       2 1.73175     4.621799e-01 metaSIPSim\n",
       "27 Synechococcus_sp_WH7803     14N       1 1.74400     3.988441e-05 metaSIPSim\n",
       "28 Synechococcus_sp_WH7803     15N       2 1.73500     1.000000e+00 metaSIPSim\n",
       "29 Synechococcus_sp_WH7803     15N       2 1.73825     9.158742e-01 metaSIPSim\n",
       "30 Synechococcus_sp_WH7803     15N       2 1.74225     6.763440e-02 metaSIPSim\n",
       "31 Synechococcus_sp_WH7803     15N       2 1.74700     1.134894e-04 metaSIPSim\n",
       "32 Synechococcus_sp_WH7803     15N       2 1.75225     1.248384e-04 metaSIPSim\n",
       "33 Synechococcus_sp_WH7803     15N       2 1.75800     1.361873e-04 metaSIPSim\n",
       "        Study\n",
       "1  Wawrik2009\n",
       "2  Wawrik2009\n",
       "3  Wawrik2009\n",
       "4  Wawrik2009\n",
       "5  Wawrik2009\n",
       "6  Wawrik2009\n",
       "7  Wawrik2009\n",
       "8  Wawrik2009\n",
       "9  Wawrik2009\n",
       "10 Wawrik2009\n",
       "11 Wawrik2009\n",
       "12 Wawrik2009\n",
       "13 Wawrik2009\n",
       "14 Wawrik2009\n",
       "15 Wawrik2009\n",
       "16 Wawrik2009\n",
       "17 Wawrik2009\n",
       "18 Wawrik2009\n",
       "19 Wawrik2009\n",
       "20 Wawrik2009\n",
       "21 Wawrik2009\n",
       "22 Wawrik2009\n",
       "23 Wawrik2009\n",
       "24 Wawrik2009\n",
       "25 Wawrik2009\n",
       "26 Wawrik2009\n",
       "27 Wawrik2009\n",
       "28 Wawrik2009\n",
       "29 Wawrik2009\n",
       "30 Wawrik2009\n",
       "31 Wawrik2009\n",
       "32 Wawrik2009\n",
       "33 Wawrik2009\n"
      ]
     },
     "metadata": {},
     "output_type": "display_data"
    }
   ],
   "source": [
    "%%R\n",
    "## Make dataframe that you can combine with original leuders data as well as SIPSim data. Write this to a file.\n",
    "metaSIPSim.df = taxa.df %>%\n",
    "    left_join(metadata, by=c(\"taxon_name\", \"library\")) %>%\n",
    "    mutate(data_type = \"metaSIPSim\") %>%\n",
    "    select(taxon_name, Isotope, library, BD, Ratio_of_maximum, data_type, Study)\n",
    "\n",
    "write.table(metaSIPSim.df, file=\"/home/sam/data/SIPSim2_data/dev/validation/Wawrik2009/sim_DNA_conc_metaSIPSim.txt\", \n",
    "            quote=FALSE, sep=\"\\t\", col.names=TRUE, row.names=FALSE)\n",
    "\n",
    "metaSIPSim.df"
   ]
  },
  {
   "cell_type": "markdown",
   "metadata": {},
   "source": [
    "### Get SIPSim data\n",
    "\n",
    "Get the SIPSim simulated data (OTU table) and estimate the DNA abundance for each reference as a ratio to the maximum abundance"
   ]
  },
  {
   "cell_type": "code",
   "execution_count": 36,
   "metadata": {},
   "outputs": [
    {
     "data": {
      "text/plain": [
       "   library              taxon_name    BD count\n",
       "1        1 Synechococcus_sp_WH7803 1.690    25\n",
       "2        1 Synechococcus_sp_WH7803 1.696   119\n",
       "3        1 Synechococcus_sp_WH7803 1.699   211\n",
       "4        1 Synechococcus_sp_WH7803 1.702   628\n",
       "5        1 Synechococcus_sp_WH7803 1.706  1547\n",
       "6        1 Synechococcus_sp_WH7803 1.710  3882\n",
       "7        1 Synechococcus_sp_WH7803 1.714 17619\n",
       "8        1 Synechococcus_sp_WH7803 1.719 41165\n",
       "9        1 Synechococcus_sp_WH7803 1.723 27594\n",
       "10       1 Synechococcus_sp_WH7803 1.728  6727\n",
       "11       1 Synechococcus_sp_WH7803 1.732   406\n",
       "12       1 Synechococcus_sp_WH7803 1.736    11\n",
       "13       1 Synechococcus_sp_WH7803 1.740     5\n",
       "14       2 Synechococcus_sp_WH7803 1.690     3\n",
       "15       2 Synechococcus_sp_WH7803 1.695     3\n",
       "16       2 Synechococcus_sp_WH7803 1.697     3\n",
       "17       2 Synechococcus_sp_WH7803 1.699     1\n",
       "18       2 Synechococcus_sp_WH7803 1.706    13\n",
       "19       2 Synechococcus_sp_WH7803 1.709    44\n",
       "20       2 Synechococcus_sp_WH7803 1.712    70\n",
       "21       2 Synechococcus_sp_WH7803 1.715   129\n",
       "22       2 Synechococcus_sp_WH7803 1.717   311\n",
       "23       2 Synechococcus_sp_WH7803 1.721  1716\n",
       "24       2 Synechococcus_sp_WH7803 1.727  9260\n",
       "25       2 Synechococcus_sp_WH7803 1.732 19933\n",
       "26       2 Synechococcus_sp_WH7803 1.735 28669\n",
       "27       2 Synechococcus_sp_WH7803 1.738 28040\n",
       "28       2 Synechococcus_sp_WH7803 1.742 10965\n",
       "29       2 Synechococcus_sp_WH7803 1.747   783\n",
       "30       2 Synechococcus_sp_WH7803 1.752    21\n",
       "31       2 Synechococcus_sp_WH7803 1.758     8\n"
      ]
     },
     "metadata": {},
     "output_type": "display_data"
    }
   ],
   "source": [
    "%%R\n",
    "SIPSim.df = read.delim('Wawrik_SIPsim_OTU.txt') %>%\n",
    "    filter(BD_min != \"-Inf\", BD_max != \"Inf\") %>%\n",
    "    select(library, taxon, BD_mid, count) %>%\n",
    "    rename(BD=BD_mid, taxon_name = taxon)\n",
    "\n",
    "SIPSim.df"
   ]
  },
  {
   "cell_type": "code",
   "execution_count": 37,
   "metadata": {},
   "outputs": [
    {
     "name": "stderr",
     "output_type": "stream",
     "text": [
      "/home/sam/anaconda3/envs/SIPSim2_py2/lib/python2.7/site-packages/rpy2/rinterface/__init__.py:186: RRuntimeWarning: Joining, by = c(\"library\", \"taxon_name\")\n",
      "\n",
      "  warnings.warn(x, RRuntimeWarning)\n"
     ]
    },
    {
     "data": {
      "text/plain": [
       "                taxon_name Isotope library    BD Ratio_of_maximum data_type\n",
       "1  Synechococcus_sp_WH7803     14N       1 1.690     6.073120e-04    SIPSim\n",
       "2  Synechococcus_sp_WH7803     14N       1 1.696     2.890805e-03    SIPSim\n",
       "3  Synechococcus_sp_WH7803     14N       1 1.699     5.125714e-03    SIPSim\n",
       "4  Synechococcus_sp_WH7803     14N       1 1.702     1.525568e-02    SIPSim\n",
       "5  Synechococcus_sp_WH7803     14N       1 1.706     3.758047e-02    SIPSim\n",
       "6  Synechococcus_sp_WH7803     14N       1 1.710     9.430341e-02    SIPSim\n",
       "7  Synechococcus_sp_WH7803     14N       1 1.714     4.280092e-01    SIPSim\n",
       "8  Synechococcus_sp_WH7803     14N       1 1.719     1.000000e+00    SIPSim\n",
       "9  Synechococcus_sp_WH7803     14N       1 1.723     6.703267e-01    SIPSim\n",
       "10 Synechococcus_sp_WH7803     14N       1 1.728     1.634155e-01    SIPSim\n",
       "11 Synechococcus_sp_WH7803     14N       1 1.732     9.862747e-03    SIPSim\n",
       "12 Synechococcus_sp_WH7803     14N       1 1.736     2.672173e-04    SIPSim\n",
       "13 Synechococcus_sp_WH7803     14N       1 1.740     1.214624e-04    SIPSim\n",
       "14 Synechococcus_sp_WH7803     15N       2 1.690     1.046426e-04    SIPSim\n",
       "15 Synechococcus_sp_WH7803     15N       2 1.695     1.046426e-04    SIPSim\n",
       "16 Synechococcus_sp_WH7803     15N       2 1.697     1.046426e-04    SIPSim\n",
       "17 Synechococcus_sp_WH7803     15N       2 1.699     3.488088e-05    SIPSim\n",
       "18 Synechococcus_sp_WH7803     15N       2 1.706     4.534515e-04    SIPSim\n",
       "19 Synechococcus_sp_WH7803     15N       2 1.709     1.534759e-03    SIPSim\n",
       "20 Synechococcus_sp_WH7803     15N       2 1.712     2.441662e-03    SIPSim\n",
       "21 Synechococcus_sp_WH7803     15N       2 1.715     4.499634e-03    SIPSim\n",
       "22 Synechococcus_sp_WH7803     15N       2 1.717     1.084795e-02    SIPSim\n",
       "23 Synechococcus_sp_WH7803     15N       2 1.721     5.985559e-02    SIPSim\n",
       "24 Synechococcus_sp_WH7803     15N       2 1.727     3.229970e-01    SIPSim\n",
       "25 Synechococcus_sp_WH7803     15N       2 1.732     6.952806e-01    SIPSim\n",
       "26 Synechococcus_sp_WH7803     15N       2 1.735     1.000000e+00    SIPSim\n",
       "27 Synechococcus_sp_WH7803     15N       2 1.738     9.780599e-01    SIPSim\n",
       "28 Synechococcus_sp_WH7803     15N       2 1.742     3.824689e-01    SIPSim\n",
       "29 Synechococcus_sp_WH7803     15N       2 1.747     2.731173e-02    SIPSim\n",
       "30 Synechococcus_sp_WH7803     15N       2 1.752     7.324985e-04    SIPSim\n",
       "31 Synechococcus_sp_WH7803     15N       2 1.758     2.790471e-04    SIPSim\n",
       "        Study\n",
       "1  Wawrik2009\n",
       "2  Wawrik2009\n",
       "3  Wawrik2009\n",
       "4  Wawrik2009\n",
       "5  Wawrik2009\n",
       "6  Wawrik2009\n",
       "7  Wawrik2009\n",
       "8  Wawrik2009\n",
       "9  Wawrik2009\n",
       "10 Wawrik2009\n",
       "11 Wawrik2009\n",
       "12 Wawrik2009\n",
       "13 Wawrik2009\n",
       "14 Wawrik2009\n",
       "15 Wawrik2009\n",
       "16 Wawrik2009\n",
       "17 Wawrik2009\n",
       "18 Wawrik2009\n",
       "19 Wawrik2009\n",
       "20 Wawrik2009\n",
       "21 Wawrik2009\n",
       "22 Wawrik2009\n",
       "23 Wawrik2009\n",
       "24 Wawrik2009\n",
       "25 Wawrik2009\n",
       "26 Wawrik2009\n",
       "27 Wawrik2009\n",
       "28 Wawrik2009\n",
       "29 Wawrik2009\n",
       "30 Wawrik2009\n",
       "31 Wawrik2009\n"
      ]
     },
     "metadata": {},
     "output_type": "display_data"
    }
   ],
   "source": [
    "%%R\n",
    "max_count = SIPSim.df %>%\n",
    "    group_by(library, taxon_name) %>%\n",
    "    summarize(max_count = max(count)) %>%\n",
    "    as.data.frame\n",
    "\n",
    "SIPSim.df = inner_join(SIPSim.df, max_count) %>%\n",
    "    mutate(Ratio_of_maximum = count/max_count) %>%\n",
    "    inner_join(metadata, by=c(\"taxon_name\", \"library\")) %>%\n",
    "    mutate(data_type = \"SIPSim\") %>%\n",
    "    select(taxon_name, Isotope, library, BD, Ratio_of_maximum, data_type, Study)\n",
    "\n",
    "write.table(SIPSim.df, file=\"/home/sam/data/SIPSim2_data/dev/validation/Wawrik2009/sim_DNA_conc_SIPSim.txt\", \n",
    "            quote=FALSE, sep=\"\\t\", col.names=TRUE, row.names=FALSE)\n",
    "\n",
    "SIPSim.df"
   ]
  },
  {
   "cell_type": "markdown",
   "metadata": {},
   "source": [
    "### Combine data into one dataframe"
   ]
  },
  {
   "cell_type": "code",
   "execution_count": 38,
   "metadata": {},
   "outputs": [
    {
     "data": {
      "text/plain": [
       "               taxon_name Isotope library      BD Ratio_of_maximum  data_type\n",
       "1 Synechococcus_sp_WH7803     14N       1 1.69000     1.090450e-04 metaSIPSim\n",
       "2 Synechococcus_sp_WH7803     15N       2 1.69000     1.361873e-04 metaSIPSim\n",
       "3 Synechococcus_sp_WH7803     14N       1 1.69525     2.859159e-03 metaSIPSim\n",
       "4 Synechococcus_sp_WH7803     15N       2 1.69475     7.944261e-05 metaSIPSim\n",
       "5 Synechococcus_sp_WH7803     14N       1 1.69900     1.304678e-03 metaSIPSim\n",
       "6 Synechococcus_sp_WH7803     15N       2 1.69725     3.404683e-05 metaSIPSim\n",
       "       Study\n",
       "1 Wawrik2009\n",
       "2 Wawrik2009\n",
       "3 Wawrik2009\n",
       "4 Wawrik2009\n",
       "5 Wawrik2009\n",
       "6 Wawrik2009\n"
      ]
     },
     "metadata": {},
     "output_type": "display_data"
    }
   ],
   "source": [
    "%%R\n",
    "full.df = rbind(metaSIPSim.df, SIPSim.df, real.df)\n",
    "write.table(full.df, file=\"/home/sam/data/SIPSim2_data/dev/validation/Wawrik2009/DNA_conc_all_sets.txt\", \n",
    "            quote=FALSE, sep=\"\\t\", col.names=TRUE, row.names=FALSE)\n",
    "\n",
    "head(full.df)"
   ]
  },
  {
   "cell_type": "markdown",
   "metadata": {},
   "source": [
    "### Plots"
   ]
  },
  {
   "cell_type": "code",
   "execution_count": 39,
   "metadata": {},
   "outputs": [
    {
     "data": {
      "image/png": "[encoded data removed]"
     },
     "metadata": {},
     "output_type": "display_data"
    }
   ],
   "source": [
    "%%R -h 350 -w 750\n",
    "\n",
    "SIPSim2.plot = ggplot(data=metaSIPSim.df, aes(x=BD, y=Ratio_of_maximum, color=Isotope)) +\n",
    "    geom_point() +\n",
    "    geom_line() +\n",
    "    xlim(1.688, 1.76)\n",
    "SIPSim2.plot"
   ]
  },
  {
   "cell_type": "code",
   "execution_count": 40,
   "metadata": {},
   "outputs": [
    {
     "data": {
      "image/png": "[encoded data removed]"
     },
     "metadata": {},
     "output_type": "display_data"
    }
   ],
   "source": [
    "%%R -h 350 -w 750\n",
    "\n",
    "SIPSim.plot = ggplot(data=SIPSim.df, aes(x=BD, y=Ratio_of_maximum, color=Isotope)) +\n",
    "    geom_point() +\n",
    "    geom_line() +\n",
    "    xlim(1.688, 1.76)\n",
    "SIPSim.plot"
   ]
  },
  {
   "cell_type": "code",
   "execution_count": 41,
   "metadata": {},
   "outputs": [
    {
     "data": {
      "image/png": "[encoded data removed]"
     },
     "metadata": {},
     "output_type": "display_data"
    }
   ],
   "source": [
    "%%R -h 350 -w 750\n",
    "real.plot = ggplot(data=real.df, aes(x=BD, y=Ratio_of_maximum, color=Isotope)) +\n",
    "    geom_point() +\n",
    "    geom_line() +\n",
    "    xlim(1.688, 1.76)\n",
    "\n",
    "real.plot"
   ]
  },
  {
   "cell_type": "code",
   "execution_count": 42,
   "metadata": {},
   "outputs": [
    {
     "data": {
      "image/png": "[encoded data removed]"
     },
     "metadata": {},
     "output_type": "display_data"
    }
   ],
   "source": [
    "%%R -h 350 -w 750\n",
    "full.plot = ggplot(data=full.df, aes(x=BD, y=Ratio_of_maximum, color=Isotope, \n",
    "                                     shape=data_type, linetype=data_type)) +\n",
    "    geom_point() +\n",
    "    geom_line() +\n",
    "    xlim(1.688, 1.76)\n",
    "\n",
    "full.plot"
   ]
  },
  {
   "cell_type": "markdown",
   "metadata": {
    "collapsed": true
   },
   "source": [
    "### Thats also pretty good\n",
    "\n"
   ]
  },
  {
   "cell_type": "code",
   "execution_count": null,
   "metadata": {},
   "outputs": [],
   "source": []
  }
 ],
 "metadata": {
  "kernelspec": {
   "display_name": "Python 2",
   "language": "python",
   "name": "python2"
  },
  "language_info": {
   "codemirror_mode": {
    "name": "ipython",
    "version": 2
   },
   "file_extension": ".py",
   "mimetype": "text/x-python",
   "name": "python",
   "nbconvert_exporter": "python",
   "pygments_lexer": "ipython2",
   "version": "2.7.15"
  }
 },
 "nbformat": 4,
 "nbformat_minor": 2
}
