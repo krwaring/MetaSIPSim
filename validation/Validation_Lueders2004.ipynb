{
 "cells": [
  {
   "cell_type": "markdown",
   "metadata": {},
   "source": [
    "# Validation against Lueders et al. 2004"
   ]
  },
  {
   "cell_type": "markdown",
   "metadata": {},
   "source": [
    "This notebook compares metaSIPSim simulation results against those of Lueders et al. 2004. Comparisons are made to figure 1A from said paper.\n",
    "\n",
    "For the simulation, I will be generating fragments only. I will estimate the amount of DNA from each genome in each fraction by multiplying fragment size by simulated abundance then summing within each genome.\n",
    "\n",
    "Lueders, T., Manefield, M. and Friedrich, M. W. (2004), Enhanced sensitivity of DNA- and rRNA-based stable isotope probing by fractionation and quantitative analysis of isopycnic centrifugation gradients. Environmental Microbiology, 6: 73–78. doi:10.1046/j.1462-2920.2003.00536.x"
   ]
  },
  {
   "cell_type": "markdown",
   "metadata": {},
   "source": [
    "## Intitiation"
   ]
  },
  {
   "cell_type": "code",
   "execution_count": 1,
   "metadata": {},
   "outputs": [],
   "source": [
    "import os\n",
    "import pandas as pd\n",
    "import ConfigParser\n",
    "import rpy2.ipython"
   ]
  },
  {
   "cell_type": "code",
   "execution_count": 2,
   "metadata": {},
   "outputs": [],
   "source": [
    "%load_ext rpy2.ipython"
   ]
  },
  {
   "cell_type": "code",
   "execution_count": 3,
   "metadata": {},
   "outputs": [
    {
     "name": "stderr",
     "output_type": "stream",
     "text": [
      "/home/sam/anaconda3/envs/SIPSim2_py2/lib/python2.7/site-packages/rpy2/rinterface/__init__.py:186: RRuntimeWarning: \n",
      "Attaching package: ‘dplyr’\n",
      "\n",
      "\n",
      "  warnings.warn(x, RRuntimeWarning)\n",
      "/home/sam/anaconda3/envs/SIPSim2_py2/lib/python2.7/site-packages/rpy2/rinterface/__init__.py:186: RRuntimeWarning: The following objects are masked from ‘package:stats’:\n",
      "\n",
      "    filter, lag\n",
      "\n",
      "\n",
      "  warnings.warn(x, RRuntimeWarning)\n",
      "/home/sam/anaconda3/envs/SIPSim2_py2/lib/python2.7/site-packages/rpy2/rinterface/__init__.py:186: RRuntimeWarning: The following objects are masked from ‘package:base’:\n",
      "\n",
      "    intersect, setdiff, setequal, union\n",
      "\n",
      "\n",
      "  warnings.warn(x, RRuntimeWarning)\n"
     ]
    }
   ],
   "source": [
    "%%R\n",
    "library(dplyr)\n",
    "library(ggplot2)"
   ]
  },
  {
   "cell_type": "code",
   "execution_count": 4,
   "metadata": {},
   "outputs": [],
   "source": [
    "# What is your working directory?\n",
    "workdir = '/home/sam/data/SIPSim2_data/dev/validation/Lueders2004/'\n",
    "\n",
    "# Where are your genomes?\n",
    "genomedir = '/home/sam/data/SIPSim2_data/dev/validation/Lueders2004/genomes/'\n",
    "\n"
   ]
  },
  {
   "cell_type": "code",
   "execution_count": 5,
   "metadata": {},
   "outputs": [
    {
     "name": "stdout",
     "output_type": "stream",
     "text": [
      "/home/sam/data/SIPSim2_data/dev/validation/Lueders2004\n",
      "/home/sam/data/SIPSim2_data/dev/validation/Lueders2004/genomes/\n"
     ]
    }
   ],
   "source": [
    "# making directories\n",
    "## working directory\n",
    "if not os.path.isdir(workdir):\n",
    "    os.makedirs(workdir)\n",
    "%cd $workdir\n",
    "\n",
    "## genome directory\n",
    "if not os.path.isdir(genomedir):\n",
    "    os.makedirs(genomedir)\n",
    "print(genomedir)"
   ]
  },
  {
   "cell_type": "markdown",
   "metadata": {},
   "source": [
    "## Part 1: Get genomes"
   ]
  },
  {
   "cell_type": "code",
   "execution_count": 6,
   "metadata": {},
   "outputs": [
    {
     "name": "stdout",
     "output_type": "stream",
     "text": [
      "/home/sam/data/SIPSim2_data/dev/validation/Lueders2004/genomes\n",
      "--2019-05-22 13:08:20--  ftp://ftp.ncbi.nlm.nih.gov/genomes/all/GCF/000/970/025/GCF_000970025.1_ASM97002v1/GCF_000970025.1_ASM97002v1_genomic.fna.gz\n",
      "           => ‘Methanosarcina_barkeri_MS.fna.gz’\n",
      "Resolving ftp.ncbi.nlm.nih.gov (ftp.ncbi.nlm.nih.gov)... 130.14.250.7, 2607:f220:41e:250::11\n",
      "Connecting to ftp.ncbi.nlm.nih.gov (ftp.ncbi.nlm.nih.gov)|130.14.250.7|:21... connected.\n",
      "Logging in as anonymous ... Logged in!\n",
      "==> SYST ... done.    ==> PWD ... done.\n",
      "==> TYPE I ... done.  ==> CWD (1) /genomes/all/GCF/000/970/025/GCF_000970025.1_ASM97002v1 ... done.\n",
      "==> SIZE GCF_000970025.1_ASM97002v1_genomic.fna.gz ... 1340774\n",
      "==> PASV ... done.    ==> RETR GCF_000970025.1_ASM97002v1_genomic.fna.gz ... done.\n",
      "Length: 1340774 (1.3M) (unauthoritative)\n",
      "\n",
      "GCF_000970025.1_ASM 100%[===================>]   1.28M  --.-KB/s    in 0.1s    \n",
      "\n",
      "2019-05-22 13:08:21 (9.91 MB/s) - ‘Methanosarcina_barkeri_MS.fna.gz’ saved [1340774]\n",
      "\n",
      "--2019-05-22 13:08:21--  ftp://ftp.ncbi.nlm.nih.gov/genomes/all/GCF/000/022/685/GCF_000022685.1_ASM2268v1/GCF_000022685.1_ASM2268v1_genomic.fna.gz\n",
      "           => ‘Methylobacterium_extorquens_AM1.fna.gz’\n",
      "Resolving ftp.ncbi.nlm.nih.gov (ftp.ncbi.nlm.nih.gov)... 130.14.250.10, 2607:f220:41e:250::11\n",
      "Connecting to ftp.ncbi.nlm.nih.gov (ftp.ncbi.nlm.nih.gov)|130.14.250.10|:21... connected.\n",
      "Logging in as anonymous ... Logged in!\n",
      "==> SYST ... done.    ==> PWD ... done.\n",
      "==> TYPE I ... done.  ==> CWD (1) /genomes/all/GCF/000/022/685/GCF_000022685.1_ASM2268v1 ... done.\n",
      "==> SIZE GCF_000022685.1_ASM2268v1_genomic.fna.gz ... 1957350\n",
      "==> PASV ... done.    ==> RETR GCF_000022685.1_ASM2268v1_genomic.fna.gz ... done.\n",
      "Length: 1957350 (1.9M) (unauthoritative)\n",
      "\n",
      "GCF_000022685.1_ASM 100%[===================>]   1.87M  --.-KB/s    in 0.1s    \n",
      "\n",
      "2019-05-22 13:08:21 (12.7 MB/s) - ‘Methylobacterium_extorquens_AM1.fna.gz’ saved [1957350]\n",
      "\n"
     ]
    }
   ],
   "source": [
    "%cd $genomedir\n",
    "# The genomes you want are:\n",
    "## Methanosarcina barkeri MS: GCA_000970025.1\n",
    "## Methylobacterium extorquens AM1: GCF_000022685.1\n",
    "\n",
    "!wget -O Methanosarcina_barkeri_MS.fna.gz ftp://ftp.ncbi.nlm.nih.gov/genomes/all/GCF/000/970/025/GCF_000970025.1_ASM97002v1/GCF_000970025.1_ASM97002v1_genomic.fna.gz\n",
    "\n",
    "!wget -O Methylobacterium_extorquens_AM1.fna.gz ftp://ftp.ncbi.nlm.nih.gov/genomes/all/GCF/000/022/685/GCF_000022685.1_ASM2268v1/GCF_000022685.1_ASM2268v1_genomic.fna.gz\n",
    "    \n",
    "!gunzip Methanosarcina_barkeri_MS.fna.gz\n",
    "!gunzip Methylobacterium_extorquens_AM1.fna.gz"
   ]
  },
  {
   "cell_type": "markdown",
   "metadata": {},
   "source": [
    "## Part 2: Simulation"
   ]
  },
  {
   "cell_type": "markdown",
   "metadata": {},
   "source": [
    "### A) Get genome indexes"
   ]
  },
  {
   "cell_type": "code",
   "execution_count": 7,
   "metadata": {},
   "outputs": [
    {
     "name": "stdout",
     "output_type": "stream",
     "text": [
      "/home/sam/data/SIPSim2_data/dev/validation/Lueders2004\n"
     ]
    }
   ],
   "source": [
    "%cd $workdir"
   ]
  },
  {
   "cell_type": "code",
   "execution_count": 8,
   "metadata": {},
   "outputs": [
    {
     "name": "stdout",
     "output_type": "stream",
     "text": [
      "Methanosarcina_barkeri_MS.fna\r\n",
      "Methylobacterium_extorquens_AM1.fna\r\n"
     ]
    }
   ],
   "source": [
    "# make index file of genomes \n",
    "!ls $genomedir | grep \".fna\" > genome_files.txt\n",
    "!tail genome_files.txt"
   ]
  },
  {
   "cell_type": "code",
   "execution_count": 9,
   "metadata": {},
   "outputs": [
    {
     "name": "stdout",
     "output_type": "stream",
     "text": [
      "Methanosarcina_barkeri_MS\tMethanosarcina_barkeri_MS.fna\r\n",
      "Methylobacterium_extorquens_AM1\tMethylobacterium_extorquens_AM1.fna\r\n"
     ]
    }
   ],
   "source": [
    "with open(\"genome_files.txt\", 'r') as genome_files, open (\"genome_index.txt\", 'w') as genome_index:\n",
    "    genomes = genome_files.readlines()\n",
    "    for line in genomes:\n",
    "        fasta = line\n",
    "        taxa = fasta.replace('.fna\\n', '\\t')\n",
    "        genome_index.write(taxa + fasta)\n",
    "!cat genome_index.txt"
   ]
  },
  {
   "cell_type": "markdown",
   "metadata": {},
   "source": [
    "### B) Set up experimental design"
   ]
  },
  {
   "cell_type": "markdown",
   "metadata": {},
   "source": [
    "#### List of incorporators\n",
    "Only Methylobacterium extorquens AM1 is an incorporator in this experiment and it was grown almost completely with 13C so it will be 100% labeled."
   ]
  },
  {
   "cell_type": "code",
   "execution_count": 10,
   "metadata": {},
   "outputs": [
    {
     "name": "stdout",
     "output_type": "stream",
     "text": [
      "taxon_name\tlibrary\tpercent_incorporation\tsd_incorporation\r\n",
      "Methylobacterium_extorquens_AM1\t2\t100.0\t0\r\n"
     ]
    }
   ],
   "source": [
    "library = [2]\n",
    "\n",
    "taxon_name = ['Methylobacterium_extorquens_AM1'] \n",
    "\n",
    "percent_incorporation = [100.0]\n",
    "\n",
    "sd_incorporation = [0]\n",
    "\n",
    "incorporators = pd.DataFrame({'taxon_name':taxon_name, 'library':library, \n",
    "                       'percent_incorporation':percent_incorporation, 'sd_incorporation':sd_incorporation})\n",
    "incorporators = incorporators.reindex(columns = ['taxon_name', 'library', 'percent_incorporation', 'sd_incorporation'])\n",
    "incorporators.to_csv(\"incorporators.txt\", sep='\\t', index=False)\n",
    "\n",
    "!cat incorporators.txt"
   ]
  },
  {
   "cell_type": "markdown",
   "metadata": {},
   "source": [
    "#### Community composition file\n",
    "Cultures were grown in isolate so abundance is 100%"
   ]
  },
  {
   "cell_type": "code",
   "execution_count": 11,
   "metadata": {},
   "outputs": [
    {
     "name": "stdout",
     "output_type": "stream",
     "text": [
      "library\ttaxon_name\trel_abund_perc\trank\r\n",
      "1\tMethanosarcina_barkeri_MS\t100.0\t1\r\n",
      "2\tMethylobacterium_extorquens_AM1\t100.0\t1\r\n"
     ]
    }
   ],
   "source": [
    "library = [1, 2]\n",
    "\n",
    "taxon_name = ['Methanosarcina_barkeri_MS', 'Methylobacterium_extorquens_AM1'] \n",
    "\n",
    "rel_abund_perc = [100.0, 100.0]\n",
    "\n",
    "rank = [1,1]\n",
    "\n",
    "comm = pd.DataFrame({'library':library, 'taxon_name':taxon_name, \n",
    "                       'rel_abund_perc':rel_abund_perc, 'rank':rank})\n",
    "comm = comm.reindex(columns = ['library', 'taxon_name', 'rel_abund_perc', 'rank'])\n",
    "comm.to_csv(\"comm.txt\", sep='\\t', index=False)\n",
    "\n",
    "!cat comm.txt"
   ]
  },
  {
   "cell_type": "markdown",
   "metadata": {},
   "source": [
    "#### Generate fraction file\n",
    "Here I will use estimated fractions based on the fractions used in the paper."
   ]
  },
  {
   "cell_type": "code",
   "execution_count": 12,
   "metadata": {},
   "outputs": [],
   "source": [
    "%%R\n",
    "lueders_data = read.table('/home/sam/data/SIPSim2_data/dev/validation/figure_estimates.txt', \n",
    "                          header=TRUE, sep=\"\\t\") %>%\n",
    "    filter(Study == \"Lueders2004\") %>%\n",
    "    mutate(BD = round(BD, digits=3))\n",
    "fractions = lueders_data %>%\n",
    "    select(library, BD, fraction) %>%\n",
    "    group_by(library) %>%\n",
    "    mutate(last_frac = max(fraction)) %>%\n",
    "    ungroup()\n",
    "for (i in 1:nrow(fractions)){\n",
    "    fractions$BD_prev[i] = fractions$BD[i-1]\n",
    "    fractions$BD_next[i] = fractions$BD[i+1]\n",
    "    if (fractions$fraction[i] == 1){\n",
    "        fractions$BD_prev[i] = (2*fractions$BD[i])-fractions$BD_next[i]\n",
    "    }\n",
    "    if (fractions$fraction[i] == fractions$last_frac[i]){\n",
    "        fractions$BD_next[i] = (2*fractions$BD[i])-fractions$BD_prev[i]\n",
    "    }\n",
    "}\n",
    "fractions = fractions %>%\n",
    "    mutate(BD_min = (BD+BD_prev)/2, BD_max = (BD+BD_next)/2) %>%\n",
    "    mutate(fraction_size = round(BD_max-BD_min, 4)) %>%\n",
    "    select(library, fraction, BD_min, BD_max, fraction_size)\n",
    "write.table(fractions, \"fracs.txt\", quote=F, sep=\"\\t\", row.names=F)"
   ]
  },
  {
   "cell_type": "code",
   "execution_count": 13,
   "metadata": {},
   "outputs": [
    {
     "name": "stdout",
     "output_type": "stream",
     "text": [
      "library\tfraction\tBD_min\tBD_max\tfraction_size\r\n",
      "1\t1\t1.679\t1.685\t0.006\r\n",
      "1\t2\t1.685\t1.69\t0.005\r\n",
      "1\t3\t1.69\t1.6945\t0.0045\r\n",
      "1\t4\t1.6945\t1.7\t0.0055\r\n",
      "1\t5\t1.7\t1.706\t0.006\r\n",
      "1\t6\t1.706\t1.712\t0.006\r\n",
      "1\t7\t1.712\t1.7185\t0.0065\r\n",
      "1\t8\t1.7185\t1.7255\t0.007\r\n",
      "1\t9\t1.7255\t1.732\t0.0065\r\n",
      "1\t10\t1.732\t1.7385\t0.0065\r\n",
      "1\t11\t1.7385\t1.744\t0.0055\r\n",
      "1\t12\t1.744\t1.7475\t0.0035\r\n",
      "1\t13\t1.7475\t1.7505\t0.003\r\n",
      "2\t1\t1.6815\t1.6865\t0.005\r\n",
      "2\t2\t1.6865\t1.692\t0.0055\r\n",
      "2\t3\t1.692\t1.698\t0.006\r\n",
      "2\t4\t1.698\t1.705\t0.007\r\n",
      "2\t5\t1.705\t1.713\t0.008\r\n",
      "2\t6\t1.713\t1.7205\t0.0075\r\n",
      "2\t7\t1.7205\t1.7285\t0.008\r\n",
      "2\t8\t1.7285\t1.7375\t0.009\r\n",
      "2\t9\t1.7375\t1.7465\t0.009\r\n",
      "2\t10\t1.7465\t1.754\t0.0075\r\n",
      "2\t11\t1.754\t1.761\t0.007\r\n",
      "2\t12\t1.761\t1.768\t0.007\r\n",
      "2\t13\t1.768\t1.774\t0.006\r\n"
     ]
    }
   ],
   "source": [
    "!cat fracs.txt"
   ]
  },
  {
   "cell_type": "markdown",
   "metadata": {},
   "source": [
    "### C) Make configuration file for simulation\n",
    "This configuration file contains all the information needed for simulation. Gradient parameters are the same as those in the paper."
   ]
  },
  {
   "cell_type": "code",
   "execution_count": 14,
   "metadata": {},
   "outputs": [],
   "source": [
    "config = ConfigParser.SafeConfigParser()\n",
    "\n",
    "## Other parameters\n",
    "config.add_section('Other')\n",
    "config.set('Other', 'temp_directory', './tmp')\n",
    "config.set('Other', 'threads', '1')\n",
    "config.set('Other', 'logfile', 'SIPSim2_Lueders.log')\n",
    "config.set('Other', 'endpoint', 'fragment_list')\n",
    "\n",
    "## Library parameters\n",
    "config.add_section('Library')\n",
    "config.set('Library', 'library_list', '1, 2')\n",
    "config.set('Library', 'window_or_fraction', 'fraction')\n",
    "\n",
    "## Fragment parameters\n",
    "config.add_section('Fragment')\n",
    "config.set('Fragment', 'genome_index_file', 'genome_index.txt')\n",
    "config.set('Fragment', 'genomeDir', genomedir)\n",
    "config.set('Fragment', 'frag_length_distribution', 'skewed-normal,9000,2500,-5')\n",
    "config.set('Fragment', 'coverage_of_fragments', '100')\n",
    "config.set('Fragment', 'fragment_file', 'frags.txt')\n",
    "config.set('Fragment', 'temp_fragment_file', 'tmp.frags')\n",
    "config.set('Fragment', 'number_of_iterations', '1')\n",
    "\n",
    "\n",
    "## Gradient parameters\n",
    "config.add_section('Gradient')\n",
    "config.set('Gradient', 'temperature', '293.15')\n",
    "config.set('Gradient', 'avg_density', '1.725')\n",
    "config.set('Gradient', 'angular_velocity', '20465612')\n",
    "config.set('Gradient', 'min_rotation_radius', '7.21')\n",
    "config.set('Gradient', 'max_rotation_radius', '8.49')\n",
    "config.set('Gradient', 'tube_angle', '0')\n",
    "config.set('Gradient', 'tube_radius', '0.65')\n",
    "config.set('Gradient', 'tube_height', '6.6')\n",
    "config.set('Gradient', 'fraction_frag_in_DBL', '0.001')\n",
    "config.set('Gradient', 'isotope', 'C')\n",
    "\n",
    "## Model parameters\n",
    "config.add_section('Model')\n",
    "config.set('Model', 'min_bouyant_density', '1.67')\n",
    "config.set('Model', 'max_bouyant_density', '1.775')\n",
    "config.set('Model', 'bouyant_density_step', '0.0001')\n",
    "config.set('Model', 'fraction_table_file', 'fracs.txt')\n",
    "\n",
    "## Community parameters\n",
    "config.add_section('Community')\n",
    "config.set('Community', 'community_file', 'comm.txt')\n",
    "config.set('Community', 'incorporator_file', 'incorporators.txt')\n",
    "\n",
    "## Sequencing parameters\n",
    "config.add_section('Sequencing')\n",
    "config.set('Sequencing', 'number_of_genomes_per_iteration', '1')\n",
    "\n",
    "\n",
    "# Writing our configuration file to 'example.cfg'\n",
    "with open('simulation_parameters.cfg', 'wb') as configfile:\n",
    "    config.write(configfile)"
   ]
  },
  {
   "cell_type": "markdown",
   "metadata": {},
   "source": [
    "### D) Simulate fragments for each fraction\n",
    "Use the function SIPSim2_get_fragment_list_fractions.py to get the fragments for each genome in each fraction of every library"
   ]
  },
  {
   "cell_type": "code",
   "execution_count": 15,
   "metadata": {},
   "outputs": [
    {
     "name": "stdout",
     "output_type": "stream",
     "text": [
      "Running SIPSim_metagenome\n",
      "This program was writen by Samuel Barnett (seb369@cornell.edu)\n",
      "\n",
      "This run was started on 22/05/19 at 13:08:50\n",
      "\n",
      "\n",
      "You have chosen to get an list of simulated SIP metagenome fragments with adjusted buoyant densities.\n",
      "You have selected to simulate metagenome sequences for each fraction.\n",
      "\n",
      "Your community abundance file is: comm.txt\n",
      "\n",
      "Your incorporator assignment file is: incorporators.txt\n",
      "\n",
      "You are simulating with the isotope of C\n",
      "\n",
      "It took 0.764 seconds to get these models.\n",
      "It took 0.749 seconds to get these models.\n",
      "\n",
      "Building fragments\n",
      "\n",
      "It took 58.718 seconds to build the fragments\n",
      "\n",
      "----------\n",
      "\n",
      "Starting library 1\n",
      "\n",
      "Starting library 1 fraction 1 BD:1.679-1.685\n",
      "Writing fragments to file\n",
      "It took 25.154 seconds to write fragment file.\n",
      "It took 25.154 seconds to run library 1 fraction BD:1.679-1.685 iteration 1\n",
      "\n",
      "It took 25.154 seconds to run the library 1 fraction 1 BD:1.679-1.685\n",
      "\n",
      "Starting library 1 fraction 2 BD:1.685-1.69\n",
      "Writing fragments to file\n",
      "It took 25.03 seconds to write fragment file.\n",
      "It took 50.185 seconds to run library 1 fraction BD:1.685-1.69 iteration 1\n",
      "\n",
      "It took 25.031 seconds to run the library 1 fraction 2 BD:1.685-1.69\n",
      "\n",
      "Starting library 1 fraction 3 BD:1.69-1.6945\n",
      "Writing fragments to file\n",
      "It took 25.317 seconds to write fragment file.\n",
      "It took 75.502 seconds to run library 1 fraction BD:1.69-1.6945 iteration 1\n",
      "\n",
      "It took 25.317 seconds to run the library 1 fraction 3 BD:1.69-1.6945\n",
      "\n",
      "Starting library 1 fraction 4 BD:1.6945-1.7\n",
      "Writing fragments to file\n",
      "It took 24.908 seconds to write fragment file.\n",
      "It took 100.411 seconds to run library 1 fraction BD:1.6945-1.7 iteration 1\n",
      "\n",
      "It took 24.908 seconds to run the library 1 fraction 4 BD:1.6945-1.7\n",
      "\n",
      "Starting library 1 fraction 5 BD:1.7-1.706\n",
      "Writing fragments to file\n",
      "It took 25.218 seconds to write fragment file.\n",
      "It took 125.63 seconds to run library 1 fraction BD:1.7-1.706 iteration 1\n",
      "\n",
      "It took 25.219 seconds to run the library 1 fraction 5 BD:1.7-1.706\n",
      "\n",
      "Starting library 1 fraction 6 BD:1.706-1.712\n",
      "Writing fragments to file\n",
      "It took 24.875 seconds to write fragment file.\n",
      "It took 150.505 seconds to run library 1 fraction BD:1.706-1.712 iteration 1\n",
      "\n",
      "It took 24.876 seconds to run the library 1 fraction 6 BD:1.706-1.712\n",
      "\n",
      "Starting library 1 fraction 7 BD:1.712-1.7185\n",
      "Writing fragments to file\n",
      "It took 24.841 seconds to write fragment file.\n",
      "It took 175.347 seconds to run library 1 fraction BD:1.712-1.7185 iteration 1\n",
      "\n",
      "It took 24.841 seconds to run the library 1 fraction 7 BD:1.712-1.7185\n",
      "\n",
      "Starting library 1 fraction 8 BD:1.7185-1.7255\n",
      "Writing fragments to file\n",
      "It took 24.925 seconds to write fragment file.\n",
      "It took 200.272 seconds to run library 1 fraction BD:1.7185-1.7255 iteration 1\n",
      "\n",
      "It took 24.926 seconds to run the library 1 fraction 8 BD:1.7185-1.7255\n",
      "\n",
      "Starting library 1 fraction 9 BD:1.7255-1.732\n",
      "Writing fragments to file\n",
      "It took 24.915 seconds to write fragment file.\n",
      "It took 225.188 seconds to run library 1 fraction BD:1.7255-1.732 iteration 1\n",
      "\n",
      "It took 24.916 seconds to run the library 1 fraction 9 BD:1.7255-1.732\n",
      "\n",
      "Starting library 1 fraction 10 BD:1.732-1.7385\n",
      "Writing fragments to file\n",
      "It took 24.957 seconds to write fragment file.\n",
      "It took 250.146 seconds to run library 1 fraction BD:1.732-1.7385 iteration 1\n",
      "\n",
      "It took 24.958 seconds to run the library 1 fraction 10 BD:1.732-1.7385\n",
      "\n",
      "Starting library 1 fraction 11 BD:1.7385-1.744\n",
      "Writing fragments to file\n",
      "It took 24.96 seconds to write fragment file.\n",
      "It took 275.107 seconds to run library 1 fraction BD:1.7385-1.744 iteration 1\n",
      "\n",
      "It took 24.961 seconds to run the library 1 fraction 11 BD:1.7385-1.744\n",
      "\n",
      "Starting library 1 fraction 12 BD:1.744-1.7475\n",
      "Writing fragments to file\n",
      "It took 24.894 seconds to write fragment file.\n",
      "It took 300.002 seconds to run library 1 fraction BD:1.744-1.7475 iteration 1\n",
      "\n",
      "It took 24.894 seconds to run the library 1 fraction 12 BD:1.744-1.7475\n",
      "\n",
      "Starting library 1 fraction 13 BD:1.7475-1.7505\n",
      "Writing fragments to file\n",
      "It took 24.964 seconds to write fragment file.\n",
      "It took 324.966 seconds to run library 1 fraction BD:1.7475-1.7505 iteration 1\n",
      "\n",
      "It took 24.965 seconds to run the library 1 fraction 13 BD:1.7475-1.7505\n",
      "\n",
      "It took 324.967 seconds to run the whole library 1\n",
      "\n",
      "----------\n",
      "\n",
      "Starting library 2\n",
      "\n",
      "Starting library 2 fraction 1 BD:1.6815-1.6865\n",
      "Writing fragments to file\n",
      "It took 37.876 seconds to write fragment file.\n",
      "It took 37.877 seconds to run library 2 fraction BD:1.6815-1.6865 iteration 1\n",
      "\n",
      "It took 37.877 seconds to run the library 2 fraction 1 BD:1.6815-1.6865\n",
      "\n",
      "Starting library 2 fraction 2 BD:1.6865-1.692\n",
      "Writing fragments to file\n",
      "It took 37.76 seconds to write fragment file.\n",
      "It took 75.638 seconds to run library 2 fraction BD:1.6865-1.692 iteration 1\n",
      "\n",
      "It took 37.761 seconds to run the library 2 fraction 2 BD:1.6865-1.692\n",
      "\n",
      "Starting library 2 fraction 3 BD:1.692-1.698\n",
      "Writing fragments to file\n",
      "It took 37.577 seconds to write fragment file.\n",
      "It took 113.216 seconds to run library 2 fraction BD:1.692-1.698 iteration 1\n",
      "\n",
      "It took 37.578 seconds to run the library 2 fraction 3 BD:1.692-1.698\n",
      "\n",
      "Starting library 2 fraction 4 BD:1.698-1.705\n",
      "Writing fragments to file\n",
      "It took 37.749 seconds to write fragment file.\n",
      "It took 150.966 seconds to run library 2 fraction BD:1.698-1.705 iteration 1\n",
      "\n",
      "It took 37.75 seconds to run the library 2 fraction 4 BD:1.698-1.705\n",
      "\n",
      "Starting library 2 fraction 5 BD:1.705-1.713\n",
      "Writing fragments to file\n",
      "It took 37.806 seconds to write fragment file.\n",
      "It took 188.772 seconds to run library 2 fraction BD:1.705-1.713 iteration 1\n",
      "\n",
      "It took 37.807 seconds to run the library 2 fraction 5 BD:1.705-1.713\n",
      "\n",
      "Starting library 2 fraction 6 BD:1.713-1.7205\n",
      "Writing fragments to file\n",
      "It took 37.708 seconds to write fragment file.\n",
      "It took 226.481 seconds to run library 2 fraction BD:1.713-1.7205 iteration 1\n",
      "\n",
      "It took 37.709 seconds to run the library 2 fraction 6 BD:1.713-1.7205\n",
      "\n",
      "Starting library 2 fraction 7 BD:1.7205-1.7285\n",
      "Writing fragments to file\n",
      "It took 37.585 seconds to write fragment file.\n",
      "It took 264.066 seconds to run library 2 fraction BD:1.7205-1.7285 iteration 1\n",
      "\n",
      "It took 37.585 seconds to run the library 2 fraction 7 BD:1.7205-1.7285\n",
      "\n",
      "Starting library 2 fraction 8 BD:1.7285-1.7375\n",
      "Writing fragments to file\n",
      "It took 37.637 seconds to write fragment file.\n",
      "It took 301.704 seconds to run library 2 fraction BD:1.7285-1.7375 iteration 1\n",
      "\n",
      "It took 37.638 seconds to run the library 2 fraction 8 BD:1.7285-1.7375\n",
      "\n",
      "Starting library 2 fraction 9 BD:1.7375-1.7465\n",
      "Writing fragments to file\n",
      "It took 37.699 seconds to write fragment file.\n",
      "It took 339.404 seconds to run library 2 fraction BD:1.7375-1.7465 iteration 1\n",
      "\n",
      "It took 37.7 seconds to run the library 2 fraction 9 BD:1.7375-1.7465\n",
      "\n",
      "Starting library 2 fraction 10 BD:1.7465-1.754\n",
      "Writing fragments to file\n",
      "It took 37.779 seconds to write fragment file.\n",
      "It took 377.183 seconds to run library 2 fraction BD:1.7465-1.754 iteration 1\n",
      "\n",
      "It took 37.779 seconds to run the library 2 fraction 10 BD:1.7465-1.754\n",
      "\n",
      "Starting library 2 fraction 11 BD:1.754-1.761\n",
      "Writing fragments to file\n",
      "It took 37.512 seconds to write fragment file.\n",
      "It took 414.695 seconds to run library 2 fraction BD:1.754-1.761 iteration 1\n",
      "\n",
      "It took 37.513 seconds to run the library 2 fraction 11 BD:1.754-1.761\n",
      "\n",
      "Starting library 2 fraction 12 BD:1.761-1.768\n",
      "Writing fragments to file\n",
      "It took 37.803 seconds to write fragment file.\n",
      "It took 452.499 seconds to run library 2 fraction BD:1.761-1.768 iteration 1\n",
      "\n",
      "It took 37.803 seconds to run the library 2 fraction 12 BD:1.761-1.768\n",
      "\n",
      "Starting library 2 fraction 13 BD:1.768-1.774\n",
      "Writing fragments to file\n",
      "It took 37.781 seconds to write fragment file.\n",
      "It took 490.281 seconds to run library 2 fraction BD:1.768-1.774 iteration 1\n",
      "\n",
      "It took 37.782 seconds to run the library 2 fraction 13 BD:1.768-1.774\n",
      "\n",
      "It took 490.281 seconds to run the whole library 2\n",
      "\n",
      "----------\n",
      "\n",
      "It took 875.506 seconds to run the entire simulation. This program is now done!\n"
     ]
    }
   ],
   "source": [
    "!python /home/sam/notebooks/SIPSim_metagenome/bin/SIPSim_metagenome.py simulation_parameters.cfg"
   ]
  },
  {
   "cell_type": "markdown",
   "metadata": {},
   "source": [
    "## Part 3: Original SIPSim simulation"
   ]
  },
  {
   "cell_type": "markdown",
   "metadata": {},
   "source": [
    "To see how well SIPSim does compared to previous simululation methods, I'll run the same analysis using SIPSim"
   ]
  },
  {
   "cell_type": "code",
   "execution_count": 16,
   "metadata": {},
   "outputs": [
    {
     "name": "stdout",
     "output_type": "stream",
     "text": [
      "/home/sam/data/SIPSim2_data/dev/validation/Lueders2004\n"
     ]
    }
   ],
   "source": [
    "%cd $workdir"
   ]
  },
  {
   "cell_type": "markdown",
   "metadata": {},
   "source": [
    "Modify the comm.txt file so that you include both genomes"
   ]
  },
  {
   "cell_type": "code",
   "execution_count": 17,
   "metadata": {},
   "outputs": [
    {
     "name": "stdout",
     "output_type": "stream",
     "text": [
      "library\ttaxon_name\trel_abund_perc\trank\n",
      "1\tMethanosarcina_barkeri_MS\t100.0\t1\n",
      "1\tMethylobacterium_extorquens_AM1\t0.0\t2\n",
      "2\tMethylobacterium_extorquens_AM1\t100.0\t1\n",
      "2\tMethanosarcina_barkeri_MS\t0.0\t2\n"
     ]
    }
   ],
   "source": [
    "%%bash\n",
    "echo -e \"library\\ttaxon_name\\trel_abund_perc\\trank\" > comm2.txt\n",
    "echo -e \"1\\tMethanosarcina_barkeri_MS\\t100.0\\t1\\n1\\tMethylobacterium_extorquens_AM1\\t0.0\\t2\" >> comm2.txt\n",
    "echo -e \"2\\tMethylobacterium_extorquens_AM1\\t100.0\\t1\\n2\\tMethanosarcina_barkeri_MS\\t0.0\\t2\" >> comm2.txt\n",
    "\n",
    "cat comm2.txt"
   ]
  },
  {
   "cell_type": "markdown",
   "metadata": {},
   "source": [
    "### 1) Get fragments"
   ]
  },
  {
   "cell_type": "code",
   "execution_count": 18,
   "metadata": {},
   "outputs": [
    {
     "name": "stdout",
     "output_type": "stream",
     "text": [
      "DEBUG:CACHEDIR=/home/sam/.cache/matplotlib\r\n",
      "DEBUG:Using fontManager instance from /home/sam/.cache/matplotlib/fontList.json\r\n",
      "DEBUG:backend agg version v2.2\r\n",
      "Processing: \"Methanosarcina_barkeri_MS\"\r\n",
      "Processing: \"Methylobacterium_extorquens_AM1\"\r\n",
      "  Genome name: Methanosarcina_barkeri_MS\r\n",
      "  Genome length (bp): 4574907\r\n",
      "  Number of amplicons: None\r\n",
      "  Number of fragments simulated: 64859\r\n",
      "  Genome name: Methylobacterium_extorquens_AM1\r\n",
      "  Genome length (bp): 6879778\r\n",
      "  Number of amplicons: None\r\n",
      "  Number of fragments simulated: 97821\r\n"
     ]
    }
   ],
   "source": [
    "!SIPSim fragments \\\n",
    "    genome_index.txt \\\n",
    "    --fp $genomedir/ \\\n",
    "    --fld skewed-normal,9000,2500,-5 \\\n",
    "    --flr None,None \\\n",
    "    --nf 100X \\\n",
    "    --tbl \\\n",
    "    --np 20 \\\n",
    "    2> Leuders_SIPsim.log \\\n",
    "    > Leuders_SIPsim.txt\n",
    "!cat Leuders_SIPsim.log"
   ]
  },
  {
   "cell_type": "markdown",
   "metadata": {},
   "source": [
    "### 2) Convert to 2d-KDE format"
   ]
  },
  {
   "cell_type": "code",
   "execution_count": 19,
   "metadata": {},
   "outputs": [
    {
     "name": "stdout",
     "output_type": "stream",
     "text": [
      "DEBUG:CACHEDIR=/home/sam/.cache/matplotlib\n",
      "DEBUG:Using fontManager instance from /home/sam/.cache/matplotlib/fontList.json\n",
      "DEBUG:backend agg version v2.2\n",
      "-rw-rw-r-- 1 sam sam 2.5M May 22 13:26 Leuders_SIPsim_kde.pkl\n"
     ]
    }
   ],
   "source": [
    "!SIPSim fragment_KDE \\\n",
    "    Leuders_SIPsim.txt \\\n",
    "    > Leuders_SIPsim_kde.pkl\n",
    "    \n",
    "!ls -thlc Leuders_SIPsim_kde.pkl"
   ]
  },
  {
   "cell_type": "markdown",
   "metadata": {},
   "source": [
    "### 3) Add diffusion"
   ]
  },
  {
   "cell_type": "code",
   "execution_count": 20,
   "metadata": {},
   "outputs": [
    {
     "name": "stdout",
     "output_type": "stream",
     "text": [
      "DEBUG:CACHEDIR=/home/sam/.cache/matplotlib\n",
      "DEBUG:Using fontManager instance from /home/sam/.cache/matplotlib/fontList.json\n",
      "DEBUG:backend agg version v2.2\n",
      "Index size: 90508\n",
      "Processing: Methanosarcina_barkeri_MS\n",
      "Processing: Methylobacterium_extorquens_AM1\n",
      "-rw-rw-r-- 1 sam sam 7.7M May 22 13:26 Leuders_SIPsim_kde_dif.pkl\n"
     ]
    }
   ],
   "source": [
    "!SIPSim diffusion \\\n",
    "    Leuders_SIPsim_kde.pkl \\\n",
    "    --np 20 \\\n",
    "    > Leuders_SIPsim_kde_dif.pkl\n",
    "\n",
    "!ls -thlc Leuders_SIPsim_kde_dif.pkl"
   ]
  },
  {
   "cell_type": "markdown",
   "metadata": {},
   "source": [
    "### 4) Add diffusive boundery layer"
   ]
  },
  {
   "cell_type": "code",
   "execution_count": 21,
   "metadata": {},
   "outputs": [
    {
     "name": "stdout",
     "output_type": "stream",
     "text": [
      "DEBUG:CACHEDIR=/home/sam/.cache/matplotlib\n",
      "DEBUG:Using fontManager instance from /home/sam/.cache/matplotlib/fontList.json\n",
      "DEBUG:backend agg version v2.2\n",
      "/home/sam/anaconda3/envs/SIPSim2_py2/lib/python2.7/site-packages/numpy/lib/polynomial.py:680: RuntimeWarning: invalid value encountered in multiply\n",
      "  y = y * x + p[i]\n",
      "DBL_index file written: \"DBL_index.txt\"\n",
      "Processing: Methylobacterium_extorquens_AM1\n",
      "Processing: Methanosarcina_barkeri_MS\n",
      "-rw-rw-r-- 1 sam sam 7.7M May 22 13:28 Leuders_SIPsim_kde_dif_DBL.pkl\n"
     ]
    }
   ],
   "source": [
    "!SIPSim DBL \\\n",
    "    Leuders_SIPsim_kde_dif.pkl \\\n",
    "    --np 20 \\\n",
    "    -D 1.725 \\\n",
    "    -w 20465612 \\\n",
    "    --tube_height 6.6 \\\n",
    "    --r_min 7.21 \\\n",
    "    --r_max 8.49 \\\n",
    "    --vertical \\\n",
    "    > Leuders_SIPsim_kde_dif_DBL.pkl\n",
    "\n",
    "!ls -thlc Leuders_SIPsim_kde_dif_DBL.pkl"
   ]
  },
  {
   "cell_type": "markdown",
   "metadata": {},
   "source": [
    "### 5) Add isotope incorporation"
   ]
  },
  {
   "cell_type": "code",
   "execution_count": 22,
   "metadata": {},
   "outputs": [
    {
     "name": "stdout",
     "output_type": "stream",
     "text": [
      "taxon_name\tlibrary\tpercent_incorporation\tsd_incorporation\r\n",
      "Methylobacterium_extorquens_AM1\t2\t100.0\t0\r\n"
     ]
    }
   ],
   "source": [
    "!cat incorporators.txt"
   ]
  },
  {
   "cell_type": "code",
   "execution_count": 23,
   "metadata": {},
   "outputs": [
    {
     "name": "stdout",
     "output_type": "stream",
     "text": [
      "\n",
      "[1]\n",
      "    # baseline: no incorporation\n",
      "    treatment = control\n",
      "    \n",
      "    [[intraPopDist 1]]\n",
      "        distribution = uniform\n",
      "        \n",
      "        [[[start]]]\n",
      "            \n",
      "            [[[[interPopDist 1]]]]\n",
      "                distribution = uniform\n",
      "                start = 0\n",
      "                end = 0\n",
      "        \n",
      "        [[[end]]]\n",
      "            \n",
      "            [[[[interPopDist 1]]]]\n",
      "                distribution = uniform\n",
      "                start = 0\n",
      "                end = 0\n",
      "[2]\n",
      "    # 'treatment' community: possible incorporation\n",
      "    treatment = labeled\n",
      "    max_perc_taxa_incorp = 100\n",
      "    \n",
      "    [[intraPopDist 1]]\n",
      "        distribution = normal\n",
      "        [[[mu]]]\n",
      "            [[[[interPopDist 1]]]]\n",
      "                start = 100\n",
      "                distribution = uniform\n",
      "                end = 100\n",
      "        [[[sigma]]]\n",
      "            [[[[interPopDist 1]]]]\n",
      "                start = 0\n",
      "                distribution = uniform\n",
      "                end = 0\n",
      "    \n"
     ]
    },
    {
     "name": "stderr",
     "output_type": "stream",
     "text": [
      "DEBUG:CACHEDIR=/home/sam/.cache/matplotlib\n",
      "DEBUG:Using fontManager instance from /home/sam/.cache/matplotlib/fontList.json\n",
      "DEBUG:backend agg version v2.2\n"
     ]
    }
   ],
   "source": [
    "%%bash\n",
    "SIPSim incorp_config_example \\\n",
    "  --percTaxa 100 \\\n",
    "  --percIncorpMean 100 \\\n",
    "  --percIncorpSD 0 \\\n",
    "  --n_reps 1 \\\n",
    "  > incorp.config\n",
    "  \n",
    "cat incorp.config"
   ]
  },
  {
   "cell_type": "markdown",
   "metadata": {},
   "source": [
    "Make file identifying incorporators for each library"
   ]
  },
  {
   "cell_type": "code",
   "execution_count": 24,
   "metadata": {},
   "outputs": [
    {
     "name": "stdout",
     "output_type": "stream",
     "text": [
      "1\n",
      "2\tMethylobacterium_extorquens_AM1\n",
      "\n"
     ]
    }
   ],
   "source": [
    "%%bash\n",
    "echo -e \"1\\n2\\tMethylobacterium_extorquens_AM1\\n\" > incorp_taxa.txt\n",
    "\n",
    "cat incorp_taxa.txt\n"
   ]
  },
  {
   "cell_type": "markdown",
   "metadata": {},
   "source": [
    "Add isoptope incorporation"
   ]
  },
  {
   "cell_type": "code",
   "execution_count": 25,
   "metadata": {},
   "outputs": [
    {
     "name": "stdout",
     "output_type": "stream",
     "text": [
      "DEBUG:CACHEDIR=/home/sam/.cache/matplotlib\n",
      "DEBUG:Using fontManager instance from /home/sam/.cache/matplotlib/fontList.json\n",
      "DEBUG:backend agg version v2.2\n",
      "Loading KDE object...\n",
      "Processing library: 1\n",
      "Processing: Methylobacterium_extorquens_AM1\n",
      "Processing: Methanosarcina_barkeri_MS\n",
      "Processing library: 2\n",
      "WARNING: config library 2 not found in KDEs.Using a different KDE object\n",
      "Processing: Methylobacterium_extorquens_AM1\n",
      "Processing: Methanosarcina_barkeri_MS\n",
      "File written: BD-shift_stats.txt\n",
      "-rw-rw-r-- 1 sam sam 16M May 22 13:28 Leuders_SIPsim_kde_dif_DBL_inc.pkl\n",
      "library\ttaxon\tmin\tq25\tmean\tmedian\tq75\tmax\n",
      "1\tMethanosarcina_barkeri_MS\t0.0\t0.0\t0.0\t0.0\t0.0\t0.0\n",
      "1\tMethylobacterium_extorquens_AM1\t0.0\t0.0\t0.0\t0.0\t0.0\t0.0\n",
      "2\tMethanosarcina_barkeri_MS\t0.0\t0.0\t0.0\t0.0\t0.0\t0.0\n",
      "2\tMethylobacterium_extorquens_AM1\t0.036\t0.036\t0.036\t0.036\t0.036\t0.036\n"
     ]
    }
   ],
   "source": [
    "!SIPSim isotope_incorp \\\n",
    "    --comm comm2.txt \\\n",
    "    --taxa incorp_taxa.txt \\\n",
    "    --np 20 \\\n",
    "    Leuders_SIPsim_kde_dif_DBL.pkl \\\n",
    "    incorp.config \\\n",
    "    > Leuders_SIPsim_kde_dif_DBL_inc.pkl\n",
    "\n",
    "!ls -thlc Leuders_SIPsim_kde_dif_DBL_inc.pkl \n",
    "!cat BD-shift_stats.txt"
   ]
  },
  {
   "cell_type": "markdown",
   "metadata": {},
   "source": [
    "### 6) Making OTU table\n"
   ]
  },
  {
   "cell_type": "markdown",
   "metadata": {},
   "source": [
    "Get fraction table for each library"
   ]
  },
  {
   "cell_type": "code",
   "execution_count": 26,
   "metadata": {},
   "outputs": [
    {
     "name": "stdout",
     "output_type": "stream",
     "text": [
      "library\tfraction\tBD_min\tBD_max\tfraction_size\r\n",
      "1\t1\t1.679\t1.685\t0.006\r\n",
      "1\t2\t1.685\t1.69\t0.005\r\n",
      "1\t3\t1.69\t1.6945\t0.0045\r\n",
      "1\t4\t1.6945\t1.7\t0.0055\r\n",
      "1\t5\t1.7\t1.706\t0.006\r\n",
      "1\t6\t1.706\t1.712\t0.006\r\n",
      "1\t7\t1.712\t1.7185\t0.0065\r\n",
      "1\t8\t1.7185\t1.7255\t0.007\r\n",
      "1\t9\t1.7255\t1.732\t0.0065\r\n"
     ]
    }
   ],
   "source": [
    "!head fracs.txt"
   ]
  },
  {
   "cell_type": "code",
   "execution_count": 27,
   "metadata": {},
   "outputs": [
    {
     "name": "stdout",
     "output_type": "stream",
     "text": [
      "DEBUG:CACHEDIR=/home/sam/.cache/matplotlib\n",
      "DEBUG:Using fontManager instance from /home/sam/.cache/matplotlib/fontList.json\n",
      "DEBUG:backend agg version v2.2\n",
      "Loading files...\n",
      "Simulating OTUs...\n",
      "Processing library: \"1\"\n",
      "  Processing taxon: \"Methanosarcina_barkeri_MS\"\n",
      "   taxon abs-abundance:  100000\n",
      "  Processing taxon: \"Methylobacterium_extorquens_AM1\"\n",
      "   taxon abs-abundance:  0\n",
      "Processing library: \"2\"\n",
      "  Processing taxon: \"Methanosarcina_barkeri_MS\"\n",
      "   taxon abs-abundance:  0\n",
      "  Processing taxon: \"Methylobacterium_extorquens_AM1\"\n",
      "   taxon abs-abundance:  100000\n",
      "library\ttaxon\tfraction\tBD_min\tBD_mid\tBD_max\tcount\trel_abund\n",
      "1\tMethanosarcina_barkeri_MS\t-inf-1.679\t-inf\t1.678\t1.678\t35\t1\n",
      "1\tMethanosarcina_barkeri_MS\t1.679-1.685\t1.679\t1.682\t1.685\t72\t1\n",
      "1\tMethanosarcina_barkeri_MS\t1.685-1.690\t1.685\t1.688\t1.69\t1368\t1\n",
      "1\tMethanosarcina_barkeri_MS\t1.690-1.694\t1.69\t1.692\t1.694\t13200\t1\n",
      "1\tMethanosarcina_barkeri_MS\t1.694-1.700\t1.694\t1.697\t1.7\t51602\t1\n",
      "1\tMethanosarcina_barkeri_MS\t1.700-1.706\t1.7\t1.703\t1.706\t31082\t1\n",
      "1\tMethanosarcina_barkeri_MS\t1.706-1.712\t1.706\t1.709\t1.712\t2520\t1\n",
      "1\tMethanosarcina_barkeri_MS\t1.712-1.718\t1.712\t1.715\t1.718\t81\t1\n",
      "1\tMethanosarcina_barkeri_MS\t1.718-1.726\t1.718\t1.722\t1.726\t3\t1\n"
     ]
    }
   ],
   "source": [
    "!SIPSim OTU_table \\\n",
    "    --np 1 \\\n",
    "    --abs 1e5 \\\n",
    "    Leuders_SIPsim_kde_dif_DBL_inc.pkl \\\n",
    "    comm2.txt \\\n",
    "    fracs.txt \\\n",
    "    > Leuders_SIPsim_OTU.txt\n",
    "    \n",
    "!head Leuders_SIPsim_OTU.txt"
   ]
  },
  {
   "cell_type": "markdown",
   "metadata": {},
   "source": [
    "## Part 3: Analysis\n",
    "\n",
    "Now I'll see how well the simulation results correspond with the actual DNA distribution. Here we will also make easier to handle files for nice visualizationg in R.\n",
    "\n",
    "### Get Lueders data\n",
    "\n",
    "Also make a dataframe that indicates teh isotope for each reference in each library. This gives a bit more metadata that you can use when plotting"
   ]
  },
  {
   "cell_type": "code",
   "execution_count": 28,
   "metadata": {},
   "outputs": [
    {
     "data": {
      "text/plain": [
       "                        taxon_name Isotope library    BD Ratio_of_maximum\n",
       "1        Methanosarcina_barkeri_MS     12C       1 1.682          0.03585\n",
       "2        Methanosarcina_barkeri_MS     12C       1 1.688          0.18698\n",
       "3        Methanosarcina_barkeri_MS     12C       1 1.692          1.00000\n",
       "4        Methanosarcina_barkeri_MS     12C       1 1.697          0.18357\n",
       "5        Methanosarcina_barkeri_MS     12C       1 1.703          0.02716\n",
       "6        Methanosarcina_barkeri_MS     12C       1 1.709          0.01958\n",
       "7        Methanosarcina_barkeri_MS     12C       1 1.715          0.01993\n",
       "8        Methanosarcina_barkeri_MS     12C       1 1.722          0.02037\n",
       "9        Methanosarcina_barkeri_MS     12C       1 1.729          0.02077\n",
       "10       Methanosarcina_barkeri_MS     12C       1 1.735          0.04892\n",
       "11       Methanosarcina_barkeri_MS     12C       1 1.742          0.04336\n",
       "12       Methanosarcina_barkeri_MS     12C       1 1.746          0.01783\n",
       "13       Methanosarcina_barkeri_MS     12C       1 1.749          0.01598\n",
       "14 Methylobacterium_extorquens_AM1     13C       2 1.684          0.00000\n",
       "15 Methylobacterium_extorquens_AM1     13C       2 1.689          0.00000\n",
       "16 Methylobacterium_extorquens_AM1     13C       2 1.695          0.00000\n",
       "17 Methylobacterium_extorquens_AM1     13C       2 1.701          0.00000\n",
       "18 Methylobacterium_extorquens_AM1     13C       2 1.709          0.00000\n",
       "19 Methylobacterium_extorquens_AM1     13C       2 1.717          0.00000\n",
       "20 Methylobacterium_extorquens_AM1     13C       2 1.724          0.00000\n",
       "21 Methylobacterium_extorquens_AM1     13C       2 1.733          0.00000\n",
       "22 Methylobacterium_extorquens_AM1     13C       2 1.742          0.00000\n",
       "23 Methylobacterium_extorquens_AM1     13C       2 1.751          0.68277\n",
       "24 Methylobacterium_extorquens_AM1     13C       2 1.757          1.00000\n",
       "25 Methylobacterium_extorquens_AM1     13C       2 1.765          0.00000\n",
       "26 Methylobacterium_extorquens_AM1     13C       2 1.771          0.00000\n",
       "   data_type       Study\n",
       "1  empirical Lueders2004\n",
       "2  empirical Lueders2004\n",
       "3  empirical Lueders2004\n",
       "4  empirical Lueders2004\n",
       "5  empirical Lueders2004\n",
       "6  empirical Lueders2004\n",
       "7  empirical Lueders2004\n",
       "8  empirical Lueders2004\n",
       "9  empirical Lueders2004\n",
       "10 empirical Lueders2004\n",
       "11 empirical Lueders2004\n",
       "12 empirical Lueders2004\n",
       "13 empirical Lueders2004\n",
       "14 empirical Lueders2004\n",
       "15 empirical Lueders2004\n",
       "16 empirical Lueders2004\n",
       "17 empirical Lueders2004\n",
       "18 empirical Lueders2004\n",
       "19 empirical Lueders2004\n",
       "20 empirical Lueders2004\n",
       "21 empirical Lueders2004\n",
       "22 empirical Lueders2004\n",
       "23 empirical Lueders2004\n",
       "24 empirical Lueders2004\n",
       "25 empirical Lueders2004\n",
       "26 empirical Lueders2004\n"
      ]
     },
     "metadata": {},
     "output_type": "display_data"
    }
   ],
   "source": [
    "%%R\n",
    "real.df = read.table('/home/sam/data/SIPSim2_data/dev/validation/figure_estimates.txt', \n",
    "                          header=TRUE, sep=\"\\t\") %>%\n",
    "    filter(Study == \"Lueders2004\") %>%\n",
    "    mutate(BD = round(BD, digits=3), data_type = \"empirical\") %>%\n",
    "    select(taxon_name, Isotope, library, BD, Ratio_of_maximum, data_type, Study)\n",
    "\n",
    "real.df"
   ]
  },
  {
   "cell_type": "code",
   "execution_count": 29,
   "metadata": {},
   "outputs": [
    {
     "data": {
      "text/plain": [
       "                        taxon_name Isotope library       Study\n",
       "1        Methanosarcina_barkeri_MS     12C       1 Lueders2004\n",
       "14 Methylobacterium_extorquens_AM1     13C       2 Lueders2004\n"
      ]
     },
     "metadata": {},
     "output_type": "display_data"
    }
   ],
   "source": [
    "%%R\n",
    "metadata = real.df %>%\n",
    "    select(taxon_name, Isotope, library, Study) %>%\n",
    "    unique\n",
    "metadata"
   ]
  },
  {
   "cell_type": "markdown",
   "metadata": {},
   "source": [
    "### metaSIPSim data\n",
    "Get the metaSIPSim simulated data and estimate the concentration of DNA from each reference as a ratio to the maximum concentration."
   ]
  },
  {
   "cell_type": "code",
   "execution_count": 30,
   "metadata": {},
   "outputs": [],
   "source": [
    "frag_table = pd.DataFrame(columns=['taxon_name', 'library', 'OriBD', \n",
    "                                   'percent_incorp', 'abundance',\n",
    "                                   'fragment_start', 'fragment_length'])\n",
    "for file in os.listdir(workdir):\n",
    "    if file.endswith('fragments.txt.gz'):\n",
    "        fraction = file.split('_')[3]\n",
    "        frag_table_sub = pd.read_table(file, compression='gzip')\n",
    "        frag_table_sub['fraction'] = fraction\n",
    "        frag_table = frag_table.append(frag_table_sub, ignore_index=True)\n",
    "        \n",
    "frag_table.to_csv('allfragments.txt', sep='\\t', index=False)\n",
    "frag_table = None"
   ]
  },
  {
   "cell_type": "code",
   "execution_count": 31,
   "metadata": {},
   "outputs": [
    {
     "data": {
      "text/plain": [
       "     OriBD    abundance fraction fragment_length fragment_start library\n",
       "1 1.695711  0.002016384        3            7544              0       1\n",
       "2 1.698524  0.002048100        3            3859           7545       1\n",
       "3 1.698893  0.002052348        3            9119          11405       1\n",
       "4 1.700138  0.002066889        3            8421          20525       1\n",
       "5 1.699618  0.002060781        3            6617          28947       1\n",
       "6 1.693546 99.901992863        3            8469          35565       1\n",
       "  percent_incorp                                               scaffoldID\n",
       "1              0 NZ_CP009528.1 Methanosarcina barkeri MS, complete genome\n",
       "2              0 NZ_CP009528.1 Methanosarcina barkeri MS, complete genome\n",
       "3              0 NZ_CP009528.1 Methanosarcina barkeri MS, complete genome\n",
       "4              0 NZ_CP009528.1 Methanosarcina barkeri MS, complete genome\n",
       "5              0 NZ_CP009528.1 Methanosarcina barkeri MS, complete genome\n",
       "6              0 NZ_CP009528.1 Methanosarcina barkeri MS, complete genome\n",
       "                 taxon_name\n",
       "1 Methanosarcina_barkeri_MS\n",
       "2 Methanosarcina_barkeri_MS\n",
       "3 Methanosarcina_barkeri_MS\n",
       "4 Methanosarcina_barkeri_MS\n",
       "5 Methanosarcina_barkeri_MS\n",
       "6 Methanosarcina_barkeri_MS\n"
      ]
     },
     "metadata": {},
     "output_type": "display_data"
    }
   ],
   "source": [
    "%%R\n",
    "frag.df = read.delim('allfragments.txt') %>%\n",
    "    filter(abundance > 0)\n",
    "\n",
    "head(frag.df)"
   ]
  },
  {
   "cell_type": "code",
   "execution_count": 32,
   "metadata": {},
   "outputs": [
    {
     "data": {
      "text/plain": [
       "                        taxon_name fraction library DNA_abundance\n",
       "1        Methanosarcina_barkeri_MS        1       1  1.403653e+06\n",
       "2        Methanosarcina_barkeri_MS        2       1  7.034192e+07\n",
       "3        Methanosarcina_barkeri_MS        3       1  3.212829e+09\n",
       "4        Methanosarcina_barkeri_MS        4       1  3.047490e+10\n",
       "5        Methanosarcina_barkeri_MS        5       1  1.174993e+10\n",
       "6        Methanosarcina_barkeri_MS        6       1  1.942552e+08\n",
       "7        Methanosarcina_barkeri_MS        7       1  1.386433e+06\n",
       "8        Methanosarcina_barkeri_MS        8       1  1.456826e+06\n",
       "9        Methanosarcina_barkeri_MS        9       1  1.352767e+06\n",
       "10       Methanosarcina_barkeri_MS       10       1  1.352767e+06\n",
       "11       Methanosarcina_barkeri_MS       11       1  1.144649e+06\n",
       "12       Methanosarcina_barkeri_MS       12       1  7.284131e+05\n",
       "13       Methanosarcina_barkeri_MS       13       1  6.243541e+05\n",
       "14 Methylobacterium_extorquens_AM1        1       2  2.619457e+06\n",
       "15 Methylobacterium_extorquens_AM1        2       2  2.881402e+06\n",
       "16 Methylobacterium_extorquens_AM1        3       2  3.143348e+06\n",
       "17 Methylobacterium_extorquens_AM1        4       2  3.667239e+06\n",
       "18 Methylobacterium_extorquens_AM1        5       2  4.191131e+06\n",
       "19 Methylobacterium_extorquens_AM1        6       2  3.929185e+06\n",
       "20 Methylobacterium_extorquens_AM1        7       2  4.191131e+06\n",
       "21 Methylobacterium_extorquens_AM1        8       2  4.715022e+06\n",
       "22 Methylobacterium_extorquens_AM1        9       2  4.698771e+07\n",
       "23 Methylobacterium_extorquens_AM1       10       2  4.745081e+08\n",
       "24 Methylobacterium_extorquens_AM1       11       2  1.019214e+10\n",
       "25 Methylobacterium_extorquens_AM1       12       2  5.745697e+10\n",
       "26 Methylobacterium_extorquens_AM1       13       2  5.677551e+08\n"
      ]
     },
     "metadata": {},
     "output_type": "display_data"
    }
   ],
   "source": [
    "%%R\n",
    "taxa.df = frag.df %>%\n",
    "    mutate(base_abundance = abundance*fragment_length) %>%\n",
    "    group_by(taxon_name, fraction, library) %>%\n",
    "    summarize(DNA_abundance = sum(base_abundance)) %>%\n",
    "    as.data.frame\n",
    "frag.df = NULL\n",
    "taxa.df"
   ]
  },
  {
   "cell_type": "code",
   "execution_count": 33,
   "metadata": {},
   "outputs": [
    {
     "name": "stderr",
     "output_type": "stream",
     "text": [
      "/home/sam/anaconda3/envs/SIPSim2_py2/lib/python2.7/site-packages/rpy2/rinterface/__init__.py:186: RRuntimeWarning: Joining, by = c(\"fraction\", \"library\")\n",
      "\n",
      "  warnings.warn(x, RRuntimeWarning)\n"
     ]
    },
    {
     "data": {
      "text/plain": [
       "                        taxon_name fraction library DNA_abundance      BD\n",
       "1        Methanosarcina_barkeri_MS        1       1  1.403653e+06 1.68200\n",
       "2        Methanosarcina_barkeri_MS        2       1  7.034192e+07 1.68750\n",
       "3        Methanosarcina_barkeri_MS        3       1  3.212829e+09 1.69225\n",
       "4        Methanosarcina_barkeri_MS        4       1  3.047490e+10 1.69725\n",
       "5        Methanosarcina_barkeri_MS        5       1  1.174993e+10 1.70300\n",
       "6        Methanosarcina_barkeri_MS        6       1  1.942552e+08 1.70900\n",
       "7        Methanosarcina_barkeri_MS        7       1  1.386433e+06 1.71525\n",
       "8        Methanosarcina_barkeri_MS        8       1  1.456826e+06 1.72200\n",
       "9        Methanosarcina_barkeri_MS        9       1  1.352767e+06 1.72875\n",
       "10       Methanosarcina_barkeri_MS       10       1  1.352767e+06 1.73525\n",
       "11       Methanosarcina_barkeri_MS       11       1  1.144649e+06 1.74125\n",
       "12       Methanosarcina_barkeri_MS       12       1  7.284131e+05 1.74575\n",
       "13       Methanosarcina_barkeri_MS       13       1  6.243541e+05 1.74900\n",
       "14 Methylobacterium_extorquens_AM1        1       2  2.619457e+06 1.68400\n",
       "15 Methylobacterium_extorquens_AM1        2       2  2.881402e+06 1.68925\n",
       "16 Methylobacterium_extorquens_AM1        3       2  3.143348e+06 1.69500\n",
       "17 Methylobacterium_extorquens_AM1        4       2  3.667239e+06 1.70150\n",
       "18 Methylobacterium_extorquens_AM1        5       2  4.191131e+06 1.70900\n",
       "19 Methylobacterium_extorquens_AM1        6       2  3.929185e+06 1.71675\n",
       "20 Methylobacterium_extorquens_AM1        7       2  4.191131e+06 1.72450\n",
       "21 Methylobacterium_extorquens_AM1        8       2  4.715022e+06 1.73300\n",
       "22 Methylobacterium_extorquens_AM1        9       2  4.698771e+07 1.74200\n",
       "23 Methylobacterium_extorquens_AM1       10       2  4.745081e+08 1.75025\n",
       "24 Methylobacterium_extorquens_AM1       11       2  1.019214e+10 1.75750\n",
       "25 Methylobacterium_extorquens_AM1       12       2  5.745697e+10 1.76450\n",
       "26 Methylobacterium_extorquens_AM1       13       2  5.677551e+08 1.77100\n"
      ]
     },
     "metadata": {},
     "output_type": "display_data"
    }
   ],
   "source": [
    "%%R\n",
    "fracs.df = read.delim('fracs.txt') %>%\n",
    "    mutate(BD = (BD_min + BD_max)/2) %>%\n",
    "    select(library, fraction, BD)\n",
    "taxa.df = inner_join(taxa.df, fracs.df)\n",
    "taxa.df"
   ]
  },
  {
   "cell_type": "code",
   "execution_count": 34,
   "metadata": {},
   "outputs": [
    {
     "name": "stderr",
     "output_type": "stream",
     "text": [
      "/home/sam/anaconda3/envs/SIPSim2_py2/lib/python2.7/site-packages/rpy2/rinterface/__init__.py:186: RRuntimeWarning: Joining, by = c(\"taxon_name\", \"library\")\n",
      "\n",
      "  warnings.warn(x, RRuntimeWarning)\n"
     ]
    },
    {
     "data": {
      "text/plain": [
       "                        taxon_name fraction library DNA_abundance      BD\n",
       "1        Methanosarcina_barkeri_MS        1       1  1.403653e+06 1.68200\n",
       "2        Methanosarcina_barkeri_MS        2       1  7.034192e+07 1.68750\n",
       "3        Methanosarcina_barkeri_MS        3       1  3.212829e+09 1.69225\n",
       "4        Methanosarcina_barkeri_MS        4       1  3.047490e+10 1.69725\n",
       "5        Methanosarcina_barkeri_MS        5       1  1.174993e+10 1.70300\n",
       "6        Methanosarcina_barkeri_MS        6       1  1.942552e+08 1.70900\n",
       "7        Methanosarcina_barkeri_MS        7       1  1.386433e+06 1.71525\n",
       "8        Methanosarcina_barkeri_MS        8       1  1.456826e+06 1.72200\n",
       "9        Methanosarcina_barkeri_MS        9       1  1.352767e+06 1.72875\n",
       "10       Methanosarcina_barkeri_MS       10       1  1.352767e+06 1.73525\n",
       "11       Methanosarcina_barkeri_MS       11       1  1.144649e+06 1.74125\n",
       "12       Methanosarcina_barkeri_MS       12       1  7.284131e+05 1.74575\n",
       "13       Methanosarcina_barkeri_MS       13       1  6.243541e+05 1.74900\n",
       "14 Methylobacterium_extorquens_AM1        1       2  2.619457e+06 1.68400\n",
       "15 Methylobacterium_extorquens_AM1        2       2  2.881402e+06 1.68925\n",
       "16 Methylobacterium_extorquens_AM1        3       2  3.143348e+06 1.69500\n",
       "17 Methylobacterium_extorquens_AM1        4       2  3.667239e+06 1.70150\n",
       "18 Methylobacterium_extorquens_AM1        5       2  4.191131e+06 1.70900\n",
       "19 Methylobacterium_extorquens_AM1        6       2  3.929185e+06 1.71675\n",
       "20 Methylobacterium_extorquens_AM1        7       2  4.191131e+06 1.72450\n",
       "21 Methylobacterium_extorquens_AM1        8       2  4.715022e+06 1.73300\n",
       "22 Methylobacterium_extorquens_AM1        9       2  4.698771e+07 1.74200\n",
       "23 Methylobacterium_extorquens_AM1       10       2  4.745081e+08 1.75025\n",
       "24 Methylobacterium_extorquens_AM1       11       2  1.019214e+10 1.75750\n",
       "25 Methylobacterium_extorquens_AM1       12       2  5.745697e+10 1.76450\n",
       "26 Methylobacterium_extorquens_AM1       13       2  5.677551e+08 1.77100\n",
       "       max_DNA Ratio_of_maximum\n",
       "1  30474898978     4.605932e-05\n",
       "2  30474898978     2.308192e-03\n",
       "3  30474898978     1.054254e-01\n",
       "4  30474898978     1.000000e+00\n",
       "5  30474898978     3.855608e-01\n",
       "6  30474898978     6.374270e-03\n",
       "7  30474898978     4.549428e-05\n",
       "8  30474898978     4.780413e-05\n",
       "9  30474898978     4.438955e-05\n",
       "10 30474898978     4.438955e-05\n",
       "11 30474898978     3.756039e-05\n",
       "12 30474898978     2.390207e-05\n",
       "13 30474898978     2.048749e-05\n",
       "14 57456965747     4.558989e-05\n",
       "15 57456965747     5.014888e-05\n",
       "16 57456965747     5.470787e-05\n",
       "17 57456965747     6.382584e-05\n",
       "18 57456965747     7.294382e-05\n",
       "19 57456965747     6.838483e-05\n",
       "20 57456965747     7.294382e-05\n",
       "21 57456965747     8.206180e-05\n",
       "22 57456965747     8.177896e-04\n",
       "23 57456965747     8.258495e-03\n",
       "24 57456965747     1.773873e-01\n",
       "25 57456965747     1.000000e+00\n",
       "26 57456965747     9.881397e-03\n"
      ]
     },
     "metadata": {},
     "output_type": "display_data"
    }
   ],
   "source": [
    "%%R\n",
    "max.abds = taxa.df %>%\n",
    "    group_by(library, taxon_name) %>%\n",
    "    summarize(max_DNA = max(DNA_abundance)) %>%\n",
    "    as.data.frame\n",
    "\n",
    "taxa.df = inner_join(taxa.df, max.abds) %>%\n",
    "    mutate(Ratio_of_maximum = DNA_abundance/max_DNA)\n",
    "taxa.df"
   ]
  },
  {
   "cell_type": "code",
   "execution_count": 35,
   "metadata": {},
   "outputs": [
    {
     "data": {
      "text/plain": [
       "                        taxon_name Isotope library      BD Ratio_of_maximum\n",
       "1        Methanosarcina_barkeri_MS     12C       1 1.68200     4.605932e-05\n",
       "2        Methanosarcina_barkeri_MS     12C       1 1.68750     2.308192e-03\n",
       "3        Methanosarcina_barkeri_MS     12C       1 1.69225     1.054254e-01\n",
       "4        Methanosarcina_barkeri_MS     12C       1 1.69725     1.000000e+00\n",
       "5        Methanosarcina_barkeri_MS     12C       1 1.70300     3.855608e-01\n",
       "6        Methanosarcina_barkeri_MS     12C       1 1.70900     6.374270e-03\n",
       "7        Methanosarcina_barkeri_MS     12C       1 1.71525     4.549428e-05\n",
       "8        Methanosarcina_barkeri_MS     12C       1 1.72200     4.780413e-05\n",
       "9        Methanosarcina_barkeri_MS     12C       1 1.72875     4.438955e-05\n",
       "10       Methanosarcina_barkeri_MS     12C       1 1.73525     4.438955e-05\n",
       "11       Methanosarcina_barkeri_MS     12C       1 1.74125     3.756039e-05\n",
       "12       Methanosarcina_barkeri_MS     12C       1 1.74575     2.390207e-05\n",
       "13       Methanosarcina_barkeri_MS     12C       1 1.74900     2.048749e-05\n",
       "14 Methylobacterium_extorquens_AM1     13C       2 1.68400     4.558989e-05\n",
       "15 Methylobacterium_extorquens_AM1     13C       2 1.68925     5.014888e-05\n",
       "16 Methylobacterium_extorquens_AM1     13C       2 1.69500     5.470787e-05\n",
       "17 Methylobacterium_extorquens_AM1     13C       2 1.70150     6.382584e-05\n",
       "18 Methylobacterium_extorquens_AM1     13C       2 1.70900     7.294382e-05\n",
       "19 Methylobacterium_extorquens_AM1     13C       2 1.71675     6.838483e-05\n",
       "20 Methylobacterium_extorquens_AM1     13C       2 1.72450     7.294382e-05\n",
       "21 Methylobacterium_extorquens_AM1     13C       2 1.73300     8.206180e-05\n",
       "22 Methylobacterium_extorquens_AM1     13C       2 1.74200     8.177896e-04\n",
       "23 Methylobacterium_extorquens_AM1     13C       2 1.75025     8.258495e-03\n",
       "24 Methylobacterium_extorquens_AM1     13C       2 1.75750     1.773873e-01\n",
       "25 Methylobacterium_extorquens_AM1     13C       2 1.76450     1.000000e+00\n",
       "26 Methylobacterium_extorquens_AM1     13C       2 1.77100     9.881397e-03\n",
       "    data_type       Study\n",
       "1  metaSIPSim Lueders2004\n",
       "2  metaSIPSim Lueders2004\n",
       "3  metaSIPSim Lueders2004\n",
       "4  metaSIPSim Lueders2004\n",
       "5  metaSIPSim Lueders2004\n",
       "6  metaSIPSim Lueders2004\n",
       "7  metaSIPSim Lueders2004\n",
       "8  metaSIPSim Lueders2004\n",
       "9  metaSIPSim Lueders2004\n",
       "10 metaSIPSim Lueders2004\n",
       "11 metaSIPSim Lueders2004\n",
       "12 metaSIPSim Lueders2004\n",
       "13 metaSIPSim Lueders2004\n",
       "14 metaSIPSim Lueders2004\n",
       "15 metaSIPSim Lueders2004\n",
       "16 metaSIPSim Lueders2004\n",
       "17 metaSIPSim Lueders2004\n",
       "18 metaSIPSim Lueders2004\n",
       "19 metaSIPSim Lueders2004\n",
       "20 metaSIPSim Lueders2004\n",
       "21 metaSIPSim Lueders2004\n",
       "22 metaSIPSim Lueders2004\n",
       "23 metaSIPSim Lueders2004\n",
       "24 metaSIPSim Lueders2004\n",
       "25 metaSIPSim Lueders2004\n",
       "26 metaSIPSim Lueders2004\n"
      ]
     },
     "metadata": {},
     "output_type": "display_data"
    }
   ],
   "source": [
    "%%R\n",
    "## Make dataframe that you can combine with original leuders data as well as SIPSim data. Write this to a file.\n",
    "metaSIPSim.df = taxa.df %>%\n",
    "    left_join(metadata, by=c(\"taxon_name\", \"library\")) %>%\n",
    "    mutate(data_type = \"metaSIPSim\") %>%\n",
    "    select(taxon_name, Isotope, library, BD, Ratio_of_maximum, data_type, Study)\n",
    "\n",
    "write.table(metaSIPSim.df, file=\"/home/sam/data/SIPSim2_data/dev/validation/Lueders2004/sim_DNA_conc_metaSIPSim.txt\", \n",
    "            quote=FALSE, sep=\"\\t\", col.names=TRUE, row.names=FALSE)\n",
    "\n",
    "metaSIPSim.df"
   ]
  },
  {
   "cell_type": "markdown",
   "metadata": {},
   "source": [
    "### Get SIPSim data\n",
    "\n",
    "Get the SIPSim simulated data (OTU table) and estimate the DNA abundance for each reference as a ratio to the maximum abundance"
   ]
  },
  {
   "cell_type": "code",
   "execution_count": 36,
   "metadata": {},
   "outputs": [
    {
     "data": {
      "text/plain": [
       "   library                      taxon_name    BD count\n",
       "1        1       Methanosarcina_barkeri_MS 1.682    72\n",
       "2        1       Methanosarcina_barkeri_MS 1.688  1368\n",
       "3        1       Methanosarcina_barkeri_MS 1.692 13200\n",
       "4        1       Methanosarcina_barkeri_MS 1.697 51602\n",
       "5        1       Methanosarcina_barkeri_MS 1.703 31082\n",
       "6        1       Methanosarcina_barkeri_MS 1.709  2520\n",
       "7        1       Methanosarcina_barkeri_MS 1.715    81\n",
       "8        1       Methanosarcina_barkeri_MS 1.722     3\n",
       "9        1       Methanosarcina_barkeri_MS 1.729     6\n",
       "10       1       Methanosarcina_barkeri_MS 1.735     3\n",
       "11       1       Methanosarcina_barkeri_MS 1.741     4\n",
       "12       1       Methanosarcina_barkeri_MS 1.746     2\n",
       "13       1       Methanosarcina_barkeri_MS 1.749     2\n",
       "14       1 Methylobacterium_extorquens_AM1 1.682     0\n",
       "15       1 Methylobacterium_extorquens_AM1 1.688     0\n",
       "16       1 Methylobacterium_extorquens_AM1 1.692     0\n",
       "17       1 Methylobacterium_extorquens_AM1 1.697     0\n",
       "18       1 Methylobacterium_extorquens_AM1 1.703     0\n",
       "19       1 Methylobacterium_extorquens_AM1 1.709     0\n",
       "20       1 Methylobacterium_extorquens_AM1 1.715     0\n",
       "21       1 Methylobacterium_extorquens_AM1 1.722     0\n",
       "22       1 Methylobacterium_extorquens_AM1 1.729     0\n",
       "23       1 Methylobacterium_extorquens_AM1 1.735     0\n",
       "24       1 Methylobacterium_extorquens_AM1 1.741     0\n",
       "25       1 Methylobacterium_extorquens_AM1 1.746     0\n",
       "26       1 Methylobacterium_extorquens_AM1 1.749     0\n",
       "27       2       Methanosarcina_barkeri_MS 1.684     0\n",
       "28       2       Methanosarcina_barkeri_MS 1.690     0\n",
       "29       2       Methanosarcina_barkeri_MS 1.695     0\n",
       "30       2       Methanosarcina_barkeri_MS 1.702     0\n",
       "31       2       Methanosarcina_barkeri_MS 1.709     0\n",
       "32       2       Methanosarcina_barkeri_MS 1.716     0\n",
       "33       2       Methanosarcina_barkeri_MS 1.724     0\n",
       "34       2       Methanosarcina_barkeri_MS 1.733     0\n",
       "35       2       Methanosarcina_barkeri_MS 1.742     0\n",
       "36       2       Methanosarcina_barkeri_MS 1.750     0\n",
       "37       2       Methanosarcina_barkeri_MS 1.757     0\n",
       "38       2       Methanosarcina_barkeri_MS 1.764     0\n",
       "39       2       Methanosarcina_barkeri_MS 1.771     0\n",
       "40       2 Methylobacterium_extorquens_AM1 1.684     2\n",
       "41       2 Methylobacterium_extorquens_AM1 1.690     9\n",
       "42       2 Methylobacterium_extorquens_AM1 1.695     3\n",
       "43       2 Methylobacterium_extorquens_AM1 1.702     4\n",
       "44       2 Methylobacterium_extorquens_AM1 1.709     7\n",
       "45       2 Methylobacterium_extorquens_AM1 1.716     5\n",
       "46       2 Methylobacterium_extorquens_AM1 1.724     4\n",
       "47       2 Methylobacterium_extorquens_AM1 1.733     6\n",
       "48       2 Methylobacterium_extorquens_AM1 1.742   112\n",
       "49       2 Methylobacterium_extorquens_AM1 1.750  1115\n",
       "50       2 Methylobacterium_extorquens_AM1 1.757 22241\n",
       "51       2 Methylobacterium_extorquens_AM1 1.764 67875\n",
       "52       2 Methylobacterium_extorquens_AM1 1.771  8407\n"
      ]
     },
     "metadata": {},
     "output_type": "display_data"
    }
   ],
   "source": [
    "%%R\n",
    "SIPSim.df = read.delim('Leuders_SIPsim_OTU.txt') %>%\n",
    "    filter(BD_min != \"-Inf\", BD_max != \"Inf\") %>%\n",
    "    select(library, taxon, BD_mid, count) %>%\n",
    "    rename(BD=BD_mid, taxon_name = taxon)\n",
    "\n",
    "SIPSim.df"
   ]
  },
  {
   "cell_type": "code",
   "execution_count": 37,
   "metadata": {},
   "outputs": [
    {
     "name": "stderr",
     "output_type": "stream",
     "text": [
      "/home/sam/anaconda3/envs/SIPSim2_py2/lib/python2.7/site-packages/rpy2/rinterface/__init__.py:186: RRuntimeWarning: Joining, by = c(\"library\", \"taxon_name\")\n",
      "\n",
      "  warnings.warn(x, RRuntimeWarning)\n"
     ]
    },
    {
     "data": {
      "text/plain": [
       "                        taxon_name Isotope library    BD Ratio_of_maximum\n",
       "1        Methanosarcina_barkeri_MS     12C       1 1.682     1.395295e-03\n",
       "2        Methanosarcina_barkeri_MS     12C       1 1.688     2.651060e-02\n",
       "3        Methanosarcina_barkeri_MS     12C       1 1.692     2.558040e-01\n",
       "4        Methanosarcina_barkeri_MS     12C       1 1.697     1.000000e+00\n",
       "5        Methanosarcina_barkeri_MS     12C       1 1.703     6.023410e-01\n",
       "6        Methanosarcina_barkeri_MS     12C       1 1.709     4.883532e-02\n",
       "7        Methanosarcina_barkeri_MS     12C       1 1.715     1.569707e-03\n",
       "8        Methanosarcina_barkeri_MS     12C       1 1.722     5.813728e-05\n",
       "9        Methanosarcina_barkeri_MS     12C       1 1.729     1.162746e-04\n",
       "10       Methanosarcina_barkeri_MS     12C       1 1.735     5.813728e-05\n",
       "11       Methanosarcina_barkeri_MS     12C       1 1.741     7.751638e-05\n",
       "12       Methanosarcina_barkeri_MS     12C       1 1.746     3.875819e-05\n",
       "13       Methanosarcina_barkeri_MS     12C       1 1.749     3.875819e-05\n",
       "14 Methylobacterium_extorquens_AM1     13C       2 1.684     2.946593e-05\n",
       "15 Methylobacterium_extorquens_AM1     13C       2 1.690     1.325967e-04\n",
       "16 Methylobacterium_extorquens_AM1     13C       2 1.695     4.419890e-05\n",
       "17 Methylobacterium_extorquens_AM1     13C       2 1.702     5.893186e-05\n",
       "18 Methylobacterium_extorquens_AM1     13C       2 1.709     1.031308e-04\n",
       "19 Methylobacterium_extorquens_AM1     13C       2 1.716     7.366483e-05\n",
       "20 Methylobacterium_extorquens_AM1     13C       2 1.724     5.893186e-05\n",
       "21 Methylobacterium_extorquens_AM1     13C       2 1.733     8.839779e-05\n",
       "22 Methylobacterium_extorquens_AM1     13C       2 1.742     1.650092e-03\n",
       "23 Methylobacterium_extorquens_AM1     13C       2 1.750     1.642726e-02\n",
       "24 Methylobacterium_extorquens_AM1     13C       2 1.757     3.276759e-01\n",
       "25 Methylobacterium_extorquens_AM1     13C       2 1.764     1.000000e+00\n",
       "26 Methylobacterium_extorquens_AM1     13C       2 1.771     1.238600e-01\n",
       "   data_type       Study\n",
       "1     SIPSim Lueders2004\n",
       "2     SIPSim Lueders2004\n",
       "3     SIPSim Lueders2004\n",
       "4     SIPSim Lueders2004\n",
       "5     SIPSim Lueders2004\n",
       "6     SIPSim Lueders2004\n",
       "7     SIPSim Lueders2004\n",
       "8     SIPSim Lueders2004\n",
       "9     SIPSim Lueders2004\n",
       "10    SIPSim Lueders2004\n",
       "11    SIPSim Lueders2004\n",
       "12    SIPSim Lueders2004\n",
       "13    SIPSim Lueders2004\n",
       "14    SIPSim Lueders2004\n",
       "15    SIPSim Lueders2004\n",
       "16    SIPSim Lueders2004\n",
       "17    SIPSim Lueders2004\n",
       "18    SIPSim Lueders2004\n",
       "19    SIPSim Lueders2004\n",
       "20    SIPSim Lueders2004\n",
       "21    SIPSim Lueders2004\n",
       "22    SIPSim Lueders2004\n",
       "23    SIPSim Lueders2004\n",
       "24    SIPSim Lueders2004\n",
       "25    SIPSim Lueders2004\n",
       "26    SIPSim Lueders2004\n"
      ]
     },
     "metadata": {},
     "output_type": "display_data"
    }
   ],
   "source": [
    "%%R\n",
    "max_count = SIPSim.df %>%\n",
    "    group_by(library, taxon_name) %>%\n",
    "    summarize(max_count = max(count)) %>%\n",
    "    as.data.frame\n",
    "\n",
    "SIPSim.df = inner_join(SIPSim.df, max_count) %>%\n",
    "    mutate(Ratio_of_maximum = count/max_count) %>%\n",
    "    inner_join(metadata, by=c(\"taxon_name\", \"library\")) %>%\n",
    "    mutate(data_type = \"SIPSim\") %>%\n",
    "    select(taxon_name, Isotope, library, BD, Ratio_of_maximum, data_type, Study)\n",
    "\n",
    "write.table(SIPSim.df, file=\"/home/sam/data/SIPSim2_data/dev/validation/Lueders2004/sim_DNA_conc_SIPSim.txt\", \n",
    "            quote=FALSE, sep=\"\\t\", col.names=TRUE, row.names=FALSE)\n",
    "\n",
    "SIPSim.df"
   ]
  },
  {
   "cell_type": "markdown",
   "metadata": {},
   "source": [
    "### Combine data into one dataframe\n"
   ]
  },
  {
   "cell_type": "code",
   "execution_count": 38,
   "metadata": {},
   "outputs": [
    {
     "data": {
      "text/plain": [
       "                 taxon_name Isotope library      BD Ratio_of_maximum  data_type\n",
       "1 Methanosarcina_barkeri_MS     12C       1 1.68200     4.605932e-05 metaSIPSim\n",
       "2 Methanosarcina_barkeri_MS     12C       1 1.68750     2.308192e-03 metaSIPSim\n",
       "3 Methanosarcina_barkeri_MS     12C       1 1.69225     1.054254e-01 metaSIPSim\n",
       "4 Methanosarcina_barkeri_MS     12C       1 1.69725     1.000000e+00 metaSIPSim\n",
       "5 Methanosarcina_barkeri_MS     12C       1 1.70300     3.855608e-01 metaSIPSim\n",
       "6 Methanosarcina_barkeri_MS     12C       1 1.70900     6.374270e-03 metaSIPSim\n",
       "        Study\n",
       "1 Lueders2004\n",
       "2 Lueders2004\n",
       "3 Lueders2004\n",
       "4 Lueders2004\n",
       "5 Lueders2004\n",
       "6 Lueders2004\n"
      ]
     },
     "metadata": {},
     "output_type": "display_data"
    }
   ],
   "source": [
    "%%R\n",
    "full.df = rbind(metaSIPSim.df, SIPSim.df, real.df)\n",
    "write.table(full.df, file=\"/home/sam/data/SIPSim2_data/dev/validation/Lueders2004/DNA_conc_all_sets.txt\", \n",
    "            quote=FALSE, sep=\"\\t\", col.names=TRUE, row.names=FALSE)\n",
    "\n",
    "head(full.df)"
   ]
  },
  {
   "cell_type": "markdown",
   "metadata": {},
   "source": [
    "### Plot"
   ]
  },
  {
   "cell_type": "code",
   "execution_count": 39,
   "metadata": {},
   "outputs": [
    {
     "data": {
      "image/png": "[encoded data removed]"
     },
     "metadata": {},
     "output_type": "display_data"
    }
   ],
   "source": [
    "%%R -h 350 -w 750\n",
    "\n",
    "SIPSim2.plot = ggplot(data=metaSIPSim.df, aes(x=BD, y=Ratio_of_maximum, color=taxon_name)) +\n",
    "    geom_point() +\n",
    "    geom_line() +\n",
    "    xlim(1.67, 1.775)\n",
    "SIPSim2.plot"
   ]
  },
  {
   "cell_type": "code",
   "execution_count": 40,
   "metadata": {},
   "outputs": [
    {
     "data": {
      "image/png": "[encoded data removed]"
     },
     "metadata": {},
     "output_type": "display_data"
    }
   ],
   "source": [
    "%%R -h 350 -w 750\n",
    "\n",
    "SIPSim.plot = ggplot(data=SIPSim.df, aes(x=BD, y=Ratio_of_maximum, color=taxon_name)) +\n",
    "    geom_point() +\n",
    "    geom_line() +\n",
    "    xlim(1.67, 1.775)\n",
    "SIPSim.plot"
   ]
  },
  {
   "cell_type": "code",
   "execution_count": 41,
   "metadata": {},
   "outputs": [
    {
     "data": {
      "image/png": "[encoded data removed]"
     },
     "metadata": {},
     "output_type": "display_data"
    }
   ],
   "source": [
    "%%R -h 350 -w 750\n",
    "real.plot = ggplot(data=real.df, aes(x=BD, y=Ratio_of_maximum, color=taxon_name)) +\n",
    "    geom_point() +\n",
    "    geom_line() +\n",
    "    xlim(1.67, 1.775)\n",
    "\n",
    "real.plot"
   ]
  },
  {
   "cell_type": "code",
   "execution_count": 42,
   "metadata": {},
   "outputs": [
    {
     "data": {
      "image/png": "[encoded data removed]"
     },
     "metadata": {},
     "output_type": "display_data"
    }
   ],
   "source": [
    "%%R -h 350 -w 750\n",
    "full.plot = ggplot(data=full.df, aes(x=BD, y=Ratio_of_maximum, color=data_type)) +\n",
    "    geom_point(aes(shape=taxon_name)) +\n",
    "    geom_line(aes(linetype=taxon_name)) +\n",
    "    xlim(1.68, 1.775)\n",
    "\n",
    "full.plot"
   ]
  },
  {
   "cell_type": "code",
   "execution_count": null,
   "metadata": {},
   "outputs": [],
   "source": []
  }
 ],
 "metadata": {
  "kernelspec": {
   "display_name": "Python 2",
   "language": "python",
   "name": "python2"
  },
  "language_info": {
   "codemirror_mode": {
    "name": "ipython",
    "version": 2
   },
   "file_extension": ".py",
   "mimetype": "text/x-python",
   "name": "python",
   "nbconvert_exporter": "python",
   "pygments_lexer": "ipython2",
   "version": "2.7.15"
  }
 },
 "nbformat": 4,
 "nbformat_minor": 2
}
