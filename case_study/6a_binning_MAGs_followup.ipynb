{
 "cells": [
  {
   "cell_type": "markdown",
   "metadata": {},
   "source": [
    "# Binning contigs into MAGs for follow-up simulations\n",
    "\n",
    "Samuel Barnett\n",
    "\n",
    "### Introduction\n",
    "\n",
    "Now that I have contigs from the follow-up simulations, I want to bin them into metagenome assembled genomes (MAGs). I'll use MetaBAT for this."
   ]
  },
  {
   "cell_type": "markdown",
   "metadata": {},
   "source": [
    "## 1) Initialization\n",
    "\n",
    "First I need to import the python modules I'll use, set some variables, initiate R magic, and create/get into the working directory."
   ]
  },
  {
   "cell_type": "code",
   "execution_count": 2,
   "metadata": {},
   "outputs": [],
   "source": [
    "import os\n",
    "workDir = '/home/sam/data/SIPSim2_data/RealWorld_study3/followup_sims'\n",
    "\n",
    "nprocs = 20"
   ]
  },
  {
   "cell_type": "code",
   "execution_count": 3,
   "metadata": {},
   "outputs": [
    {
     "name": "stdout",
     "output_type": "stream",
     "text": [
      "/home/sam/data/SIPSim2_data/RealWorld_study3/followup_sims\n"
     ]
    }
   ],
   "source": [
    "if not os.path.isdir(workDir):\n",
    "    print(\"Working directory does not exist!!!\")\n",
    "%cd $workDir"
   ]
  },
  {
   "cell_type": "markdown",
   "metadata": {},
   "source": [
    "## 2) Mapping reads to contigs\n",
    "\n",
    "Before binning I need to get the coverage of each contig in each read set within the group defined by the co-assembly. Here, this group is defined by the factor being tested."
   ]
  },
  {
   "cell_type": "code",
   "execution_count": null,
   "metadata": {},
   "outputs": [
    {
     "name": "stdout",
     "output_type": "stream",
     "text": [
      "/home/sam/data/SIPSim2_data/RealWorld_study3/followup_sims/binning/incorp25_lowGC_SIP\n",
      "Mapping reads for incorp25_lowGC SIP experiment library 1\n",
      "Reordering reads\n",
      "repair.sh in1=/home/sam/data/SIPSim2_data/RealWorld_study3/followup_sims/incorp25_lowGC/library_1_window_1.72-1.77_reads_f.fastq.gz in2=/home/sam/data/SIPSim2_data/RealWorld_study3/followup_sims/incorp25_lowGC/library_1_window_1.72-1.77_reads_r.fastq.gz out1=repaired1.fastq.gz out2=repaired2.fastq.gz outs=repairedS.fastq.gz\n",
      "Mapping reads\n",
      "bbmap.sh ref=/home/sam/data/SIPSim2_data/RealWorld_study3/followup_sims/coassembly/incorp25_lowGC_SIP/final.contigs.fa in=repaired1.fastq.gz in2=repaired2.fastq.gz out=library_1.sam threads=20 bamscript=bs.sh; sh bs.sh\n",
      "Removing reordered reads\n",
      "rm repaired1.fastq.gz repaired2.fastq.gz repairedS.fastq.gz\n",
      "\n",
      "\n",
      "Mapping reads for incorp25_lowGC SIP experiment library 2\n",
      "Reordering reads\n",
      "repair.sh in1=/home/sam/data/SIPSim2_data/RealWorld_study3/followup_sims/incorp25_lowGC/library_2_window_1.72-1.77_reads_f.fastq.gz in2=/home/sam/data/SIPSim2_data/RealWorld_study3/followup_sims/incorp25_lowGC/library_2_window_1.72-1.77_reads_r.fastq.gz out1=repaired1.fastq.gz out2=repaired2.fastq.gz outs=repairedS.fastq.gz\n",
      "Mapping reads\n",
      "bbmap.sh ref=/home/sam/data/SIPSim2_data/RealWorld_study3/followup_sims/coassembly/incorp25_lowGC_SIP/final.contigs.fa in=repaired1.fastq.gz in2=repaired2.fastq.gz out=library_2.sam threads=20 bamscript=bs.sh; sh bs.sh\n"
     ]
    }
   ],
   "source": [
    "binDir = os.path.join(workDir, 'binning')\n",
    "if not os.path.exists(binDir):\n",
    "    os.makedirs(binDir)\n",
    "    \n",
    "for followup_set in ['incorp25_lowGC', 'incorp100_lowGC', \n",
    "                     'lightwindow_highGC', 'mediumwindow_highGC', 'heavywindow_highGC']:\n",
    "    fastqDir = os.path.join(workDir, followup_set)\n",
    "\n",
    "    for exp_type in ['SIP', 'nonSIP']:\n",
    "        subbinDir = '_'.join([followup_set, exp_type])\n",
    "        subbinDir = os.path.join(binDir, subbinDir)\n",
    "        if not os.path.exists(subbinDir):\n",
    "            os.makedirs(subbinDir)\n",
    "        %cd $subbinDir\n",
    "\n",
    "        contigFile = '_'.join([followup_set, exp_type])\n",
    "        contigFile = os.path.join(workDir, 'coassembly', contigFile, 'final.contigs.fa')\n",
    "\n",
    "        for lib in [1, 2, 3, 4, 5, 6]:\n",
    "            print(' '.join(['Mapping reads for', followup_set, \n",
    "                            exp_type, 'experiment library', str(lib)]))\n",
    "            if exp_type == 'SIP':\n",
    "                F_fastq = [f for f in os.listdir(fastqDir) if '_'.join(['library', str(lib), 'window']) in f if 'f.fastq.gz' in f][0]\n",
    "                R_fastq = [f for f in os.listdir(fastqDir) if '_'.join(['library', str(lib), 'window']) in f if 'r.fastq.gz' in f][0]\n",
    "\n",
    "            elif exp_type == 'nonSIP':\n",
    "                F_fastq = '_'.join(['nonSIP_library', str(lib), 'reads_f.fastq.gz'])\n",
    "                R_fastq = '_'.join(['nonSIP_library', str(lib), 'reads_r.fastq.gz'])\n",
    "            else:\n",
    "                print(\"Error with selecting files\")\n",
    "            F_fastq = os.path.join(fastqDir, F_fastq)\n",
    "            R_fastq = os.path.join(fastqDir, R_fastq)\n",
    "\n",
    "            if not os.path.isfile(F_fastq):\n",
    "                print(' '.join([F_fastq, 'does not exist']))\n",
    "            if not os.path.isfile(R_fastq):\n",
    "                print(' '.join([R_fastq, 'does not exist']))\n",
    "\n",
    "            # Reorder reads so that they are paired\n",
    "            print('Reordering reads')\n",
    "            cmd = ''.join(['repair.sh in1=', F_fastq, ' in2=', R_fastq, \n",
    "                           ' out1=repaired1.fastq.gz out2=repaired2.fastq.gz outs=repairedS.fastq.gz'])\n",
    "            print(cmd)\n",
    "            os.system(cmd)\n",
    "\n",
    "            # Map reads\n",
    "            print('Mapping reads')\n",
    "            samname = ''.join(['library_', str(lib), '.sam'])\n",
    "            cmd = ''.join(['bbmap.sh ref=', contigFile,\n",
    "                           ' in=repaired1.fastq.gz in2=repaired2.fastq.gz', \n",
    "                           ' out=', samname, ' threads=', str(nprocs), \n",
    "                           ' bamscript=bs.sh; sh bs.sh'])\n",
    "            print(cmd)\n",
    "            os.system(cmd)\n",
    "\n",
    "            # Remove \"repaired\" reads\n",
    "            print('Removing reordered reads')\n",
    "            cmd = 'rm repaired1.fastq.gz repaired2.fastq.gz repairedS.fastq.gz'\n",
    "            print(cmd)\n",
    "            os.system(cmd)\n",
    "\n",
    "            print('\\n')\n",
    "\n",
    "        print('\\n')\n",
    "\n"
   ]
  },
  {
   "cell_type": "code",
   "execution_count": 7,
   "metadata": {},
   "outputs": [
    {
     "name": "stdout",
     "output_type": "stream",
     "text": [
      "Done\n"
     ]
    }
   ],
   "source": [
    "print(\"Done\")"
   ]
  },
  {
   "cell_type": "markdown",
   "metadata": {},
   "source": [
    "## 3) Binning with MetaBat\n",
    "\n",
    "Now I'll do the binning within each group. Again group is defined by the factor being tested."
   ]
  },
  {
   "cell_type": "code",
   "execution_count": null,
   "metadata": {},
   "outputs": [
    {
     "name": "stdout",
     "output_type": "stream",
     "text": [
      "/home/sam/data/SIPSim2_data/RealWorld_study3/followup_sims/binning/incorp25_lowGC_SIP\n",
      "Summarizing contig depths\n",
      "jgi_summarize_bam_contig_depths --outputDepth depth.txt --minContigLength 1000 --minContigDepth 2 library_1_sorted.bam library_2_sorted.bam library_3_sorted.bam library_4_sorted.bam library_5_sorted.bam library_6_sorted.bam\n",
      "Binning\n",
      "metabat2 -i /home/sam/data/SIPSim2_data/RealWorld_study3/followup_sims/coassembly/incorp25_lowGC_SIP/final.contigs.fa -a depth.txt -o init_bins/bin --saveCls --unbinned -t 20\n",
      "---\n",
      "\n",
      "/home/sam/data/SIPSim2_data/RealWorld_study3/followup_sims/binning/incorp25_lowGC_nonSIP\n",
      "Summarizing contig depths\n",
      "jgi_summarize_bam_contig_depths --outputDepth depth.txt --minContigLength 1000 --minContigDepth 2 library_1_sorted.bam library_2_sorted.bam library_3_sorted.bam library_4_sorted.bam library_5_sorted.bam library_6_sorted.bam\n",
      "Binning\n",
      "metabat2 -i /home/sam/data/SIPSim2_data/RealWorld_study3/followup_sims/coassembly/incorp25_lowGC_nonSIP/final.contigs.fa -a depth.txt -o init_bins/bin --saveCls --unbinned -t 20\n",
      "---\n",
      "\n",
      "/home/sam/data/SIPSim2_data/RealWorld_study3/followup_sims/binning/incorp100_lowGC_SIP\n",
      "Summarizing contig depths\n",
      "jgi_summarize_bam_contig_depths --outputDepth depth.txt --minContigLength 1000 --minContigDepth 2 library_1_sorted.bam library_2_sorted.bam library_3_sorted.bam library_4_sorted.bam library_5_sorted.bam library_6_sorted.bam\n",
      "Binning\n",
      "metabat2 -i /home/sam/data/SIPSim2_data/RealWorld_study3/followup_sims/coassembly/incorp100_lowGC_SIP/final.contigs.fa -a depth.txt -o init_bins/bin --saveCls --unbinned -t 20\n",
      "---\n",
      "\n",
      "/home/sam/data/SIPSim2_data/RealWorld_study3/followup_sims/binning/incorp100_lowGC_nonSIP\n",
      "Summarizing contig depths\n",
      "jgi_summarize_bam_contig_depths --outputDepth depth.txt --minContigLength 1000 --minContigDepth 2 library_1_sorted.bam library_2_sorted.bam library_3_sorted.bam library_4_sorted.bam library_5_sorted.bam library_6_sorted.bam\n",
      "Binning\n",
      "metabat2 -i /home/sam/data/SIPSim2_data/RealWorld_study3/followup_sims/coassembly/incorp100_lowGC_nonSIP/final.contigs.fa -a depth.txt -o init_bins/bin --saveCls --unbinned -t 20\n"
     ]
    }
   ],
   "source": [
    "exp_dict = {'SIP': 'window', 'nonSIP': 'nonSIP'}\n",
    "\n",
    "binDir = os.path.join(workDir, 'binning')\n",
    "#if not os.path.exists(binDir):\n",
    "#    os.makedirs(binDir)\n",
    "    \n",
    "for followup_set in ['incorp25_lowGC', 'incorp100_lowGC', \n",
    "                     'lightwindow_highGC', 'mediumwindow_highGC', 'heavywindow_highGC']:\n",
    "    for exp_type in ['SIP', 'nonSIP']:\n",
    "        subbinDir = '_'.join([followup_set, exp_type])\n",
    "        subbinDir = os.path.join(binDir, subbinDir)\n",
    "        if not os.path.exists(subbinDir):\n",
    "            os.makedirs(subbinDir)\n",
    "        %cd $subbinDir\n",
    "\n",
    "        contigFile = '_'.join([followup_set, exp_type])\n",
    "        contigFile = os.path.join(workDir, 'coassembly', contigFile, 'final.contigs.fa')\n",
    "\n",
    "        print('Summarizing contig depths')\n",
    "        cmd = 'jgi_summarize_bam_contig_depths --outputDepth depth.txt --minContigLength 1000 --minContigDepth 2 library_1_sorted.bam library_2_sorted.bam library_3_sorted.bam library_4_sorted.bam library_5_sorted.bam library_6_sorted.bam'\n",
    "        print(cmd)\n",
    "        os.system(cmd)\n",
    "\n",
    "        print('Binning')\n",
    "        cmd = ' '.join(['metabat2 -i', contigFile, \n",
    "                        '-a depth.txt', \n",
    "                        '-o init_bins/bin',\n",
    "                        '--saveCls',\n",
    "                        '--unbinned',\n",
    "                        '-t', str(nprocs)])\n",
    "        print(cmd)\n",
    "        os.system(cmd)\n",
    "\n",
    "        print('---\\n')"
   ]
  },
  {
   "cell_type": "code",
   "execution_count": 11,
   "metadata": {},
   "outputs": [
    {
     "name": "stdout",
     "output_type": "stream",
     "text": [
      "Done\n"
     ]
    }
   ],
   "source": [
    "print('Done')"
   ]
  },
  {
   "cell_type": "code",
   "execution_count": null,
   "metadata": {},
   "outputs": [],
   "source": []
  }
 ],
 "metadata": {
  "kernelspec": {
   "display_name": "Python 2",
   "language": "python",
   "name": "python2"
  },
  "language_info": {
   "codemirror_mode": {
    "name": "ipython",
    "version": 2
   },
   "file_extension": ".py",
   "mimetype": "text/x-python",
   "name": "python",
   "nbconvert_exporter": "python",
   "pygments_lexer": "ipython2",
   "version": "2.7.15"
  }
 },
 "nbformat": 4,
 "nbformat_minor": 2
}
