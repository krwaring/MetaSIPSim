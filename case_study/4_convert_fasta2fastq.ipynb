{
 "cells": [
  {
   "cell_type": "markdown",
   "metadata": {},
   "source": [
    "# Converting fasta files to fastq\n",
    "\n",
    "Samuel Barnett\n",
    "\n",
    "### Introduction\n",
    "\n",
    "The MetaSIPSim simulations generated reads in fasta format. I need them in fastq format so I'll do the conversion here. This requires InSilicoSeq https://github.com/HadrienG/InSilicoSeq."
   ]
  },
  {
   "cell_type": "markdown",
   "metadata": {},
   "source": [
    "## 1) Initialization\n",
    "\n",
    "First I need to import the python modules I'll use, set some variables, initiate R magic, and create/get into the working directory."
   ]
  },
  {
   "cell_type": "code",
   "execution_count": 1,
   "metadata": {},
   "outputs": [],
   "source": [
    "import os\n",
    "workDir = '/home/sam/data/SIPSim2_data/RealWorld_study3/'\n",
    "nprocs = 20"
   ]
  },
  {
   "cell_type": "code",
   "execution_count": 2,
   "metadata": {},
   "outputs": [
    {
     "name": "stdout",
     "output_type": "stream",
     "text": [
      "/home/sam/data/SIPSim2_data/RealWorld_study3\n"
     ]
    }
   ],
   "source": [
    "if not os.path.isdir(workDir):\n",
    "    print(\"Working directory does not exist!!!\")\n",
    "%cd $workDir"
   ]
  },
  {
   "cell_type": "markdown",
   "metadata": {},
   "source": [
    "## 2) Converting fasta to fastq\n",
    "\n",
    "This conversion seeds to be done for each individual read file and is direction dependent."
   ]
  },
  {
   "cell_type": "code",
   "execution_count": null,
   "metadata": {},
   "outputs": [
    {
     "name": "stdout",
     "output_type": "stream",
     "text": [
      "/home/sam/data/SIPSim2_data/RealWorld_study3/low_GC_skew/depth5MM\n",
      "Converting read files in /home/sam/data/SIPSim2_data/RealWorld_study3/low_GC_skew/depth5MM \n",
      "\n",
      "python /home/sam/notebooks/SIPSim_metagenome/bin/fasta2fastq.py library_2_window_1.72-1.77_reads_f.fasta forward /home/sam/data/SIPSim2_data/ISS_error_models/NovaSeq 151 tmp 20\n",
      "rm library_2_window_1.72-1.77_reads_f.fasta\n",
      "\n",
      "python /home/sam/notebooks/SIPSim_metagenome/bin/fasta2fastq.py nonSIP_library_3_reads_r.fasta reverse /home/sam/data/SIPSim2_data/ISS_error_models/NovaSeq 151 tmp 20\n"
     ]
    }
   ],
   "source": [
    "for genome_set in ['low_GC_skew', 'medium_GC', 'high_GC_skew']:\n",
    "    for depth in ['depth5MM', 'depth10MM']:\n",
    "        subDir = os.path.join(workDir, genome_set)\n",
    "        subDir = os.path.join(subDir, depth)\n",
    "        %cd $subDir\n",
    "        print ' '.join(['Converting read files in', subDir, '\\n'])\n",
    "        \n",
    "        filelist = [f for f in os.listdir(subDir) if 'fasta.gz' in f]\n",
    "        for fastafile in filelist:\n",
    "            # Unzip fasta files\n",
    "            cmd = 'pigz -d -k -p ' + str(nprocs) + ' ' + fastafile\n",
    "            os.system(cmd)\n",
    "            fastafile = fastafile.replace(\".gz\", \"\")\n",
    "            \n",
    "            if fastafile.endswith('reads_f.fasta'):\n",
    "                direction = 'forward'\n",
    "            elif fastafile.endswith('reads_r.fasta'):\n",
    "                direction = 'reverse'\n",
    "                \n",
    "            # Convert fasta to fastq with NovaSeq model\n",
    "            cmd = ' '.join(['python /home/sam/notebooks/SIPSim_metagenome/bin/fasta2fastq.py', \n",
    "                            fastafile, direction, \n",
    "                            '/home/sam/data/SIPSim2_data/ISS_error_models/NovaSeq 151 tmp', \n",
    "                            str(nprocs)])\n",
    "            print cmd\n",
    "            os.system(cmd)\n",
    "\n",
    "            # Cleanup\n",
    "            cmd = 'rm ' + fastafile\n",
    "            print cmd + '\\n'\n",
    "            os.system(cmd)\n",
    "        print '---\\n'\n",
    "    print '------\\n'\n"
   ]
  },
  {
   "cell_type": "code",
   "execution_count": 4,
   "metadata": {},
   "outputs": [
    {
     "name": "stdout",
     "output_type": "stream",
     "text": [
      "Done\n"
     ]
    }
   ],
   "source": [
    "print('Done')"
   ]
  },
  {
   "cell_type": "code",
   "execution_count": null,
   "metadata": {},
   "outputs": [],
   "source": []
  }
 ],
 "metadata": {
  "kernelspec": {
   "display_name": "Python 2",
   "language": "python",
   "name": "python2"
  },
  "language_info": {
   "codemirror_mode": {
    "name": "ipython",
    "version": 2
   },
   "file_extension": ".py",
   "mimetype": "text/x-python",
   "name": "python",
   "nbconvert_exporter": "python",
   "pygments_lexer": "ipython2",
   "version": "2.7.15"
  }
 },
 "nbformat": 4,
 "nbformat_minor": 2
}
