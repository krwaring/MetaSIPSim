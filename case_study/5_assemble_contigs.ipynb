{
 "cells": [
  {
   "cell_type": "markdown",
   "metadata": {},
   "source": [
    "# Assembling contigs\n",
    "\n",
    "Samuel Barnett\n",
    "\n",
    "### Introduction\n",
    "Assembling contigs from simulating reads using megahit. I will run separate co-assemblies for each experiment type, genome set, and read depth, just like a real experiment (6 libraries per assembly)."
   ]
  },
  {
   "cell_type": "markdown",
   "metadata": {},
   "source": [
    "## 1) Initialization\n",
    "\n",
    "First I need to import the python modules I'll use, set some variables, initiate R magic, and create/get into the working directory."
   ]
  },
  {
   "cell_type": "code",
   "execution_count": 1,
   "metadata": {},
   "outputs": [],
   "source": [
    "import os\n",
    "workDir = '/home/sam/data/SIPSim2_data/RealWorld_study3/'\n",
    "nprocs = 20"
   ]
  },
  {
   "cell_type": "code",
   "execution_count": 2,
   "metadata": {},
   "outputs": [
    {
     "name": "stdout",
     "output_type": "stream",
     "text": [
      "/home/sam/data/SIPSim2_data/RealWorld_study3\n"
     ]
    }
   ],
   "source": [
    "if not os.path.isdir(workDir):\n",
    "    print(\"Working directory does not exist!!!\")\n",
    "%cd $workDir"
   ]
  },
  {
   "cell_type": "markdown",
   "metadata": {},
   "source": [
    "## 2) Assembly\n",
    "\n",
    "Co-assemblies will be done separately for each experiment type (SIPS and nonSIP), reference genome set (lowGC, medGC, highGC) and sequencing depth (5MM and 10MM)"
   ]
  },
  {
   "cell_type": "code",
   "execution_count": null,
   "metadata": {},
   "outputs": [
    {
     "name": "stdout",
     "output_type": "stream",
     "text": [
      "/home/sam/data/SIPSim2_data/RealWorld_study3/low_GC_skew/depth5MM\n",
      "\n",
      "Generating assembly command for lowGC 5MM SIP experiment\n",
      "\n"
     ]
    }
   ],
   "source": [
    "genset_dict = {'low_GC_skew': 'lowGC', \n",
    "               'medium_GC': 'medGC', \n",
    "               'high_GC_skew': 'highGC'}\n",
    "depth_dict = {'depth5MM': '5MM', \n",
    "              'depth10MM': '10MM'}\n",
    "exp_dict = {'SIP': 'window', 'nonSIP': 'nonSIP'}\n",
    "\n",
    "assemblyDir = os.path.join(workDir, 'coassembly')\n",
    "if not os.path.exists(assemblyDir):\n",
    "    os.makedirs(assemblyDir)\n",
    "\n",
    "for genome_set in ['low_GC_skew', 'medium_GC', 'high_GC_skew']:\n",
    "    for depth in ['depth5MM', 'depth10MM']:\n",
    "        subDir = os.path.join(workDir, genome_set, depth)\n",
    "        %cd $subDir\n",
    "                \n",
    "        for exp_type in ['SIP', 'nonSIP']:\n",
    "            print(' '.join(['\\nGenerating assembly command for', genset_dict[genome_set], \n",
    "                            depth_dict[depth], exp_type, 'experiment\\n']))\n",
    "            \n",
    "            F_filelist = [f for f in os.listdir(subDir) if 'f.fastq.gz' in f if exp_dict[exp_type] in f]\n",
    "            R_filelist = [f for f in os.listdir(subDir) if 'r.fastq.gz' in f if exp_dict[exp_type] in f]\n",
    "            outputDir = '_'.join([genset_dict[genome_set], depth_dict[depth], exp_type])\n",
    "\n",
    "            outputDir = os.path.join(assemblyDir, outputDir)\n",
    "\n",
    "            cmd = ' '.join(['megahit', \n",
    "                            '-1', ','.join(sorted(F_filelist)), \n",
    "                            '-2', ','.join(sorted(R_filelist)), \n",
    "                            '-t', str(nprocs),\n",
    "                            '-m', '0.8',\n",
    "                            '-o', outputDir])\n",
    "            os.system(cmd)\n",
    "            \n",
    "            print(cmd)\n",
    "            print('\\n')\n"
   ]
  },
  {
   "cell_type": "code",
   "execution_count": 4,
   "metadata": {},
   "outputs": [
    {
     "name": "stdout",
     "output_type": "stream",
     "text": [
      "done\n"
     ]
    }
   ],
   "source": [
    "print(\"done\")"
   ]
  }
 ],
 "metadata": {
  "kernelspec": {
   "display_name": "Python 2",
   "language": "python",
   "name": "python2"
  },
  "language_info": {
   "codemirror_mode": {
    "name": "ipython",
    "version": 2
   },
   "file_extension": ".py",
   "mimetype": "text/x-python",
   "name": "python",
   "nbconvert_exporter": "python",
   "pygments_lexer": "ipython2",
   "version": "2.7.15"
  }
 },
 "nbformat": 4,
 "nbformat_minor": 2
}
