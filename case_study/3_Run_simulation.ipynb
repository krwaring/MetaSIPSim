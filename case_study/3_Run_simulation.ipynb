{
 "cells": [
  {
   "cell_type": "markdown",
   "metadata": {},
   "source": [
    "# Running MetaSIPSim simulations\n",
    "\n",
    "Samuel Barnett\n",
    "\n",
    "### Introduction\n",
    "\n",
    "This notebook makes the configuration files and the commands to run the simulations. \n"
   ]
  },
  {
   "cell_type": "markdown",
   "metadata": {},
   "source": [
    "## 1) Initialization\n",
    "\n",
    "First I need to import the python modules I'll use, set some variables, initiate R magic, and create/get into the working directory."
   ]
  },
  {
   "cell_type": "code",
   "execution_count": 12,
   "metadata": {},
   "outputs": [],
   "source": [
    "import os\n",
    "workDir = '/home/sam/data/SIPSim2_data/RealWorld_study3/'\n",
    "genomeDir = '/home/sam/databases/ncbi_genomes/ncbi-genomes-2019-01-25/'\n",
    "\n",
    "nprocs = 20"
   ]
  },
  {
   "cell_type": "code",
   "execution_count": 13,
   "metadata": {},
   "outputs": [],
   "source": [
    "import sys\n",
    "import pandas as pd\n",
    "import numpy as np\n",
    "import ConfigParser\n"
   ]
  },
  {
   "cell_type": "code",
   "execution_count": 14,
   "metadata": {},
   "outputs": [
    {
     "name": "stdout",
     "output_type": "stream",
     "text": [
      "/home/sam/data/SIPSim2_data/RealWorld_study3\n",
      "/home/sam/databases/ncbi_genomes/ncbi-genomes-2019-01-25/\n"
     ]
    }
   ],
   "source": [
    "# making directories\n",
    "## working directory\n",
    "if not os.path.isdir(workDir):\n",
    "    print(\"Working directory does not exist!!!\")\n",
    "%cd $workDir\n",
    "\n",
    "## genome directory\n",
    "if not os.path.isdir(genomeDir):\n",
    "    print(\"Genome directory does not exist!!!\")\n",
    "else:\n",
    "    print(genomeDir)"
   ]
  },
  {
   "cell_type": "markdown",
   "metadata": {},
   "source": [
    "### Make new directories to store reads"
   ]
  },
  {
   "cell_type": "code",
   "execution_count": null,
   "metadata": {},
   "outputs": [],
   "source": [
    "# making directories\n",
    "lowreadDir = os.path.join(workDir, 'low_GC_skew')\n",
    "if not os.path.isdir(lowreadDir):\n",
    "    os.makedirs(lowreadDir)\n",
    "    os.makedirs(os.path.join(lowreadDir, 'depth5MM'))\n",
    "    os.makedirs(os.path.join(lowreadDir, 'depth10MM'))\n",
    "    \n",
    "medreadDir = os.path.join(workDir, 'medium_GC')\n",
    "if not os.path.isdir(medreadDir):\n",
    "    os.makedirs(medreadDir)\n",
    "    os.makedirs(os.path.join(medreadDir, 'depth5MM'))\n",
    "    os.makedirs(os.path.join(medreadDir, 'depth10MM'))\n",
    "    \n",
    "highreadDir = os.path.join(workDir, 'high_GC_skew')\n",
    "if not os.path.isdir(highreadDir):\n",
    "    os.makedirs(highreadDir)\n",
    "    os.makedirs(os.path.join(highreadDir, 'depth5MM'))\n",
    "    os.makedirs(os.path.join(highreadDir, 'depth10MM'))\n"
   ]
  },
  {
   "cell_type": "markdown",
   "metadata": {},
   "source": [
    "## 2) Configuration file\n",
    "\n",
    "Now I'll make the file containing all the configurations needed to run the MetaSIPSim simulations. In this case I need a separate one for each simulation."
   ]
  },
  {
   "cell_type": "markdown",
   "metadata": {},
   "source": [
    "### Initial config file\n",
    "This configuration file will contain the configurations that will be the same across all simulations. I'll will modify them after for each individual simulation. For each individual simulation I need to separately set:\n",
    "\n",
    "* Genome index (genome_index_file)\n",
    "* Community composition table (community_file)\n",
    "* Incorporator table (incorporator_file)\n",
    "* Read depth (final_number_of_sequences)\n",
    "* Number of reads per iteration, which is equal to read depth as I only one one iteration (number_of_sequences_per_iteration)\n",
    "* Logfile name just to keep things straight (logfile) \n"
   ]
  },
  {
   "cell_type": "code",
   "execution_count": 15,
   "metadata": {},
   "outputs": [],
   "source": [
    "config = ConfigParser.SafeConfigParser()\n",
    "\n",
    "## Other parameters\n",
    "config.add_section('Other')\n",
    "config.set('Other', 'temp_directory', './tmp')\n",
    "config.set('Other', 'threads', str(nprocs))\n",
    "#config.set('Other', 'logfile', 'simulation.log')\n",
    "#config.set('Other', 'endpoint', 'fragment_list')\n",
    "#config.set('Other', 'endpoint', 'read_list')\n",
    "config.set('Other', 'endpoint', 'read_sequences')\n",
    "\n",
    "## Library parameters\n",
    "config.add_section('Library')\n",
    "config.set('Library', 'library_list', '1, 2, 3, 4, 5, 6')\n",
    "\n",
    "config.set('Library', 'window_or_fraction', 'window')\n",
    "config.set('Library', 'min_bouyant_density_sequenced', '1.72')\n",
    "config.set('Library', 'max_bouyant_density_sequenced', '1.77')\n",
    "\n",
    "## Fragment parameters\n",
    "config.add_section('Fragment')\n",
    "#config.set('Fragment', 'genome_index_file', 'genome_index.txt')\n",
    "config.set('Fragment', 'genomeDir', genomeDir)\n",
    "config.set('Fragment', 'frag_length_distribution', 'skewed-normal,9000,2500,-5')\n",
    "config.set('Fragment', 'coverage_of_fragments', '100')\n",
    "config.set('Fragment', 'temp_fragment_file', 'tmp.frags')\n",
    "\n",
    "## Gradient parameters\n",
    "config.add_section('Gradient')\n",
    "config.set('Gradient', 'temperature', '293.15')\n",
    "config.set('Gradient', 'avg_density', '1.69')\n",
    "config.set('Gradient', 'angular_velocity', '33172837')\n",
    "config.set('Gradient', 'min_rotation_radius', '2.6')\n",
    "config.set('Gradient', 'max_rotation_radius', '4.85')\n",
    "config.set('Gradient', 'tube_angle', '28.6')\n",
    "config.set('Gradient', 'tube_radius', '0.66')\n",
    "config.set('Gradient', 'tube_height', '4.7')\n",
    "config.set('Gradient', 'fraction_frag_in_DBL', '0.001')\n",
    "config.set('Gradient', 'isotope', 'C')\n",
    "\n",
    "## Model parameters\n",
    "config.add_section('Model')\n",
    "config.set('Model', 'min_bouyant_density', '1.67')\n",
    "config.set('Model', 'max_bouyant_density', '1.775')\n",
    "config.set('Model', 'bouyant_density_step', '0.0001')\n",
    "config.set('Model', 'fraction_table_file', os.path.join(workDir, 'fractions.txt'))\n",
    "\n",
    "## Community parameters\n",
    "#config.add_section('Community')\n",
    "#config.set('Community', 'community_file', 'full_comm.txt')\n",
    "#config.set('Community', 'incorporator_file', 'incorporators.txt')\n",
    "\n",
    "\n",
    "## Sequencing parameters\n",
    "config.add_section('Sequencing')\n",
    "config.set('Sequencing', 'max_read_length', '151')\n",
    "config.set('Sequencing', 'avg_insert_size', '1000')\n",
    "config.set('Sequencing', 'stddev_insert_size', '5')\n",
    "#config.set('Sequencing', 'final_number_of_sequences', '10000000')\n",
    "#config.set('Sequencing', 'number_of_sequences_per_iteration', '10000000')\n",
    "\n",
    "# Writing our configuration file to 'example.cfg'\n",
    "with open('initial_parameters.cfg', 'wb') as configfile:\n",
    "    config.write(configfile)"
   ]
  },
  {
   "cell_type": "markdown",
   "metadata": {},
   "source": [
    "### Low GC community\n",
    "\n",
    "5,000,000 reads"
   ]
  },
  {
   "cell_type": "code",
   "execution_count": 17,
   "metadata": {},
   "outputs": [],
   "source": [
    "config = ConfigParser.SafeConfigParser()\n",
    "config.read(os.path.join(workDir, 'initial_parameters.cfg'))\n",
    "\n",
    "\n",
    "config.set('Other', 'logfile', 'low_GC_skew_simulation.log')\n",
    "config.set('Fragment', 'genome_index_file', os.path.join(workDir, 'low_GC_skew_genome_index.txt'))\n",
    "\n",
    "## Community parameters\n",
    "config.add_section('Community')\n",
    "config.set('Community', 'community_file', os.path.join(workDir, 'low_GC_skew_comm.txt'))\n",
    "config.set('Community', 'incorporator_file', os.path.join(workDir, 'low_GC_skew_incorporators.txt'))\n",
    "\n",
    "## Sequencing parameters\n",
    "config.set('Sequencing', 'final_number_of_sequences', '5000000')\n",
    "config.set('Sequencing', 'number_of_sequences_per_iteration', '5000000')\n",
    "\n",
    "# Writing our configuration file to 'example.cfg'\n",
    "with open(os.path.join(lowreadDir, 'depth5MM/low_GC_skew_parameters.cfg'), 'wb') as configfile:\n",
    "    config.write(configfile)"
   ]
  },
  {
   "cell_type": "markdown",
   "metadata": {},
   "source": [
    "10,000,000 reads"
   ]
  },
  {
   "cell_type": "code",
   "execution_count": 18,
   "metadata": {},
   "outputs": [],
   "source": [
    "config = ConfigParser.SafeConfigParser()\n",
    "config.read(os.path.join(workDir, 'initial_parameters.cfg'))\n",
    "\n",
    "\n",
    "config.set('Other', 'logfile', 'low_GC_skew_simulation.log')\n",
    "config.set('Fragment', 'genome_index_file', os.path.join(workDir, 'low_GC_skew_genome_index.txt'))\n",
    "\n",
    "## Community parameters\n",
    "config.add_section('Community')\n",
    "config.set('Community', 'community_file', os.path.join(workDir, 'low_GC_skew_comm.txt'))\n",
    "config.set('Community', 'incorporator_file', os.path.join(workDir, 'low_GC_skew_incorporators.txt'))\n",
    "\n",
    "## Sequencing parameters\n",
    "config.set('Sequencing', 'final_number_of_sequences', '10000000')\n",
    "config.set('Sequencing', 'number_of_sequences_per_iteration', '10000000')\n",
    "\n",
    "# Writing our configuration file to 'example.cfg'\n",
    "with open(os.path.join(lowreadDir, 'depth10MM/low_GC_skew_parameters.cfg'), 'wb') as configfile:\n",
    "    config.write(configfile)"
   ]
  },
  {
   "cell_type": "markdown",
   "metadata": {},
   "source": [
    "### Medium GC community\n",
    "5,000,000 reads"
   ]
  },
  {
   "cell_type": "code",
   "execution_count": 19,
   "metadata": {},
   "outputs": [],
   "source": [
    "config = ConfigParser.SafeConfigParser()\n",
    "config.read(os.path.join(workDir, 'initial_parameters.cfg'))\n",
    "\n",
    "\n",
    "config.set('Other', 'logfile', 'medium_GC_simulation.log')\n",
    "config.set('Fragment', 'genome_index_file', os.path.join(workDir, 'medium_GC_genome_index.txt'))\n",
    "\n",
    "## Community parameters\n",
    "config.add_section('Community')\n",
    "config.set('Community', 'community_file', os.path.join(workDir, 'medium_GC_comm.txt'))\n",
    "config.set('Community', 'incorporator_file', os.path.join(workDir, 'medium_GC_incorporators.txt'))\n",
    "\n",
    "## Sequencing parameters\n",
    "config.set('Sequencing', 'final_number_of_sequences', '5000000')\n",
    "config.set('Sequencing', 'number_of_sequences_per_iteration', '5000000')\n",
    "\n",
    "# Writing our configuration file to 'example.cfg'\n",
    "with open(os.path.join(medreadDir, 'depth5MM/medium_GC_parameters.cfg'), 'wb') as configfile:\n",
    "    config.write(configfile)"
   ]
  },
  {
   "cell_type": "markdown",
   "metadata": {},
   "source": [
    "10,000,000 reads"
   ]
  },
  {
   "cell_type": "code",
   "execution_count": 20,
   "metadata": {},
   "outputs": [],
   "source": [
    "config = ConfigParser.SafeConfigParser()\n",
    "config.read(os.path.join(workDir, 'initial_parameters.cfg'))\n",
    "\n",
    "\n",
    "config.set('Other', 'logfile', 'medium_GC_simulation.log')\n",
    "config.set('Fragment', 'genome_index_file', os.path.join(workDir, 'medium_GC_genome_index.txt'))\n",
    "\n",
    "## Community parameters\n",
    "config.add_section('Community')\n",
    "config.set('Community', 'community_file', os.path.join(workDir, 'medium_GC_comm.txt'))\n",
    "config.set('Community', 'incorporator_file', os.path.join(workDir, 'medium_GC_incorporators.txt'))\n",
    "\n",
    "## Sequencing parameters\n",
    "config.set('Sequencing', 'final_number_of_sequences', '10000000')\n",
    "config.set('Sequencing', 'number_of_sequences_per_iteration', '10000000')\n",
    "\n",
    "# Writing our configuration file to 'example.cfg'\n",
    "with open(os.path.join(medreadDir, 'depth10MM/medium_GC_parameters.cfg'), 'wb') as configfile:\n",
    "    config.write(configfile)"
   ]
  },
  {
   "cell_type": "markdown",
   "metadata": {},
   "source": [
    "### High GC community\n",
    "5,000,000 reads"
   ]
  },
  {
   "cell_type": "code",
   "execution_count": 21,
   "metadata": {},
   "outputs": [],
   "source": [
    "config = ConfigParser.SafeConfigParser()\n",
    "config.read(os.path.join(workDir, 'initial_parameters.cfg'))\n",
    "\n",
    "\n",
    "config.set('Other', 'logfile', 'high_GC_skew_simulation.log')\n",
    "config.set('Fragment', 'genome_index_file', os.path.join(workDir, 'high_GC_skew_genome_index.txt'))\n",
    "\n",
    "## Community parameters\n",
    "config.add_section('Community')\n",
    "config.set('Community', 'community_file', os.path.join(workDir, 'high_GC_skew_comm.txt'))\n",
    "config.set('Community', 'incorporator_file', os.path.join(workDir, 'high_GC_skew_incorporators.txt'))\n",
    "\n",
    "## Sequencing parameters\n",
    "config.set('Sequencing', 'final_number_of_sequences', '5000000')\n",
    "config.set('Sequencing', 'number_of_sequences_per_iteration', '5000000')\n",
    "\n",
    "# Writing our configuration file to 'example.cfg'\n",
    "with open(os.path.join(highreadDir, 'depth5MM/high_GC_skew_parameters.cfg'), 'wb') as configfile:\n",
    "    config.write(configfile)"
   ]
  },
  {
   "cell_type": "markdown",
   "metadata": {},
   "source": [
    "10,000,000 reads"
   ]
  },
  {
   "cell_type": "code",
   "execution_count": 22,
   "metadata": {},
   "outputs": [],
   "source": [
    "config = ConfigParser.SafeConfigParser()\n",
    "config.read(os.path.join(workDir, 'initial_parameters.cfg'))\n",
    "\n",
    "\n",
    "config.set('Other', 'logfile', 'high_GC_skew_simulation.log')\n",
    "config.set('Fragment', 'genome_index_file', os.path.join(workDir, 'high_GC_skew_genome_index.txt'))\n",
    "\n",
    "## Community parameters\n",
    "config.add_section('Community')\n",
    "config.set('Community', 'community_file', os.path.join(workDir, 'high_GC_skew_comm.txt'))\n",
    "config.set('Community', 'incorporator_file', os.path.join(workDir, 'high_GC_skew_incorporators.txt'))\n",
    "\n",
    "## Sequencing parameters\n",
    "config.set('Sequencing', 'final_number_of_sequences', '10000000')\n",
    "config.set('Sequencing', 'number_of_sequences_per_iteration', '10000000')\n",
    "\n",
    "# Writing our configuration file to 'example.cfg'\n",
    "with open(os.path.join(highreadDir, 'depth10MM/high_GC_skew_parameters.cfg'), 'wb') as configfile:\n",
    "    config.write(configfile)"
   ]
  },
  {
   "cell_type": "markdown",
   "metadata": {},
   "source": [
    "## 3) Get fragments\n",
    "\n",
    "Since this takes a while to run, I'm going to run this in my terminal rather than through jupyter notebook. Each of these is run while in the appropriate working directory"
   ]
  },
  {
   "cell_type": "markdown",
   "metadata": {},
   "source": [
    "### Low GC community\n",
    "\n",
    "\n",
    "#### SIP simulation\n",
    "screen -L -S SIPSim2_low_GC_skew python /home/sam/notebooks/SIPSim_metagenome/bin/SIPSim_metagenome.py low_GC_skew_parameters.cfg\n",
    "\n",
    "#### non-SIP simulation\n",
    "screen -L -S SIPSim2_low_GC_skew python /home/sam/notebooks/SIPSim_metagenome/bin/nonSIP_metagenome.py low_GC_skew_parameters.cfg"
   ]
  },
  {
   "cell_type": "markdown",
   "metadata": {},
   "source": [
    "### Medium GC community\n",
    "\n",
    "\n",
    "#### SIP simulation\n",
    "screen -L -S SIPSim2_medium_GC python /home/sam/notebooks/SIPSim_metagenome/bin/SIPSim_metagenome.py medium_GC_parameters.cfg\n",
    "\n",
    "#### non-SIP simulation\n",
    "screen -L -S SIPSim2_medium_GC python /home/sam/notebooks/SIPSim_metagenome/bin/nonSIP_metagenome.py medium_GC_parameters.cfg"
   ]
  },
  {
   "cell_type": "markdown",
   "metadata": {},
   "source": [
    "### High GC community\n",
    "\n",
    "\n",
    "#### SIP simulation\n",
    "screen -L -S SIPSim2_high_GC_skew python /home/sam/notebooks/SIPSim_metagenome/bin/SIPSim_metagenome.py high_GC_skew_parameters.cfg\n",
    "\n",
    "#### non-SIP simulation\n",
    "screen -L -S SIPSim2_high_GC_skew python /home/sam/notebooks/SIPSim_metagenome/bin/nonSIP_metagenome.py high_GC_skew_parameters.cfg"
   ]
  }
 ],
 "metadata": {
  "anaconda-cloud": {},
  "kernelspec": {
   "display_name": "Python 2",
   "language": "python",
   "name": "python2"
  },
  "language_info": {
   "codemirror_mode": {
    "name": "ipython",
    "version": 2
   },
   "file_extension": ".py",
   "mimetype": "text/x-python",
   "name": "python",
   "nbconvert_exporter": "python",
   "pygments_lexer": "ipython2",
   "version": "2.7.15"
  }
 },
 "nbformat": 4,
 "nbformat_minor": 1
}
