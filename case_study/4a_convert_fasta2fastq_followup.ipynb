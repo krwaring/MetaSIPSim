{
 "cells": [
  {
   "cell_type": "markdown",
   "metadata": {},
   "source": [
    "# Converting fasta files to fastq for followup simulations\n",
    "\n",
    "Samuel Barnett\n",
    "\n",
    "### Introduction\n",
    "\n",
    "The MetaSIPSim follow-up simulations generated reads in fasta format. I need them in fastq format so I'll do the conversion here. This requires InSilicoSeq https://github.com/HadrienG/InSilicoSeq."
   ]
  },
  {
   "cell_type": "markdown",
   "metadata": {},
   "source": [
    "## 1) Initialization\n",
    "\n",
    "First I need to import the python modules I'll use, set some variables, initiate R magic, and create/get into the working directory."
   ]
  },
  {
   "cell_type": "code",
   "execution_count": 2,
   "metadata": {},
   "outputs": [],
   "source": [
    "import os\n",
    "workDir = '/home/sam/data/SIPSim2_data/RealWorld_study3/followup_sims/'\n",
    "nprocs = 15"
   ]
  },
  {
   "cell_type": "code",
   "execution_count": 3,
   "metadata": {},
   "outputs": [
    {
     "name": "stdout",
     "output_type": "stream",
     "text": [
      "/home/sam/data/SIPSim2_data/RealWorld_study3/followup_sims\n"
     ]
    }
   ],
   "source": [
    "if not os.path.isdir(workDir):\n",
    "    print(\"Working directory does not exist!!!\")\n",
    "%cd $workDir"
   ]
  },
  {
   "cell_type": "markdown",
   "metadata": {},
   "source": [
    "## 2) Converting fasta to fastq\n",
    "\n",
    "This conversion seeds to be done for each individual read file and is direction dependent."
   ]
  },
  {
   "cell_type": "code",
   "execution_count": null,
   "metadata": {},
   "outputs": [
    {
     "name": "stdout",
     "output_type": "stream",
     "text": [
      "/home/sam/data/SIPSim2_data/RealWorld_study3/followup_sims/incorp25_lowGC\n",
      "Converting read files in /home/sam/data/SIPSim2_data/RealWorld_study3/followup_sims/incorp25_lowGC \n",
      "\n",
      "python /home/sam/notebooks/SIPSim_metagenome/bin/fasta2fastq.py library_1_window_1.72-1.77_reads_f.fasta forward /home/sam/data/SIPSim2_data/ISS_error_models/NovaSeq 151 tmp 15\n",
      "rm library_1_window_1.72-1.77_reads_f.fasta\n",
      "\n",
      "python /home/sam/notebooks/SIPSim_metagenome/bin/fasta2fastq.py library_1_window_1.72-1.77_reads_r.fasta reverse /home/sam/data/SIPSim2_data/ISS_error_models/NovaSeq 151 tmp 15\n",
      "rm library_1_window_1.72-1.77_reads_r.fasta\n",
      "\n",
      "python /home/sam/notebooks/SIPSim_metagenome/bin/fasta2fastq.py library_2_window_1.72-1.77_reads_f.fasta forward /home/sam/data/SIPSim2_data/ISS_error_models/NovaSeq 151 tmp 15\n",
      "rm library_2_window_1.72-1.77_reads_f.fasta\n",
      "\n",
      "python /home/sam/notebooks/SIPSim_metagenome/bin/fasta2fastq.py library_2_window_1.72-1.77_reads_r.fasta reverse /home/sam/data/SIPSim2_data/ISS_error_models/NovaSeq 151 tmp 15\n",
      "rm library_2_window_1.72-1.77_reads_r.fasta\n",
      "\n",
      "python /home/sam/notebooks/SIPSim_metagenome/bin/fasta2fastq.py library_3_window_1.72-1.77_reads_f.fasta forward /home/sam/data/SIPSim2_data/ISS_error_models/NovaSeq 151 tmp 15\n",
      "rm library_3_window_1.72-1.77_reads_f.fasta\n",
      "\n",
      "python /home/sam/notebooks/SIPSim_metagenome/bin/fasta2fastq.py library_3_window_1.72-1.77_reads_r.fasta reverse /home/sam/data/SIPSim2_data/ISS_error_models/NovaSeq 151 tmp 15\n",
      "rm library_3_window_1.72-1.77_reads_r.fasta\n",
      "\n",
      "python /home/sam/notebooks/SIPSim_metagenome/bin/fasta2fastq.py library_4_window_1.72-1.77_reads_f.fasta forward /home/sam/data/SIPSim2_data/ISS_error_models/NovaSeq 151 tmp 15\n",
      "rm library_4_window_1.72-1.77_reads_f.fasta\n",
      "\n",
      "python /home/sam/notebooks/SIPSim_metagenome/bin/fasta2fastq.py library_4_window_1.72-1.77_reads_r.fasta reverse /home/sam/data/SIPSim2_data/ISS_error_models/NovaSeq 151 tmp 15\n",
      "rm library_4_window_1.72-1.77_reads_r.fasta\n",
      "\n",
      "python /home/sam/notebooks/SIPSim_metagenome/bin/fasta2fastq.py library_5_window_1.72-1.77_reads_f.fasta forward /home/sam/data/SIPSim2_data/ISS_error_models/NovaSeq 151 tmp 15\n",
      "rm library_5_window_1.72-1.77_reads_f.fasta\n",
      "\n",
      "python /home/sam/notebooks/SIPSim_metagenome/bin/fasta2fastq.py library_5_window_1.72-1.77_reads_r.fasta reverse /home/sam/data/SIPSim2_data/ISS_error_models/NovaSeq 151 tmp 15\n",
      "rm library_5_window_1.72-1.77_reads_r.fasta\n",
      "\n",
      "python /home/sam/notebooks/SIPSim_metagenome/bin/fasta2fastq.py library_6_window_1.72-1.77_reads_f.fasta forward /home/sam/data/SIPSim2_data/ISS_error_models/NovaSeq 151 tmp 15\n",
      "rm library_6_window_1.72-1.77_reads_f.fasta\n",
      "\n",
      "python /home/sam/notebooks/SIPSim_metagenome/bin/fasta2fastq.py library_6_window_1.72-1.77_reads_r.fasta reverse /home/sam/data/SIPSim2_data/ISS_error_models/NovaSeq 151 tmp 15\n",
      "rm library_6_window_1.72-1.77_reads_r.fasta\n",
      "\n",
      "python /home/sam/notebooks/SIPSim_metagenome/bin/fasta2fastq.py nonSIP_library_1_reads_f.fasta forward /home/sam/data/SIPSim2_data/ISS_error_models/NovaSeq 151 tmp 15\n",
      "rm nonSIP_library_1_reads_f.fasta\n",
      "\n",
      "python /home/sam/notebooks/SIPSim_metagenome/bin/fasta2fastq.py nonSIP_library_1_reads_r.fasta reverse /home/sam/data/SIPSim2_data/ISS_error_models/NovaSeq 151 tmp 15\n",
      "rm nonSIP_library_1_reads_r.fasta\n",
      "\n",
      "python /home/sam/notebooks/SIPSim_metagenome/bin/fasta2fastq.py nonSIP_library_2_reads_f.fasta forward /home/sam/data/SIPSim2_data/ISS_error_models/NovaSeq 151 tmp 15\n",
      "rm nonSIP_library_2_reads_f.fasta\n",
      "\n",
      "python /home/sam/notebooks/SIPSim_metagenome/bin/fasta2fastq.py nonSIP_library_2_reads_r.fasta reverse /home/sam/data/SIPSim2_data/ISS_error_models/NovaSeq 151 tmp 15\n",
      "rm nonSIP_library_2_reads_r.fasta\n",
      "\n",
      "python /home/sam/notebooks/SIPSim_metagenome/bin/fasta2fastq.py nonSIP_library_3_reads_f.fasta forward /home/sam/data/SIPSim2_data/ISS_error_models/NovaSeq 151 tmp 15\n",
      "rm nonSIP_library_3_reads_f.fasta\n",
      "\n",
      "python /home/sam/notebooks/SIPSim_metagenome/bin/fasta2fastq.py nonSIP_library_3_reads_r.fasta reverse /home/sam/data/SIPSim2_data/ISS_error_models/NovaSeq 151 tmp 15\n",
      "rm nonSIP_library_3_reads_r.fasta\n",
      "\n",
      "python /home/sam/notebooks/SIPSim_metagenome/bin/fasta2fastq.py nonSIP_library_4_reads_f.fasta forward /home/sam/data/SIPSim2_data/ISS_error_models/NovaSeq 151 tmp 15\n",
      "rm nonSIP_library_4_reads_f.fasta\n",
      "\n",
      "python /home/sam/notebooks/SIPSim_metagenome/bin/fasta2fastq.py nonSIP_library_4_reads_r.fasta reverse /home/sam/data/SIPSim2_data/ISS_error_models/NovaSeq 151 tmp 15\n",
      "rm nonSIP_library_4_reads_r.fasta\n",
      "\n",
      "python /home/sam/notebooks/SIPSim_metagenome/bin/fasta2fastq.py nonSIP_library_5_reads_f.fasta forward /home/sam/data/SIPSim2_data/ISS_error_models/NovaSeq 151 tmp 15\n",
      "rm nonSIP_library_5_reads_f.fasta\n",
      "\n",
      "python /home/sam/notebooks/SIPSim_metagenome/bin/fasta2fastq.py nonSIP_library_5_reads_r.fasta reverse /home/sam/data/SIPSim2_data/ISS_error_models/NovaSeq 151 tmp 15\n",
      "rm nonSIP_library_5_reads_r.fasta\n",
      "\n",
      "python /home/sam/notebooks/SIPSim_metagenome/bin/fasta2fastq.py nonSIP_library_6_reads_f.fasta forward /home/sam/data/SIPSim2_data/ISS_error_models/NovaSeq 151 tmp 15\n",
      "rm nonSIP_library_6_reads_f.fasta\n",
      "\n",
      "python /home/sam/notebooks/SIPSim_metagenome/bin/fasta2fastq.py nonSIP_library_6_reads_r.fasta reverse /home/sam/data/SIPSim2_data/ISS_error_models/NovaSeq 151 tmp 15\n",
      "rm nonSIP_library_6_reads_r.fasta\n",
      "\n",
      "---\n",
      "\n",
      "/home/sam/data/SIPSim2_data/RealWorld_study3/followup_sims/incorp100_lowGC\n",
      "Converting read files in /home/sam/data/SIPSim2_data/RealWorld_study3/followup_sims/incorp100_lowGC \n",
      "\n",
      "python /home/sam/notebooks/SIPSim_metagenome/bin/fasta2fastq.py library_1_window_1.72-1.77_reads_f.fasta forward /home/sam/data/SIPSim2_data/ISS_error_models/NovaSeq 151 tmp 15\n",
      "rm library_1_window_1.72-1.77_reads_f.fasta\n",
      "\n",
      "python /home/sam/notebooks/SIPSim_metagenome/bin/fasta2fastq.py library_1_window_1.72-1.77_reads_r.fasta reverse /home/sam/data/SIPSim2_data/ISS_error_models/NovaSeq 151 tmp 15\n",
      "rm library_1_window_1.72-1.77_reads_r.fasta\n",
      "\n",
      "python /home/sam/notebooks/SIPSim_metagenome/bin/fasta2fastq.py library_2_window_1.72-1.77_reads_f.fasta forward /home/sam/data/SIPSim2_data/ISS_error_models/NovaSeq 151 tmp 15\n",
      "rm library_2_window_1.72-1.77_reads_f.fasta\n",
      "\n",
      "python /home/sam/notebooks/SIPSim_metagenome/bin/fasta2fastq.py library_2_window_1.72-1.77_reads_r.fasta reverse /home/sam/data/SIPSim2_data/ISS_error_models/NovaSeq 151 tmp 15\n",
      "rm library_2_window_1.72-1.77_reads_r.fasta\n",
      "\n",
      "python /home/sam/notebooks/SIPSim_metagenome/bin/fasta2fastq.py library_3_window_1.72-1.77_reads_f.fasta forward /home/sam/data/SIPSim2_data/ISS_error_models/NovaSeq 151 tmp 15\n",
      "rm library_3_window_1.72-1.77_reads_f.fasta\n",
      "\n",
      "python /home/sam/notebooks/SIPSim_metagenome/bin/fasta2fastq.py library_3_window_1.72-1.77_reads_r.fasta reverse /home/sam/data/SIPSim2_data/ISS_error_models/NovaSeq 151 tmp 15\n",
      "rm library_3_window_1.72-1.77_reads_r.fasta\n",
      "\n",
      "python /home/sam/notebooks/SIPSim_metagenome/bin/fasta2fastq.py library_4_window_1.72-1.77_reads_f.fasta forward /home/sam/data/SIPSim2_data/ISS_error_models/NovaSeq 151 tmp 15\n",
      "rm library_4_window_1.72-1.77_reads_f.fasta\n",
      "\n",
      "python /home/sam/notebooks/SIPSim_metagenome/bin/fasta2fastq.py library_4_window_1.72-1.77_reads_r.fasta reverse /home/sam/data/SIPSim2_data/ISS_error_models/NovaSeq 151 tmp 15\n",
      "rm library_4_window_1.72-1.77_reads_r.fasta\n",
      "\n",
      "python /home/sam/notebooks/SIPSim_metagenome/bin/fasta2fastq.py library_5_window_1.72-1.77_reads_f.fasta forward /home/sam/data/SIPSim2_data/ISS_error_models/NovaSeq 151 tmp 15\n",
      "rm library_5_window_1.72-1.77_reads_f.fasta\n",
      "\n",
      "python /home/sam/notebooks/SIPSim_metagenome/bin/fasta2fastq.py library_5_window_1.72-1.77_reads_r.fasta reverse /home/sam/data/SIPSim2_data/ISS_error_models/NovaSeq 151 tmp 15\n",
      "rm library_5_window_1.72-1.77_reads_r.fasta\n",
      "\n",
      "python /home/sam/notebooks/SIPSim_metagenome/bin/fasta2fastq.py library_6_window_1.72-1.77_reads_f.fasta forward /home/sam/data/SIPSim2_data/ISS_error_models/NovaSeq 151 tmp 15\n",
      "rm library_6_window_1.72-1.77_reads_f.fasta\n",
      "\n",
      "python /home/sam/notebooks/SIPSim_metagenome/bin/fasta2fastq.py library_6_window_1.72-1.77_reads_r.fasta reverse /home/sam/data/SIPSim2_data/ISS_error_models/NovaSeq 151 tmp 15\n",
      "rm library_6_window_1.72-1.77_reads_r.fasta\n",
      "\n",
      "python /home/sam/notebooks/SIPSim_metagenome/bin/fasta2fastq.py nonSIP_library_1_reads_f.fasta forward /home/sam/data/SIPSim2_data/ISS_error_models/NovaSeq 151 tmp 15\n"
     ]
    },
    {
     "name": "stdout",
     "output_type": "stream",
     "text": [
      "rm nonSIP_library_1_reads_f.fasta\n",
      "\n",
      "python /home/sam/notebooks/SIPSim_metagenome/bin/fasta2fastq.py nonSIP_library_1_reads_r.fasta reverse /home/sam/data/SIPSim2_data/ISS_error_models/NovaSeq 151 tmp 15\n",
      "rm nonSIP_library_1_reads_r.fasta\n",
      "\n",
      "python /home/sam/notebooks/SIPSim_metagenome/bin/fasta2fastq.py nonSIP_library_2_reads_f.fasta forward /home/sam/data/SIPSim2_data/ISS_error_models/NovaSeq 151 tmp 15\n"
     ]
    }
   ],
   "source": [
    "for followup_set in ['incorp25_lowGC', 'incorp100_lowGC', \n",
    "                     'lightwindow_highGC', 'mediumwindow_highGC', 'heavywindow_highGC']:\n",
    "    subDir = os.path.join(workDir, followup_set)\n",
    "    %cd $subDir\n",
    "    print ' '.join(['Converting read files in', subDir, '\\n'])\n",
    "\n",
    "    filelist = [f for f in os.listdir(subDir) if 'fasta.gz' in f]\n",
    "    filelist.sort()\n",
    "    for fastafile in filelist:\n",
    "        # Unzip fasta files\n",
    "        cmd = 'pigz -d -k -p ' + str(nprocs) + ' ' + fastafile\n",
    "        os.system(cmd)\n",
    "        fastafile = fastafile.replace(\".gz\", \"\")\n",
    "\n",
    "        if fastafile.endswith('reads_f.fasta'):\n",
    "            direction = 'forward'\n",
    "        elif fastafile.endswith('reads_r.fasta'):\n",
    "            direction = 'reverse'\n",
    "\n",
    "        # Convert fasta to fastq with NovaSeq model\n",
    "        cmd = ' '.join(['python /home/sam/notebooks/SIPSim_metagenome/bin/fasta2fastq.py', \n",
    "                        fastafile, direction, \n",
    "                        '/home/sam/data/SIPSim2_data/ISS_error_models/NovaSeq 151 tmp', \n",
    "                        str(nprocs)])\n",
    "        print cmd\n",
    "        os.system(cmd)\n",
    "\n",
    "        # Cleanup\n",
    "        cmd = 'rm ' + fastafile\n",
    "        print cmd + '\\n'\n",
    "        os.system(cmd)\n",
    "    print '---\\n'\n",
    "print '------\\n'\n"
   ]
  },
  {
   "cell_type": "code",
   "execution_count": 6,
   "metadata": {},
   "outputs": [
    {
     "name": "stdout",
     "output_type": "stream",
     "text": [
      "Done\n"
     ]
    }
   ],
   "source": [
    "print('Done')"
   ]
  },
  {
   "cell_type": "code",
   "execution_count": null,
   "metadata": {},
   "outputs": [],
   "source": []
  }
 ],
 "metadata": {
  "kernelspec": {
   "display_name": "Python 2",
   "language": "python",
   "name": "python2"
  },
  "language_info": {
   "codemirror_mode": {
    "name": "ipython",
    "version": 2
   },
   "file_extension": ".py",
   "mimetype": "text/x-python",
   "name": "python",
   "nbconvert_exporter": "python",
   "pygments_lexer": "ipython2",
   "version": "2.7.15"
  }
 },
 "nbformat": 4,
 "nbformat_minor": 2
}
