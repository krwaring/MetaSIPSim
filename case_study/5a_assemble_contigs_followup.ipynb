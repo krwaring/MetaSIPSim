{
 "cells": [
  {
   "cell_type": "markdown",
   "metadata": {},
   "source": [
    "# Assembling contigs for follow-up simulations\n",
    "\n",
    "Samuel Barnett\n",
    "\n",
    "Introduction\n",
    "Assembling contigs from simulating reads using megahit. These reads come from the follow-up simulations. I will run separate co-assemblies for each experiment type and simulation test (6 libraries per assembly)."
   ]
  },
  {
   "cell_type": "markdown",
   "metadata": {},
   "source": [
    "## 1) Initialization\n",
    "\n",
    "First I need to import the python modules I'll use, set some variables, initiate R magic, and create/get into the working directory."
   ]
  },
  {
   "cell_type": "code",
   "execution_count": 1,
   "metadata": {},
   "outputs": [],
   "source": [
    "import os\n",
    "workDir = '/home/sam/data/SIPSim2_data/RealWorld_study3/followup_sims'\n",
    "nprocs = 10"
   ]
  },
  {
   "cell_type": "code",
   "execution_count": 2,
   "metadata": {},
   "outputs": [
    {
     "name": "stdout",
     "output_type": "stream",
     "text": [
      "/home/sam/data/SIPSim2_data/RealWorld_study3/followup_sims\n"
     ]
    }
   ],
   "source": [
    "if not os.path.isdir(workDir):\n",
    "    print(\"Working directory does not exist!!!\")\n",
    "%cd $workDir"
   ]
  },
  {
   "cell_type": "markdown",
   "metadata": {},
   "source": [
    "## 2) Assembly\n",
    "\n",
    "Co-assemblies will be done separately for each experiment type (SIPS and nonSIP) and simulation test (25 incorporators, 100 incorporators, light window, medium window, and heavy window)"
   ]
  },
  {
   "cell_type": "code",
   "execution_count": null,
   "metadata": {},
   "outputs": [
    {
     "name": "stdout",
     "output_type": "stream",
     "text": [
      "/home/sam/data/SIPSim2_data/RealWorld_study3/followup_sims/incorp25_lowGC\n",
      "\n",
      "Generating assembly command for followup simulation incorp25_lowGC SIP experiment\n",
      "\n",
      "megahit -1 library_1_window_1.72-1.77_reads_f.fastq.gz,library_2_window_1.72-1.77_reads_f.fastq.gz,library_3_window_1.72-1.77_reads_f.fastq.gz,library_4_window_1.72-1.77_reads_f.fastq.gz,library_5_window_1.72-1.77_reads_f.fastq.gz,library_6_window_1.72-1.77_reads_f.fastq.gz -2 library_1_window_1.72-1.77_reads_r.fastq.gz,library_2_window_1.72-1.77_reads_r.fastq.gz,library_3_window_1.72-1.77_reads_r.fastq.gz,library_4_window_1.72-1.77_reads_r.fastq.gz,library_5_window_1.72-1.77_reads_r.fastq.gz,library_6_window_1.72-1.77_reads_r.fastq.gz -t 10 -m 0.8 -o /home/sam/data/SIPSim2_data/RealWorld_study3/followup_sims/coassembly/incorp25_lowGC_SIP\n",
      "\n",
      "\n"
     ]
    }
   ],
   "source": [
    "exp_dict = {'SIP': 'window', 'nonSIP': 'nonSIP'}\n",
    "\n",
    "assemblyDir = os.path.join(workDir, 'coassembly')\n",
    "\n",
    "if not os.path.exists(assemblyDir):\n",
    "    os.makedirs(assemblyDir)\n",
    "\n",
    "for followup_set in ['incorp25_lowGC', 'incorp100_lowGC', \n",
    "                     'lightwindow_highGC', 'mediumwindow_highGC', 'heavywindow_highGC']:\n",
    "    subDir = os.path.join(workDir, followup_set)\n",
    "    %cd $subDir\n",
    "\n",
    "    for exp_type in ['SIP', 'nonSIP']:\n",
    "        print(' '.join(['\\nGenerating assembly command for followup simulation', \n",
    "                        followup_set, exp_type, 'experiment\\n']))\n",
    "\n",
    "        F_filelist = [f for f in os.listdir(subDir) if 'f.fastq.gz' in f if exp_dict[exp_type] in f]\n",
    "        R_filelist = [f for f in os.listdir(subDir) if 'r.fastq.gz' in f if exp_dict[exp_type] in f]\n",
    "        outputDir = '_'.join([followup_set, exp_type])\n",
    "\n",
    "        outputDir = os.path.join(assemblyDir, outputDir)\n",
    "\n",
    "        cmd = ' '.join(['megahit', \n",
    "                        '-1', ','.join(sorted(F_filelist)), \n",
    "                        '-2', ','.join(sorted(R_filelist)), \n",
    "                        '-t', str(nprocs),\n",
    "                        '-m', '0.8',\n",
    "                        '-o', outputDir])\n",
    "        print(cmd)\n",
    "        print('\\n')\n",
    "        os.system(cmd)\n",
    "        "
   ]
  },
  {
   "cell_type": "code",
   "execution_count": 4,
   "metadata": {},
   "outputs": [
    {
     "name": "stdout",
     "output_type": "stream",
     "text": [
      "done\n"
     ]
    }
   ],
   "source": [
    "print(\"done\")"
   ]
  }
 ],
 "metadata": {
  "kernelspec": {
   "display_name": "Python 2",
   "language": "python",
   "name": "python2"
  },
  "language_info": {
   "codemirror_mode": {
    "name": "ipython",
    "version": 2
   },
   "file_extension": ".py",
   "mimetype": "text/x-python",
   "name": "python",
   "nbconvert_exporter": "python",
   "pygments_lexer": "ipython2",
   "version": "2.7.15"
  }
 },
 "nbformat": 4,
 "nbformat_minor": 2
}
