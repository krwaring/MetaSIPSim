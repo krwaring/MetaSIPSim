{
 "cells": [
  {
   "cell_type": "markdown",
   "metadata": {},
   "source": [
    "# Setting up the SIP experiment for follow-up simulations\n",
    "\n",
    "Samuel Barnett\n",
    "\n",
    "### Introduction\n",
    "\n",
    "This is a followup simulation where I take the low GC skewed community and instead of having 50 incorporators each sample with a total of 100 incorporators I have either:\n",
    "\n",
    "* 25 incorperators/sample and 50 incorporators total\n",
    "* 100 incorperators/sample and 200 incorporators total\n",
    "\n",
    "This test will allow me to see if enrichment of 13C labeled genomes varies acording to the number of incorporators. All other files are the same as the original simulations.\n"
   ]
  },
  {
   "cell_type": "markdown",
   "metadata": {},
   "source": [
    "## 1) Initialization\n",
    "\n",
    "First I need to import the python modules I'll use, set some variables, initiate R magic, and create/get into the working directory."
   ]
  },
  {
   "cell_type": "code",
   "execution_count": 1,
   "metadata": {},
   "outputs": [],
   "source": [
    "import os\n",
    "workDir = '/home/sam/data/SIPSim2_data/RealWorld_study3/'\n",
    "nprocs = 10"
   ]
  },
  {
   "cell_type": "code",
   "execution_count": 2,
   "metadata": {},
   "outputs": [],
   "source": [
    "import sys\n",
    "import pandas as pd\n",
    "import numpy as np\n",
    "import ConfigParser\n"
   ]
  },
  {
   "cell_type": "code",
   "execution_count": 3,
   "metadata": {},
   "outputs": [],
   "source": [
    "%load_ext rpy2.ipython"
   ]
  },
  {
   "cell_type": "code",
   "execution_count": 4,
   "metadata": {},
   "outputs": [
    {
     "name": "stderr",
     "output_type": "stream",
     "text": [
      "/home/sam/anaconda3/envs/SIPSim2_py2/lib/python2.7/site-packages/rpy2/rinterface/__init__.py:186: RRuntimeWarning: \n",
      "Attaching package: ‘dplyr’\n",
      "\n",
      "\n",
      "  warnings.warn(x, RRuntimeWarning)\n",
      "/home/sam/anaconda3/envs/SIPSim2_py2/lib/python2.7/site-packages/rpy2/rinterface/__init__.py:186: RRuntimeWarning: The following objects are masked from ‘package:stats’:\n",
      "\n",
      "    filter, lag\n",
      "\n",
      "\n",
      "  warnings.warn(x, RRuntimeWarning)\n",
      "/home/sam/anaconda3/envs/SIPSim2_py2/lib/python2.7/site-packages/rpy2/rinterface/__init__.py:186: RRuntimeWarning: The following objects are masked from ‘package:base’:\n",
      "\n",
      "    intersect, setdiff, setequal, union\n",
      "\n",
      "\n",
      "  warnings.warn(x, RRuntimeWarning)\n"
     ]
    }
   ],
   "source": [
    "%%R\n",
    "library(dplyr)\n",
    "library(ggplot2)"
   ]
  },
  {
   "cell_type": "code",
   "execution_count": 5,
   "metadata": {},
   "outputs": [
    {
     "name": "stdout",
     "output_type": "stream",
     "text": [
      "/home/sam/data/SIPSim2_data/RealWorld_study3\n"
     ]
    }
   ],
   "source": [
    "# making directories\n",
    "## working directory\n",
    "if not os.path.isdir(workDir):\n",
    "    os.makedirs(workDir)\n",
    "%cd $workDir\n"
   ]
  },
  {
   "cell_type": "code",
   "execution_count": 6,
   "metadata": {},
   "outputs": [
    {
     "data": {
      "text/html": [
       "<div>\n",
       "<style scoped>\n",
       "    .dataframe tbody tr th:only-of-type {\n",
       "        vertical-align: middle;\n",
       "    }\n",
       "\n",
       "    .dataframe tbody tr th {\n",
       "        vertical-align: top;\n",
       "    }\n",
       "\n",
       "    .dataframe thead th {\n",
       "        text-align: right;\n",
       "    }\n",
       "</style>\n",
       "<table border=\"1\" class=\"dataframe\">\n",
       "  <thead>\n",
       "    <tr style=\"text-align: right;\">\n",
       "      <th></th>\n",
       "      <th>taxon_name</th>\n",
       "      <th>accession</th>\n",
       "      <th>species</th>\n",
       "      <th>genome_length</th>\n",
       "      <th>GC_percent</th>\n",
       "      <th>num_chromosomes</th>\n",
       "      <th>file_name</th>\n",
       "      <th>genome_name</th>\n",
       "    </tr>\n",
       "  </thead>\n",
       "  <tbody>\n",
       "    <tr>\n",
       "      <th>0</th>\n",
       "      <td>GCF_000325665.1_ASM32566v1_genomic</td>\n",
       "      <td>NC_019908.1</td>\n",
       "      <td>Brachyspira_pilosicoli</td>\n",
       "      <td>2555556</td>\n",
       "      <td>27.917330</td>\n",
       "      <td>1</td>\n",
       "      <td>GCF_000325665.1_ASM32566v1_genomic.fna</td>\n",
       "      <td>Brachyspira_pilosicoli_NC_019908.1</td>\n",
       "    </tr>\n",
       "    <tr>\n",
       "      <th>1</th>\n",
       "      <td>GCF_001685395.1_ASM168539v1_genomic</td>\n",
       "      <td>NZ_CP014167.1</td>\n",
       "      <td>Paenibacillus_yonginensis</td>\n",
       "      <td>4985901</td>\n",
       "      <td>51.014430</td>\n",
       "      <td>1</td>\n",
       "      <td>GCF_001685395.1_ASM168539v1_genomic.fna</td>\n",
       "      <td>Paenibacillus_yonginensis_NZ_CP014167.1</td>\n",
       "    </tr>\n",
       "    <tr>\n",
       "      <th>2</th>\n",
       "      <td>GCF_001262055.1_ASM126205v1_genomic</td>\n",
       "      <td>NZ_CP012072.1</td>\n",
       "      <td>Actinomyces_meyeri</td>\n",
       "      <td>2049088</td>\n",
       "      <td>65.509973</td>\n",
       "      <td>1</td>\n",
       "      <td>GCF_001262055.1_ASM126205v1_genomic.fna</td>\n",
       "      <td>Actinomyces_meyeri_NZ_CP012072.1</td>\n",
       "    </tr>\n",
       "    <tr>\n",
       "      <th>3</th>\n",
       "      <td>GCF_900169485.1_PRJEB19959_genomic</td>\n",
       "      <td>NZ_LT821227.1</td>\n",
       "      <td>Eggerthellaceae_bacterium</td>\n",
       "      <td>1447956</td>\n",
       "      <td>43.440616</td>\n",
       "      <td>1</td>\n",
       "      <td>GCF_900169485.1_PRJEB19959_genomic.fna</td>\n",
       "      <td>Eggerthellaceae_bacterium_NZ_LT821227.1</td>\n",
       "    </tr>\n",
       "    <tr>\n",
       "      <th>4</th>\n",
       "      <td>GCF_000953475.1_MfumSolVChr1_genomic</td>\n",
       "      <td>NZ_LM997411.1</td>\n",
       "      <td>Methylacidiphilum_fumariolicum</td>\n",
       "      <td>2476671</td>\n",
       "      <td>41.476603</td>\n",
       "      <td>1</td>\n",
       "      <td>GCF_000953475.1_MfumSolVChr1_genomic.fna</td>\n",
       "      <td>Methylacidiphilum_fumariolicum_NZ_LM997411.1</td>\n",
       "    </tr>\n",
       "  </tbody>\n",
       "</table>\n",
       "</div>"
      ],
      "text/plain": [
       "                             taxon_name      accession  \\\n",
       "0    GCF_000325665.1_ASM32566v1_genomic    NC_019908.1   \n",
       "1   GCF_001685395.1_ASM168539v1_genomic  NZ_CP014167.1   \n",
       "2   GCF_001262055.1_ASM126205v1_genomic  NZ_CP012072.1   \n",
       "3    GCF_900169485.1_PRJEB19959_genomic  NZ_LT821227.1   \n",
       "4  GCF_000953475.1_MfumSolVChr1_genomic  NZ_LM997411.1   \n",
       "\n",
       "                          species  genome_length  GC_percent  num_chromosomes  \\\n",
       "0          Brachyspira_pilosicoli        2555556   27.917330                1   \n",
       "1       Paenibacillus_yonginensis        4985901   51.014430                1   \n",
       "2              Actinomyces_meyeri        2049088   65.509973                1   \n",
       "3       Eggerthellaceae_bacterium        1447956   43.440616                1   \n",
       "4  Methylacidiphilum_fumariolicum        2476671   41.476603                1   \n",
       "\n",
       "                                  file_name  \\\n",
       "0    GCF_000325665.1_ASM32566v1_genomic.fna   \n",
       "1   GCF_001685395.1_ASM168539v1_genomic.fna   \n",
       "2   GCF_001262055.1_ASM126205v1_genomic.fna   \n",
       "3    GCF_900169485.1_PRJEB19959_genomic.fna   \n",
       "4  GCF_000953475.1_MfumSolVChr1_genomic.fna   \n",
       "\n",
       "                                    genome_name  \n",
       "0            Brachyspira_pilosicoli_NC_019908.1  \n",
       "1       Paenibacillus_yonginensis_NZ_CP014167.1  \n",
       "2              Actinomyces_meyeri_NZ_CP012072.1  \n",
       "3       Eggerthellaceae_bacterium_NZ_LT821227.1  \n",
       "4  Methylacidiphilum_fumariolicum_NZ_LM997411.1  "
      ]
     },
     "execution_count": 6,
     "metadata": {},
     "output_type": "execute_result"
    }
   ],
   "source": [
    "sam40 = pd.read_table(\"low_GC_skew_genomes.txt\")\n",
    "sam40['genome_name'] = sam40[['species', 'accession',]].apply(lambda x: '_'.join(x), axis=1)\n",
    "sam40.head()"
   ]
  },
  {
   "cell_type": "markdown",
   "metadata": {},
   "source": [
    "## 2) Set incorporation parameters\n",
    "\n",
    "All genomes will be set an incorporation of 90% with standard deviation of 5%. I will run an analysis with 5 different incorporator groups (separate libraries). This is essentially using 5 different carbon substrates, each of which are potentially utilized by a different set of microbes."
   ]
  },
  {
   "cell_type": "markdown",
   "metadata": {},
   "source": [
    "Start with the 25 incorporators/sample and 50 total simulation"
   ]
  },
  {
   "cell_type": "code",
   "execution_count": 7,
   "metadata": {},
   "outputs": [],
   "source": [
    "## Start with the 25 I/S simulation\n",
    "total_incorp = 50\n",
    "sample_incorp = 25\n",
    "\n",
    "genomeset = 'low_GC_skew'\n",
    "\n",
    "rank_list = np.random.choice(range(1, 501), size=total_incorp, replace=False)\n",
    "\n",
    "incorp_df = pd.DataFrame(columns=['rank', 'library', 'percent_incorporation', 'sd_incorporation'])\n",
    "while len(list(set(incorp_df['rank']))) != total_incorp:\n",
    "    incorp_df = pd.DataFrame(columns=['rank', 'library', 'percent_incorporation', 'sd_incorporation'])\n",
    "    for lib in [2,3,4,5,6]:\n",
    "        sub_incorp = pd.DataFrame({'rank' : np.random.choice(rank_list, size=sample_incorp, replace=False),\n",
    "                                   'library' : lib, 'percent_incorporation' : 90, 'sd_incorporation' : 5})\n",
    "        incorp_df = incorp_df.append(sub_incorp)\n",
    "          \n",
    "comm = pd.read_table(''.join([genomeset, '_comm.txt'])).groupby('taxon_name', as_index=False).agg({'rel_abund_perc': 'mean'})\n",
    "comm['rank'] = comm['rel_abund_perc'].rank(ascending=1)\n",
    "if len(list(set(comm['rank']))) != 500:\n",
    "    print \"Error\"\n",
    "incorp_genomes = comm[comm['rank'].isin(rank_list)]\n",
    "incorp_genomes = incorp_genomes[['rank', 'taxon_name']]\n",
    "sub_incorp_df = pd.merge(incorp_df, incorp_genomes, on='rank', how='left')\n",
    "sub_incorp_df = sub_incorp_df[['taxon_name', 'library', 'percent_incorporation', 'sd_incorporation']]\n",
    "sub_incorp_df.to_csv('_'.join([genomeset, 'I25_incorporators.txt']), sep='\\t', header=True, index=False)"
   ]
  },
  {
   "cell_type": "markdown",
   "metadata": {},
   "source": [
    "Then the 100 incorporators/sample and 200 total simulation"
   ]
  },
  {
   "cell_type": "code",
   "execution_count": 8,
   "metadata": {},
   "outputs": [],
   "source": [
    "## Start with the 100 I/S simulation\n",
    "total_incorp = 200\n",
    "sample_incorp = 100\n",
    "\n",
    "genomeset = 'low_GC_skew'\n",
    "\n",
    "rank_list = np.random.choice(range(1, 501), size=total_incorp, replace=False)\n",
    "\n",
    "incorp_df = pd.DataFrame(columns=['rank', 'library', 'percent_incorporation', 'sd_incorporation'])\n",
    "while len(list(set(incorp_df['rank']))) != total_incorp:\n",
    "    incorp_df = pd.DataFrame(columns=['rank', 'library', 'percent_incorporation', 'sd_incorporation'])\n",
    "    for lib in [2,3,4,5,6]:\n",
    "        sub_incorp = pd.DataFrame({'rank' : np.random.choice(rank_list, size=sample_incorp, replace=False),\n",
    "                                   'library' : lib, 'percent_incorporation' : 90, 'sd_incorporation' : 5})\n",
    "        incorp_df = incorp_df.append(sub_incorp)\n",
    "          \n",
    "comm = pd.read_table(''.join([genomeset, '_comm.txt'])).groupby('taxon_name', as_index=False).agg({'rel_abund_perc': 'mean'})\n",
    "comm['rank'] = comm['rel_abund_perc'].rank(ascending=1)\n",
    "if len(list(set(comm['rank']))) != 500:\n",
    "    print \"Error\"\n",
    "incorp_genomes = comm[comm['rank'].isin(rank_list)]\n",
    "incorp_genomes = incorp_genomes[['rank', 'taxon_name']]\n",
    "sub_incorp_df = pd.merge(incorp_df, incorp_genomes, on='rank', how='left')\n",
    "sub_incorp_df = sub_incorp_df[['taxon_name', 'library', 'percent_incorporation', 'sd_incorporation']]\n",
    "sub_incorp_df.to_csv('_'.join([genomeset, 'I100_incorporators.txt']), sep='\\t', header=True, index=False)"
   ]
  },
  {
   "cell_type": "code",
   "execution_count": 9,
   "metadata": {},
   "outputs": [
    {
     "name": "stdout",
     "output_type": "stream",
     "text": [
      "taxon_name\tlibrary\tpercent_incorporation\tsd_incorporation\n",
      "Spiroplasma_cantharicola_NZ_CP012622.1\t2\t90\t5\n",
      "Spiroplasma_apis_NC_022998.1\t2\t90\t5\n",
      "Shewanella_amazonensis_NC_008700.1\t2\t90\t5\n",
      "Clostridium_botulinum_NZ_CP014176.1\t2\t90\t5\n",
      "Spiroplasma_syrphidicola_NC_021284.1\t2\t90\t5\n",
      "Secondary_endosymbiont_NC_018420.1\t2\t90\t5\n",
      "Gynuella_sunshinyii_NZ_CP007142.1\t2\t90\t5\n",
      "Mycoplasma_bovoculi_NZ_CP007154.1\t2\t90\t5\n",
      "Capnocytophaga_haemolytica_NZ_CP014227.1\t2\t90\t5\n",
      "126 low_GC_skew_I25_incorporators.txt\n",
      "taxon_name\tlibrary\tpercent_incorporation\tsd_incorporation\n",
      "Lactobacillus_jensenii_NZ_CP018809.1\t2\t90\t5\n",
      "Mycoplasma_flocculare_NZ_CP007585.1\t2\t90\t5\n",
      "Lactobacillus_kefiranofaciens_NC_015602.1\t2\t90\t5\n",
      "Frankia_alni_NC_008278.1\t2\t90\t5\n",
      "Bacillus_thuringiensis_NC_022873.1\t2\t90\t5\n",
      "Roseburia_hominis_NC_015977.1\t2\t90\t5\n",
      "Moorea_producens_NZ_CP017599.1\t2\t90\t5\n",
      "Mycoplasma_dispar_NZ_CP007229.1\t2\t90\t5\n",
      "Sulfurospirillum_multivorans_NZ_CP007201.1\t2\t90\t5\n",
      "501 low_GC_skew_I100_incorporators.txt\n"
     ]
    }
   ],
   "source": [
    "!head low_GC_skew_I25_incorporators.txt\n",
    "!wc -l low_GC_skew_I25_incorporators.txt\n",
    "\n",
    "!head low_GC_skew_I100_incorporators.txt\n",
    "!wc -l low_GC_skew_I100_incorporators.txt"
   ]
  },
  {
   "cell_type": "markdown",
   "metadata": {},
   "source": [
    "Now I'll make sure that one reference set isn't weighted too heavily with high or low G+C incorporators."
   ]
  },
  {
   "cell_type": "code",
   "execution_count": 11,
   "metadata": {},
   "outputs": [
    {
     "data": {
      "image/png": "[encoded data removed]"
     },
     "metadata": {},
     "output_type": "display_data"
    },
    {
     "data": {
      "image/png": "[encoded data removed]"
     },
     "metadata": {},
     "output_type": "display_data"
    }
   ],
   "source": [
    "%%R -w 1000 -h 250\n",
    "\n",
    "I25_incorp.df = read.table(\"low_GC_skew_I25_incorporators.txt\", sep=\"\\t\", header=TRUE)\n",
    "I100_incorp.df = read.table(\"low_GC_skew_I100_incorporators.txt\", sep=\"\\t\", header=TRUE)\n",
    "\n",
    "I25_incorps = unique(I25_incorp.df$taxon_name)\n",
    "I100_incorps = unique(I100_incorp.df$taxon_name)\n",
    "\n",
    "I25_comm.df = read.table(\"low_GC_skew_comm.txt\", sep=\"\\t\", header=TRUE) %>%\n",
    "    mutate(incorp = ifelse(library == 1 & taxon_name %in% I25_incorps, \"Yes\", \"No\")) %>%\n",
    "    left_join(I25_incorp.df, by=c(\"taxon_name\", \"library\")) %>%\n",
    "    mutate(percent_incorporation = ifelse(is.na(percent_incorporation), 0, percent_incorporation))\n",
    "I100_comm.df = read.table(\"low_GC_skew_comm.txt\", sep=\"\\t\", header=TRUE) %>%\n",
    "    mutate(incorp = ifelse(library == 1 & taxon_name %in% I100_incorps, \"Yes\", \"No\")) %>%\n",
    "    left_join(I100_incorp.df, by=c(\"taxon_name\", \"library\")) %>%\n",
    "    mutate(percent_incorporation = ifelse(is.na(percent_incorporation), 0, percent_incorporation))\n",
    "\n",
    "I25_comm.plot = ggplot(data=I25_comm.df, aes(x=rank, y=rel_abund_perc)) +\n",
    "    geom_line(size=1) +\n",
    "    geom_vline(data=I25_comm.df[I25_comm.df$library == 1 & I25_comm.df$incorp == \"Yes\",], aes(xintercept = rank)) +\n",
    "    geom_vline(data=I25_comm.df[I25_comm.df$percent_incorporation != 0,], aes(xintercept = rank)) +\n",
    "    ggtitle(label = \"Low abundance skewed 25 incorporator rank abundance plot\") +\n",
    "    facet_wrap(~library, nrow=1)\n",
    "I100_comm.plot = ggplot(data=I100_comm.df, aes(x=rank, y=rel_abund_perc)) +\n",
    "    geom_line(size=1) +\n",
    "    geom_vline(data=I100_comm.df[I100_comm.df$library == 1 & I100_comm.df$incorp == \"Yes\",], aes(xintercept = rank)) +\n",
    "    geom_vline(data=I100_comm.df[I100_comm.df$percent_incorporation != 0,], aes(xintercept = rank)) +\n",
    "    ggtitle(label = \"Low abundance skewed 100 incorporator rank abundance plot\") +\n",
    "    facet_wrap(~library, nrow=1)\n",
    "\n",
    "print(I25_comm.plot)\n",
    "print(I100_comm.plot)\n",
    "\n"
   ]
  },
  {
   "cell_type": "code",
   "execution_count": null,
   "metadata": {},
   "outputs": [],
   "source": []
  }
 ],
 "metadata": {
  "kernelspec": {
   "display_name": "Python 2",
   "language": "python",
   "name": "python2"
  },
  "language_info": {
   "codemirror_mode": {
    "name": "ipython",
    "version": 2
   },
   "file_extension": ".py",
   "mimetype": "text/x-python",
   "name": "python",
   "nbconvert_exporter": "python",
   "pygments_lexer": "ipython2",
   "version": "2.7.15"
  }
 },
 "nbformat": 4,
 "nbformat_minor": 2
}
