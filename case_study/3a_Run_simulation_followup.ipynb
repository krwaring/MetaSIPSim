{
 "cells": [
  {
   "cell_type": "markdown",
   "metadata": {},
   "source": [
    "# Running MetaSIPSim for the follow-up simulations\n",
    "\n",
    "Sam Barnett\n",
    "\n",
    "### Introduction\n",
    "\n",
    "This notebook makes the configuration files and commands to run the followup simulations. These simulations are as follows:\n",
    "\n",
    "* Varying number of incorporators: In these two simulations, I'll take the low GC skewed community and have either 25 or 100 incorporators per sample with a total of 50 or 200 incorporators.\n",
    "\n",
    "* Heavier buoyant density window: In this simulation I'll take a lighter and heavier BD window with the high GC skewed community.\n",
    "\n",
    "For both of these followup simulations I will only generate 5,000,000 reads. \n"
   ]
  },
  {
   "cell_type": "markdown",
   "metadata": {},
   "source": [
    "## 1) Initialization\n",
    "\n",
    "First I need to import the python modules I'll use, set some variables, initiate R magic, and create/get into the working directory."
   ]
  },
  {
   "cell_type": "code",
   "execution_count": 4,
   "metadata": {},
   "outputs": [],
   "source": [
    "import os\n",
    "workDir = '/home/sam/data/SIPSim2_data/RealWorld_study3/'\n",
    "genomeDir = '/home/sam/databases/ncbi_genomes/ncbi-genomes-2019-01-25/'\n",
    "\n",
    "nprocs = 20"
   ]
  },
  {
   "cell_type": "code",
   "execution_count": 5,
   "metadata": {},
   "outputs": [],
   "source": [
    "import sys\n",
    "import pandas as pd\n",
    "import numpy as np\n",
    "import ConfigParser\n"
   ]
  },
  {
   "cell_type": "code",
   "execution_count": 6,
   "metadata": {},
   "outputs": [
    {
     "name": "stdout",
     "output_type": "stream",
     "text": [
      "/home/sam/data/SIPSim2_data/RealWorld_study3\n",
      "/home/sam/databases/ncbi_genomes/ncbi-genomes-2019-01-25/\n"
     ]
    }
   ],
   "source": [
    "# making directories\n",
    "## working directory\n",
    "if not os.path.isdir(workDir):\n",
    "    print(\"Working directory does not exist!!!\")\n",
    "%cd $workDir\n",
    "\n",
    "## genome directory\n",
    "if not os.path.isdir(genomeDir):\n",
    "    print(\"Genome directory does not exist!!!\")\n",
    "else:\n",
    "    print(genomeDir)"
   ]
  },
  {
   "cell_type": "markdown",
   "metadata": {},
   "source": [
    "### Make new directories to store reads for the followup experiments"
   ]
  },
  {
   "cell_type": "code",
   "execution_count": null,
   "metadata": {},
   "outputs": [],
   "source": [
    "# making directories\n",
    "followupDir = os.path.join(workDir, 'followup_sims')\n",
    "if not os.path.isdir(followupDir):\n",
    "    os.makedirs(followupDir)\n",
    "    os.makedirs(os.path.join(followupDir, 'incorp25_lowGC'))\n",
    "    os.makedirs(os.path.join(followupDir, 'incorp100_lowGC'))\n",
    "    os.makedirs(os.path.join(followupDir, 'lightwindow_highGC'))\n",
    "    os.makedirs(os.path.join(followupDir, 'mediumwindow_highGC'))\n",
    "    os.makedirs(os.path.join(followupDir, 'heavywindow_highGC'))"
   ]
  },
  {
   "cell_type": "markdown",
   "metadata": {},
   "source": [
    "## 2) Configuration file\n",
    "\n",
    "Now I'll make the file containing all the configurations needed to run the MetaSIPSim simulations. I'll need a separate one for each simulation."
   ]
  },
  {
   "cell_type": "markdown",
   "metadata": {},
   "source": [
    "### Initial configuration file\n",
    "\n",
    "This configuration file will contain the configurations that will be the same across all simulations. I'll will modify them after for each individual simulation. For each individual simulation I need to separately set:\n",
    "\n",
    "* Genome index (genome_index_file)\n",
    "* Community composition table (community_file)\n",
    "* Incorporator table (incorporator_file)\n",
    "* minimum and maximum bouyant densities for sequenced window (min_bouyant_density_sequenced, max_bouyant_density_sequenced)\n",
    "* minimum and maximum bouyant densities for gradient model (min_bouyant_density, max_bouyant_density)\n",
    "* Logfile name just to keep things straight (logfile) "
   ]
  },
  {
   "cell_type": "code",
   "execution_count": 23,
   "metadata": {},
   "outputs": [],
   "source": [
    "config = ConfigParser.SafeConfigParser()\n",
    "\n",
    "## Other parameters\n",
    "config.add_section('Other')\n",
    "config.set('Other', 'temp_directory', './tmp')\n",
    "config.set('Other', 'threads', str(nprocs))\n",
    "#config.set('Other', 'logfile', 'simulation.log')\n",
    "#config.set('Other', 'endpoint', 'fragment_list')\n",
    "#config.set('Other', 'endpoint', 'read_list')\n",
    "config.set('Other', 'endpoint', 'read_sequences')\n",
    "\n",
    "## Library parameters\n",
    "config.add_section('Library')\n",
    "config.set('Library', 'library_list', '1, 2, 3, 4, 5, 6')\n",
    "\n",
    "config.set('Library', 'window_or_fraction', 'window')\n",
    "#config.set('Library', 'min_bouyant_density_sequenced', '1.72')\n",
    "#config.set('Library', 'max_bouyant_density_sequenced', '1.77')\n",
    "\n",
    "## Fragment parameters\n",
    "config.add_section('Fragment')\n",
    "#config.set('Fragment', 'genome_index_file', 'genome_index.txt')\n",
    "config.set('Fragment', 'genomeDir', genomeDir)\n",
    "config.set('Fragment', 'frag_length_distribution', 'skewed-normal,9000,2500,-5')\n",
    "config.set('Fragment', 'coverage_of_fragments', '100')\n",
    "config.set('Fragment', 'temp_fragment_file', 'tmp.frags')\n",
    "\n",
    "## Gradient parameters\n",
    "config.add_section('Gradient')\n",
    "config.set('Gradient', 'temperature', '293.15')\n",
    "config.set('Gradient', 'avg_density', '1.69')\n",
    "config.set('Gradient', 'angular_velocity', '33172837')\n",
    "config.set('Gradient', 'min_rotation_radius', '2.6')\n",
    "config.set('Gradient', 'max_rotation_radius', '4.85')\n",
    "config.set('Gradient', 'tube_angle', '28.6')\n",
    "config.set('Gradient', 'tube_radius', '0.66')\n",
    "config.set('Gradient', 'tube_height', '4.7')\n",
    "config.set('Gradient', 'fraction_frag_in_DBL', '0.001')\n",
    "config.set('Gradient', 'isotope', 'C')\n",
    "\n",
    "## Model parameters\n",
    "config.add_section('Model')\n",
    "#config.set('Model', 'min_bouyant_density', '1.67')\n",
    "#config.set('Model', 'max_bouyant_density', '1.775')\n",
    "config.set('Model', 'bouyant_density_step', '0.0001')\n",
    "config.set('Model', 'fraction_table_file', os.path.join(workDir, 'fractions.txt'))\n",
    "\n",
    "## Community parameters\n",
    "#config.add_section('Community')\n",
    "#config.set('Community', 'community_file', 'full_comm.txt')\n",
    "#config.set('Community', 'incorporator_file', 'incorporators.txt')\n",
    "\n",
    "\n",
    "## Sequencing parameters\n",
    "config.add_section('Sequencing')\n",
    "config.set('Sequencing', 'max_read_length', '151')\n",
    "config.set('Sequencing', 'avg_insert_size', '1000')\n",
    "config.set('Sequencing', 'stddev_insert_size', '5')\n",
    "config.set('Sequencing', 'final_number_of_sequences', '5000000')\n",
    "config.set('Sequencing', 'number_of_sequences_per_iteration', '5000000')\n",
    "\n",
    "# Writing our configuration file to 'example.cfg'\n",
    "with open(os.path.join(followupDir, 'initial_followupDir_parameters.cfg'), 'wb') as configfile:\n",
    "    config.write(configfile)"
   ]
  },
  {
   "cell_type": "markdown",
   "metadata": {},
   "source": [
    "### Config files for varying number of incorporators"
   ]
  },
  {
   "cell_type": "markdown",
   "metadata": {},
   "source": [
    "Simulation with 25 incorporators/sample"
   ]
  },
  {
   "cell_type": "code",
   "execution_count": 24,
   "metadata": {},
   "outputs": [],
   "source": [
    "config = ConfigParser.SafeConfigParser()\n",
    "config.read(os.path.join(followupDir, 'initial_followupDir_parameters.cfg'))\n",
    "\n",
    "config.set('Other', 'logfile', 'incorp25_lowGC_simulation.log')\n",
    "config.set('Fragment', 'genome_index_file', os.path.join(workDir, 'low_GC_skew_genome_index.txt'))\n",
    "\n",
    "## Model parameters\n",
    "config.set('Model', 'min_bouyant_density', '1.67')\n",
    "config.set('Model', 'max_bouyant_density', '1.775')\n",
    "\n",
    "## Library parameters\n",
    "config.set('Library', 'min_bouyant_density_sequenced', '1.72')\n",
    "config.set('Library', 'max_bouyant_density_sequenced', '1.77')\n",
    "\n",
    "## Community parameters\n",
    "config.add_section('Community')\n",
    "config.set('Community', 'community_file', os.path.join(workDir, 'low_GC_skew_comm.txt'))\n",
    "config.set('Community', 'incorporator_file', os.path.join(workDir, 'low_GC_skew_I25_incorporators.txt'))\n",
    "\n",
    "# Writing our configuration file to 'example.cfg'\n",
    "with open(os.path.join(followupDir, 'incorp25_lowGC', 'incorp25_lowGC_parameters.cfg'), 'wb') as configfile:\n",
    "    config.write(configfile)"
   ]
  },
  {
   "cell_type": "markdown",
   "metadata": {},
   "source": [
    "Simulation with 100 incorporators/sample"
   ]
  },
  {
   "cell_type": "code",
   "execution_count": 25,
   "metadata": {},
   "outputs": [],
   "source": [
    "config = ConfigParser.SafeConfigParser()\n",
    "config.read(os.path.join(followupDir, 'initial_followupDir_parameters.cfg'))\n",
    "\n",
    "config.set('Other', 'logfile', 'incorp100_lowGC_simulation.log')\n",
    "config.set('Fragment', 'genome_index_file', os.path.join(workDir, 'low_GC_skew_genome_index.txt'))\n",
    "\n",
    "## Model parameters\n",
    "config.set('Model', 'min_bouyant_density', '1.67')\n",
    "config.set('Model', 'max_bouyant_density', '1.775')\n",
    "\n",
    "## Library parameters\n",
    "config.set('Library', 'min_bouyant_density_sequenced', '1.72')\n",
    "config.set('Library', 'max_bouyant_density_sequenced', '1.77')\n",
    "\n",
    "## Community parameters\n",
    "config.add_section('Community')\n",
    "config.set('Community', 'community_file', os.path.join(workDir, 'low_GC_skew_comm.txt'))\n",
    "config.set('Community', 'incorporator_file', os.path.join(workDir, 'low_GC_skew_I100_incorporators.txt'))\n",
    "\n",
    "# Writing our configuration file to 'example.cfg'\n",
    "with open(os.path.join(followupDir, 'incorp100_lowGC', 'incorp100_lowGC_parameters.cfg'), 'wb') as configfile:\n",
    "    config.write(configfile)"
   ]
  },
  {
   "cell_type": "markdown",
   "metadata": {},
   "source": [
    "### Config files for different BD windows"
   ]
  },
  {
   "cell_type": "markdown",
   "metadata": {},
   "source": [
    "Simulation with the light BD window (1.70-1.75 g/ml)"
   ]
  },
  {
   "cell_type": "code",
   "execution_count": 26,
   "metadata": {},
   "outputs": [],
   "source": [
    "config = ConfigParser.SafeConfigParser()\n",
    "config.read(os.path.join(followupDir, 'initial_followupDir_parameters.cfg'))\n",
    "\n",
    "config.set('Other', 'logfile', 'lightwindow_highGC_simulation.log')\n",
    "config.set('Fragment', 'genome_index_file', os.path.join(workDir, 'high_GC_skew_genome_index.txt'))\n",
    "\n",
    "## Model parameters\n",
    "config.set('Model', 'min_bouyant_density', '1.67')\n",
    "config.set('Model', 'max_bouyant_density', '1.80')\n",
    "\n",
    "## Library parameters\n",
    "config.set('Library', 'min_bouyant_density_sequenced', '1.70')\n",
    "config.set('Library', 'max_bouyant_density_sequenced', '1.75')\n",
    "\n",
    "## Community parameters\n",
    "config.add_section('Community')\n",
    "config.set('Community', 'community_file', os.path.join(workDir, 'high_GC_skew_comm.txt'))\n",
    "config.set('Community', 'incorporator_file', os.path.join(workDir, 'high_GC_skew_incorporators.txt'))\n",
    "\n",
    "# Writing our configuration file to 'example.cfg'\n",
    "with open(os.path.join(followupDir, 'lightwindow_highGC', 'lightwindow_highGC_parameters.cfg'), 'wb') as configfile:\n",
    "    config.write(configfile)"
   ]
  },
  {
   "cell_type": "markdown",
   "metadata": {},
   "source": [
    "Simulation with the previously used \"medium\" BD window (1.72-1.77 g/ml)"
   ]
  },
  {
   "cell_type": "code",
   "execution_count": 28,
   "metadata": {},
   "outputs": [],
   "source": [
    "config = ConfigParser.SafeConfigParser()\n",
    "config.read(os.path.join(followupDir, 'initial_followupDir_parameters.cfg'))\n",
    "\n",
    "config.set('Other', 'logfile', 'mediumwindow_highGC_simulation.log')\n",
    "config.set('Fragment', 'genome_index_file', os.path.join(workDir, 'high_GC_skew_genome_index.txt'))\n",
    "\n",
    "## Model parameters\n",
    "config.set('Model', 'min_bouyant_density', '1.67')\n",
    "config.set('Model', 'max_bouyant_density', '1.80')\n",
    "\n",
    "## Library parameters\n",
    "config.set('Library', 'min_bouyant_density_sequenced', '1.72')\n",
    "config.set('Library', 'max_bouyant_density_sequenced', '1.77')\n",
    "\n",
    "## Community parameters\n",
    "config.add_section('Community')\n",
    "config.set('Community', 'community_file', os.path.join(workDir, 'high_GC_skew_comm.txt'))\n",
    "config.set('Community', 'incorporator_file', os.path.join(workDir, 'high_GC_skew_incorporators.txt'))\n",
    "\n",
    "# Writing our configuration file to 'example.cfg'\n",
    "with open(os.path.join(followupDir, 'mediumwindow_highGC', 'mediumwindow_highGC_parameters.cfg'), 'wb') as configfile:\n",
    "    config.write(configfile)"
   ]
  },
  {
   "cell_type": "markdown",
   "metadata": {},
   "source": [
    "Simulation with the heavy BD window (1.74-1.79 g/ml)"
   ]
  },
  {
   "cell_type": "code",
   "execution_count": 29,
   "metadata": {},
   "outputs": [],
   "source": [
    "config = ConfigParser.SafeConfigParser()\n",
    "config.read(os.path.join(followupDir, 'initial_followupDir_parameters.cfg'))\n",
    "\n",
    "config.set('Other', 'logfile', 'heavywindow_highGC_simulation.log')\n",
    "config.set('Fragment', 'genome_index_file', os.path.join(workDir, 'high_GC_skew_genome_index.txt'))\n",
    "\n",
    "## Model parameters\n",
    "config.set('Model', 'min_bouyant_density', '1.67')\n",
    "config.set('Model', 'max_bouyant_density', '1.80')\n",
    "\n",
    "## Library parameters\n",
    "config.set('Library', 'min_bouyant_density_sequenced', '1.74')\n",
    "config.set('Library', 'max_bouyant_density_sequenced', '1.79')\n",
    "\n",
    "## Community parameters\n",
    "config.add_section('Community')\n",
    "config.set('Community', 'community_file', os.path.join(workDir, 'high_GC_skew_comm.txt'))\n",
    "config.set('Community', 'incorporator_file', os.path.join(workDir, 'high_GC_skew_incorporators.txt'))\n",
    "\n",
    "# Writing our configuration file to 'example.cfg'\n",
    "with open(os.path.join(followupDir, 'heavywindow_highGC', 'heavywindow_highGC_parameters.cfg'), 'wb') as configfile:\n",
    "    config.write(configfile)"
   ]
  },
  {
   "cell_type": "markdown",
   "metadata": {},
   "source": [
    "## 3) Get fragments\n",
    "\n",
    "Since this takes a while to run, I'm going to run this in my terminal rather than through jupyter notebook. Each of these is run while in the appropriate working directory"
   ]
  },
  {
   "cell_type": "markdown",
   "metadata": {},
   "source": [
    "### a) Simulating varying number of incorporators\n",
    "\n",
    "#### i) 25 incorporators\n",
    "##### SIP simulation\n",
    "screen -L -S SIPSim2_incorp25 python /home/sam/notebooks/SIPSim_metagenome/bin/SIPSim_metagenome.py incorp25_lowGC_parameters.cfg\n",
    "##### non-SIP simulation\n",
    "screen -L -S SIPSim2_incorp25 python /home/sam/notebooks/SIPSim_metagenome/bin/nonSIP_metagenome.py incorp25_lowGC_parameters.cfg\n",
    "\n",
    "#### ii) 100 incorporators\n",
    "##### SIP simulation\n",
    "screen -L -S SIPSim2_incorp100 python /home/sam/notebooks/SIPSim_metagenome/bin/SIPSim_metagenome.py incorp100_lowGC_parameters.cfg\n",
    "##### non-SIP simulation\n",
    "screen -L -S SIPSim2_incorp100 python /home/sam/notebooks/SIPSim_metagenome/bin/nonSIP_metagenome.py incorp100_lowGC_parameters.cfg"
   ]
  },
  {
   "cell_type": "markdown",
   "metadata": {},
   "source": [
    "### b) Simulating different BD windows\n",
    "\n",
    "#### i) light BD window\n",
    "##### SIP simulation\n",
    "screen -L -S SIPSim2_lightwindow python /home/sam/notebooks/SIPSim_metagenome/bin/SIPSim_metagenome.py lightwindow_highGC_parameters.cfg\n",
    "##### non-SIP simulation\n",
    "screen -L -S SIPSim2_lightwindow python /home/sam/notebooks/SIPSim_metagenome/bin/nonSIP_metagenome.py lightwindow_highGC_parameters.cfg\n",
    "\n",
    "#### ii) medium BD window\n",
    "##### SIP simulation\n",
    "screen -L -S SIPSim2_mediumwindow python /home/sam/notebooks/SIPSim_metagenome/bin/SIPSim_metagenome.py mediumwindow_highGC_parameters.cfg\n",
    "##### non-SIP simulation\n",
    "screen -L -S SIPSim2_mediumwindow python /home/sam/notebooks/SIPSim_metagenome/bin/nonSIP_metagenome.py mediumwindow_highGC_parameters.cfg\n",
    "\n",
    "#### iii) heavy BD window\n",
    "##### SIP simulation\n",
    "screen -L -S SIPSim2_heavywindow python /home/sam/notebooks/SIPSim_metagenome/bin/SIPSim_metagenome.py heavywindow_highGC_parameters.cfg\n",
    "##### non-SIP simulation\n",
    "screen -L -S SIPSim2_heavywindow python /home/sam/notebooks/SIPSim_metagenome/bin/nonSIP_metagenome.py heavywindow_highGC_parameters.cfg"
   ]
  },
  {
   "cell_type": "code",
   "execution_count": null,
   "metadata": {},
   "outputs": [],
   "source": []
  }
 ],
 "metadata": {
  "anaconda-cloud": {},
  "kernelspec": {
   "display_name": "Python 2",
   "language": "python",
   "name": "python2"
  },
  "language_info": {
   "codemirror_mode": {
    "name": "ipython",
    "version": 2
   },
   "file_extension": ".py",
   "mimetype": "text/x-python",
   "name": "python",
   "nbconvert_exporter": "python",
   "pygments_lexer": "ipython2",
   "version": "2.7.15"
  }
 },
 "nbformat": 4,
 "nbformat_minor": 1
}
