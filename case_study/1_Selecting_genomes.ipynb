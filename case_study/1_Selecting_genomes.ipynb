{
 "cells": [
  {
   "cell_type": "markdown",
   "metadata": {},
   "source": [
    "# Selecting genomes for simulated communities\n",
    "\n",
    "Samuel Barnett\n",
    "\n",
    "### Introduction\n",
    "\n",
    "Here I will be selecting genomes taken from the NCBI RefSeq genome database to get a representative sample for a simulated bacterial community. For this experiment, I need three separate reference genome sets with different G+C skews.\n",
    "\n",
    "The RefSeq database was downloaded on January 25th, 2019.\n"
   ]
  },
  {
   "cell_type": "markdown",
   "metadata": {},
   "source": [
    "## 1) Initialization\n",
    "\n",
    "First I need to import the python modules I'll use, set some variables, initiate R magic, and create/get into the working directory."
   ]
  },
  {
   "cell_type": "code",
   "execution_count": 1,
   "metadata": {},
   "outputs": [],
   "source": [
    "import os\n",
    "workDir = '/home/sam/data/SIPSim2_data/RealWorld_study3/'\n",
    "genomeDir = '/home/sam/databases/ncbi_genomes/ncbi-genomes-2019-01-25/'\n",
    "nprocs = 10"
   ]
  },
  {
   "cell_type": "code",
   "execution_count": 2,
   "metadata": {},
   "outputs": [],
   "source": [
    "import sys\n",
    "import pandas as pd\n",
    "import numpy as np\n",
    "import ConfigParser\n"
   ]
  },
  {
   "cell_type": "code",
   "execution_count": 3,
   "metadata": {},
   "outputs": [],
   "source": [
    "%load_ext rpy2.ipython"
   ]
  },
  {
   "cell_type": "code",
   "execution_count": 4,
   "metadata": {},
   "outputs": [
    {
     "name": "stderr",
     "output_type": "stream",
     "text": [
      "/home/sam/anaconda3/envs/SIPSim2_py2/lib/python2.7/site-packages/rpy2/rinterface/__init__.py:186: RRuntimeWarning: \n",
      "Attaching package: ‘dplyr’\n",
      "\n",
      "\n",
      "  warnings.warn(x, RRuntimeWarning)\n",
      "/home/sam/anaconda3/envs/SIPSim2_py2/lib/python2.7/site-packages/rpy2/rinterface/__init__.py:186: RRuntimeWarning: The following objects are masked from ‘package:stats’:\n",
      "\n",
      "    filter, lag\n",
      "\n",
      "\n",
      "  warnings.warn(x, RRuntimeWarning)\n",
      "/home/sam/anaconda3/envs/SIPSim2_py2/lib/python2.7/site-packages/rpy2/rinterface/__init__.py:186: RRuntimeWarning: The following objects are masked from ‘package:base’:\n",
      "\n",
      "    intersect, setdiff, setequal, union\n",
      "\n",
      "\n",
      "  warnings.warn(x, RRuntimeWarning)\n"
     ]
    }
   ],
   "source": [
    "%%R\n",
    "library(dplyr)\n",
    "library(ggplot2)"
   ]
  },
  {
   "cell_type": "code",
   "execution_count": 5,
   "metadata": {},
   "outputs": [
    {
     "name": "stdout",
     "output_type": "stream",
     "text": [
      "/home/sam/data/SIPSim2_data/RealWorld_study3\n",
      "/home/sam/databases/ncbi_genomes/ncbi-genomes-2019-01-25/\n"
     ]
    }
   ],
   "source": [
    "# making directories\n",
    "## working directory\n",
    "if not os.path.isdir(workDir):\n",
    "    os.makedirs(workDir)\n",
    "%cd $workDir\n",
    "\n",
    "## genome directory\n",
    "if not os.path.isdir(genomeDir):\n",
    "    print(\"Genome directory does not exist!!!\")\n",
    "else:\n",
    "    print(genomeDir)"
   ]
  },
  {
   "cell_type": "markdown",
   "metadata": {},
   "source": [
    "## 2) Select genomes for the community"
   ]
  },
  {
   "cell_type": "markdown",
   "metadata": {},
   "source": [
    "### Removing references from the same species\n",
    "\n",
    "In this simulation I want to make sure there is only one reference genome from each species presesent (i.e. no strains). I'll just randomly take a single strain from species that are represented from multiple strains."
   ]
  },
  {
   "cell_type": "code",
   "execution_count": 6,
   "metadata": {},
   "outputs": [
    {
     "data": {
      "text/plain": [
       "[1] 1542\n",
       "[1] 1491\n",
       "                                             taxon_name     accession\n",
       "1                     GCF_000018105.1_ASM1810v1_genomic   NC_009925.1\n",
       "2                   GCF_002005445.1_ASM200544v1_genomic NZ_CP014692.1\n",
       "3                   GCF_001766235.1_ASM176623v1_genomic NZ_CP015164.1\n",
       "4                   GCF_002006565.1_ASM200656v1_genomic NZ_CP014687.1\n",
       "5 GCF_001499615.1_Acetobacter_senegalensis_108B_genomic NZ_LN606600.1\n",
       "6                    GCF_000247605.1_ASM24760v1_genomic   NC_016894.1\n",
       "                   species genome_length GC_percent num_chromosomes\n",
       "1     Acaryochloris_marina       8361599   46.95589              10\n",
       "2        Acetobacter_aceti       3725037   56.82929               1\n",
       "3 Acetobacter_pasteurianus       2999217   53.17291               4\n",
       "4      Acetobacter_persici       3756676   57.43809               2\n",
       "5 Acetobacter_senegalensis       3969909   55.64095               2\n",
       "6    Acetobacterium_woodii       4044777   39.33814               1\n",
       "                                                  file_name\n",
       "1                     GCF_000018105.1_ASM1810v1_genomic.fna\n",
       "2                   GCF_002005445.1_ASM200544v1_genomic.fna\n",
       "3                   GCF_001766235.1_ASM176623v1_genomic.fna\n",
       "4                   GCF_002006565.1_ASM200656v1_genomic.fna\n",
       "5 GCF_001499615.1_Acetobacter_senegalensis_108B_genomic.fna\n",
       "6                    GCF_000247605.1_ASM24760v1_genomic.fna\n"
      ]
     },
     "metadata": {},
     "output_type": "display_data"
    },
    {
     "data": {
      "image/png": "[encoded data removed]"
     },
     "metadata": {},
     "output_type": "display_data"
    }
   ],
   "source": [
    "%%R -i genomeDir\n",
    "genome.stats = read.table(paste(genomeDir, 'genome_stats.txt', sep=\"\"), header=TRUE, sep=\"\\t\")\n",
    "\n",
    "set.seed(7242)\n",
    "subs.genome.stats = genome.stats %>%\n",
    "    group_by(species) %>%\n",
    "    sample_n(1) %>%\n",
    "    as.data.frame\n",
    "\n",
    "print(nrow(genome.stats))\n",
    "print(nrow(subs.genome.stats))\n",
    "print(head(subs.genome.stats))\n",
    "\n",
    "\n",
    "genome.GC.plot = ggplot(data=subs.genome.stats, aes(x=GC_percent)) +\n",
    "    geom_histogram(binwidth=1) +\n",
    "    geom_vline(xintercept = mean(genome.stats$GC_percent)) +\n",
    "    geom_vline(xintercept = median(genome.stats$GC_percent), linetype=2) +\n",
    "    ggtitle(label=\"GC distribution of genomes\")\n",
    "\n",
    "print(genome.GC.plot)"
   ]
  },
  {
   "cell_type": "markdown",
   "metadata": {},
   "source": [
    "### Subsample to uniform G+C distribution\n",
    "\n",
    "These reference genomes have a bimodal G+C distribution. This will cause my sampling to skew high and low G+C as opposed to 50% G+C. I want to minimize this bias in sampling so I'll just subset this master reference set so that there is a relatively uniform G+C distribution (20 genomes from each G+C bin)."
   ]
  },
  {
   "cell_type": "code",
   "execution_count": 7,
   "metadata": {},
   "outputs": [
    {
     "data": {
      "text/plain": [
       "[1] 960\n",
       "                           taxon_name     accession\n",
       "1 GCF_001310085.1_ASM131008v1_genomic NZ_CP012643.1\n",
       "2 GCF_001421015.2_ASM142101v2_genomic NZ_CP013023.1\n",
       "3   GCF_000018945.1_ASM1894v1_genomic   NC_011978.1\n",
       "4  GCF_000214435.1_ASM21443v1_genomic   NC_015565.1\n",
       "5   GCF_000010165.1_ASM1016v1_genomic   NC_012491.1\n",
       "6   GCF_000018105.1_ASM1810v1_genomic   NC_009925.1\n",
       "                       species genome_length GC_percent num_chromosomes\n",
       "1        Rufibacter_tibetensis       5413467   47.42608               3\n",
       "2            Paenibacillus_sp.       5517199   47.21590               2\n",
       "3       Thermotoga_neapolitana       1884562   46.94242               1\n",
       "4 Desulfotomaculum_nigrificans       2892255   46.62580               1\n",
       "5         Brevibacillus_brevis       6296436   47.27355               1\n",
       "6         Acaryochloris_marina       8361599   46.95589              10\n",
       "                                file_name GC_group   dist40   dist50   dist60\n",
       "1 GCF_001310085.1_ASM131008v1_genomic.fna       47 28.30353 25.95096 25.95096\n",
       "2 GCF_001421015.2_ASM142101v2_genomic.fna       47 28.51371 25.74078 25.74078\n",
       "3   GCF_000018945.1_ASM1894v1_genomic.fna       47 28.78718 25.46730 25.46730\n",
       "4  GCF_000214435.1_ASM21443v1_genomic.fna       47 29.10380 25.15068 25.15068\n",
       "5   GCF_000010165.1_ASM1016v1_genomic.fna       47 28.45605 25.79843 25.79843\n",
       "6   GCF_000018105.1_ASM1810v1_genomic.fna       47 28.77372 25.48077 25.48077\n"
      ]
     },
     "metadata": {},
     "output_type": "display_data"
    },
    {
     "data": {
      "image/png": "[encoded data removed]"
     },
     "metadata": {},
     "output_type": "display_data"
    }
   ],
   "source": [
    "%%R\n",
    "\n",
    "norm.sam.genomes = data.frame()\n",
    "subs.genome.stats$GC_group = round(subs.genome.stats$GC_percent)\n",
    "\n",
    "for (group in unique(subs.genome.stats$GC_group)){\n",
    "    sub.df = subs.genome.stats[subs.genome.stats$GC_group == group,]\n",
    "    if (nrow(sub.df) > 20){\n",
    "        set.seed(7242)\n",
    "        sub.df = sample_n(sub.df, 20)\n",
    "    }\n",
    "    norm.sam.genomes = rbind(norm.sam.genomes, sub.df)\n",
    "}\n",
    "\n",
    "norm.sam.genomes.plot = ggplot(data=norm.sam.genomes, aes(x=GC_percent)) +\n",
    "    geom_histogram(binwidth=1) +\n",
    "    geom_vline(xintercept = mean(norm.sam.genomes$GC_percent)) +\n",
    "    geom_vline(xintercept = median(norm.sam.genomes$GC_percent), linetype=2) +\n",
    "    ggtitle(label=\"GC distribution of subsampled genomes\")\n",
    "\n",
    "subs.genome.stats.dist = norm.sam.genomes %>%\n",
    "    mutate(dist40 = abs(GC_percent-40),\n",
    "           dist50 = abs(GC_percent-50),\n",
    "           dist60 = abs(GC_percent-60)) %>%\n",
    "    mutate(dist40 = max(dist40) - dist40 + 1, \n",
    "           dist50 = max(dist50) - dist50 + 1, \n",
    "           dist60 = max(dist60) - dist60 + 1)\n",
    "\n",
    "print(nrow(norm.sam.genomes))\n",
    "print(head(subs.genome.stats.dist))\n",
    "print(norm.sam.genomes.plot)"
   ]
  },
  {
   "cell_type": "markdown",
   "metadata": {},
   "source": [
    "### Sample reference sets\n",
    "\n",
    "Now I'll sample the references to get the three reference sets, weighting each genome by its distance to the target G+C for that set (40%, 50%, and 60%)."
   ]
  },
  {
   "cell_type": "code",
   "execution_count": 8,
   "metadata": {},
   "outputs": [
    {
     "data": {
      "image/png": "[encoded data removed]"
     },
     "metadata": {},
     "output_type": "display_data"
    },
    {
     "data": {
      "image/png": "[encoded data removed]"
     },
     "metadata": {},
     "output_type": "display_data"
    },
    {
     "data": {
      "image/png": "[encoded data removed]"
     },
     "metadata": {},
     "output_type": "display_data"
    }
   ],
   "source": [
    "%%R\n",
    "set.seed(7242)\n",
    "sam40 = sample(seq_len(nrow(subs.genome.stats.dist)), prob = subs.genome.stats.dist$dist40, size=500, replace = FALSE)\n",
    "sam40 = subs.genome.stats.dist[sam40,] %>%\n",
    "    select(-GC_group, -dist40, -dist50, -dist60)\n",
    "\n",
    "set.seed(7242)\n",
    "sam50 = sample(seq_len(nrow(subs.genome.stats.dist)), prob = subs.genome.stats.dist$dist50, size=500, replace = FALSE)\n",
    "sam50 = subs.genome.stats.dist[sam50,] %>%\n",
    "    select(-GC_group, -dist40, -dist50, -dist60)\n",
    "\n",
    "set.seed(7242)\n",
    "sam60 = sample(seq_len(nrow(subs.genome.stats.dist)), prob = subs.genome.stats.dist$dist60, size=500, replace = FALSE)\n",
    "sam60 = subs.genome.stats.dist[sam60,] %>%\n",
    "    select(-GC_group, -dist40, -dist50, -dist60)\n",
    "\n",
    "\n",
    "sam40.plot = ggplot(data=sam40, aes(x=GC_percent)) +\n",
    "    geom_histogram(binwidth=1) +\n",
    "    geom_vline(xintercept = mean(sam40$GC_percent)) +\n",
    "    geom_vline(xintercept = median(sam40$GC_percent), linetype=2) +\n",
    "    ggtitle(label=\"Low GC skewed\")\n",
    "\n",
    "sam50.plot = ggplot(data=sam50, aes(x=GC_percent)) +\n",
    "    geom_histogram(binwidth=1) +\n",
    "    geom_vline(xintercept = mean(sam50$GC_percent)) +\n",
    "    geom_vline(xintercept = median(sam50$GC_percent), linetype=2) +\n",
    "    ggtitle(label=\"Medium GC\")\n",
    "\n",
    "sam60.plot = ggplot(data=sam60, aes(x=GC_percent)) +\n",
    "    geom_histogram(binwidth=1) +\n",
    "    geom_vline(xintercept = mean(sam60$GC_percent)) +\n",
    "    geom_vline(xintercept = median(sam60$GC_percent), linetype=2) +\n",
    "    ggtitle(label=\"High GC skewed\")\n",
    "\n",
    "print(sam40.plot)\n",
    "print(sam50.plot)\n",
    "print(sam60.plot)\n"
   ]
  },
  {
   "cell_type": "markdown",
   "metadata": {},
   "source": [
    "## 3) Save data"
   ]
  },
  {
   "cell_type": "code",
   "execution_count": 9,
   "metadata": {},
   "outputs": [],
   "source": [
    "%%R\n",
    "write.table(sam40, file=\"low_GC_skew_genomes.txt\", sep=\"\\t\", quote=FALSE, row.names=FALSE, col.names=TRUE)\n",
    "write.table(sam50, file=\"medium_GC_genomes.txt\", sep=\"\\t\", quote=FALSE, row.names=FALSE, col.names=TRUE)\n",
    "write.table(sam60, file=\"high_GC_skew_genomes.txt\", sep=\"\\t\", quote=FALSE, row.names=FALSE, col.names=TRUE)"
   ]
  }
 ],
 "metadata": {
  "kernelspec": {
   "display_name": "Python 2",
   "language": "python",
   "name": "python2"
  },
  "language_info": {
   "codemirror_mode": {
    "name": "ipython",
    "version": 2
   },
   "file_extension": ".py",
   "mimetype": "text/x-python",
   "name": "python",
   "nbconvert_exporter": "python",
   "pygments_lexer": "ipython2",
   "version": "2.7.15"
  }
 },
 "nbformat": 4,
 "nbformat_minor": 2
}
