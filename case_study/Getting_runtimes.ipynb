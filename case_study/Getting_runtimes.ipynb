{
 "cells": [
  {
   "cell_type": "markdown",
   "metadata": {},
   "source": [
    "# Getting simulation runtimes\n",
    "\n",
    "Samuel Barnett\n",
    "\n",
    "### Introduction\n",
    "\n",
    "I need to collect all the runtimes for the simulations. I dont really want to do this by hand so I'll use the magic of computers to read all the simulation logs.\n",
    "\n"
   ]
  },
  {
   "cell_type": "markdown",
   "metadata": {},
   "source": [
    "## 1) Initialization\n",
    "\n",
    "First I need to import the python modules I'll use, set some variables, initiate R magic, and create/get into the working directory."
   ]
  },
  {
   "cell_type": "code",
   "execution_count": 5,
   "metadata": {},
   "outputs": [],
   "source": [
    "import os\n",
    "baseDir = '/home/sam/data/SIPSim2_data/RealWorld_study3/'"
   ]
  },
  {
   "cell_type": "code",
   "execution_count": 6,
   "metadata": {},
   "outputs": [],
   "source": [
    "import sys\n",
    "import pandas as pd\n",
    "import numpy as np\n"
   ]
  },
  {
   "cell_type": "code",
   "execution_count": 7,
   "metadata": {},
   "outputs": [
    {
     "name": "stdout",
     "output_type": "stream",
     "text": [
      "/home/sam/data/SIPSim2_data/RealWorld_study3\n"
     ]
    }
   ],
   "source": [
    "## Base directory\n",
    "if not os.path.isdir(baseDir):\n",
    "    print(\"Base directory does not exist!!!\")\n",
    "else:\n",
    "    %cd $baseDir\n"
   ]
  },
  {
   "cell_type": "markdown",
   "metadata": {},
   "source": [
    "## 2) Get runtimes for simulation\n",
    "\n",
    "This data comes from the simulation logs\n",
    "\n",
    "### Start with individual libraries\n",
    "Find the mean time for libraries"
   ]
  },
  {
   "cell_type": "code",
   "execution_count": 68,
   "metadata": {},
   "outputs": [
    {
     "data": {
      "text/html": [
       "<div>\n",
       "<style scoped>\n",
       "    .dataframe tbody tr th:only-of-type {\n",
       "        vertical-align: middle;\n",
       "    }\n",
       "\n",
       "    .dataframe tbody tr th {\n",
       "        vertical-align: top;\n",
       "    }\n",
       "\n",
       "    .dataframe thead th {\n",
       "        text-align: right;\n",
       "    }\n",
       "</style>\n",
       "<table border=\"1\" class=\"dataframe\">\n",
       "  <thead>\n",
       "    <tr style=\"text-align: right;\">\n",
       "      <th></th>\n",
       "      <th></th>\n",
       "      <th>seconds</th>\n",
       "      <th>library</th>\n",
       "      <th>minutes</th>\n",
       "    </tr>\n",
       "    <tr>\n",
       "      <th>exp_type</th>\n",
       "      <th>depth</th>\n",
       "      <th></th>\n",
       "      <th></th>\n",
       "      <th></th>\n",
       "    </tr>\n",
       "  </thead>\n",
       "  <tbody>\n",
       "    <tr>\n",
       "      <th rowspan=\"2\" valign=\"top\">SIP</th>\n",
       "      <th>depth10MM</th>\n",
       "      <td>1105.097944</td>\n",
       "      <td>3.5</td>\n",
       "      <td>18.418299</td>\n",
       "    </tr>\n",
       "    <tr>\n",
       "      <th>depth5MM</th>\n",
       "      <td>873.704778</td>\n",
       "      <td>3.5</td>\n",
       "      <td>14.561746</td>\n",
       "    </tr>\n",
       "    <tr>\n",
       "      <th rowspan=\"2\" valign=\"top\">nonSIP</th>\n",
       "      <th>depth10MM</th>\n",
       "      <td>455.568111</td>\n",
       "      <td>3.5</td>\n",
       "      <td>7.592802</td>\n",
       "    </tr>\n",
       "    <tr>\n",
       "      <th>depth5MM</th>\n",
       "      <td>279.614556</td>\n",
       "      <td>3.5</td>\n",
       "      <td>4.660243</td>\n",
       "    </tr>\n",
       "  </tbody>\n",
       "</table>\n",
       "</div>"
      ],
      "text/plain": [
       "                        seconds  library    minutes\n",
       "exp_type depth                                     \n",
       "SIP      depth10MM  1105.097944      3.5  18.418299\n",
       "         depth5MM    873.704778      3.5  14.561746\n",
       "nonSIP   depth10MM   455.568111      3.5   7.592802\n",
       "         depth5MM    279.614556      3.5   4.660243"
      ]
     },
     "execution_count": 68,
     "metadata": {},
     "output_type": "execute_result"
    }
   ],
   "source": [
    "libtime_df = pd.DataFrame()\n",
    "\n",
    "for genome_set in ['low_GC_skew', 'medium_GC', 'high_GC_skew']:\n",
    "    for depth in ['depth5MM', 'depth10MM']:\n",
    "        for exp_type in ['SIP', 'nonSIP']:\n",
    "            log_file = '_'.join([exp_type, 'simulation.log'])\n",
    "            log_file = os.path.join(baseDir, genome_set, depth, log_file)\n",
    "            with open(log_file, 'r') as log:\n",
    "                liblines = [l for l in log if 'seconds to run the whole library' in l]\n",
    "            sub_df = pd.DataFrame(liblines, columns = ['line'])\n",
    "            sub_df['seconds'] = sub_df['line'].str.split(\" seconds to run the whole library \", n = 1, expand = True)[0].replace({'It took ':''}, regex=True).astype('float')\n",
    "            sub_df['library'] = sub_df['line'].str.split(\" seconds to run the whole library \", n = 1, expand = True)[1].replace({'\\n':''}, regex=True).astype('int')\n",
    "            sub_df['exp_type'] = exp_type\n",
    "            sub_df['depth'] = depth\n",
    "            sub_df['genome_set'] = genome_set\n",
    "            libtime_df = libtime_df.append(sub_df)\n",
    "            \n",
    "            \n",
    "libtime_sum = libtime_df.groupby(['exp_type', 'depth']).mean()\n",
    "libtime_sum['minutes'] = libtime_sum['seconds']/60.0\n",
    "libtime_sum\n"
   ]
  },
  {
   "cell_type": "code",
   "execution_count": 69,
   "metadata": {},
   "outputs": [
    {
     "data": {
      "text/html": [
       "<div>\n",
       "<style scoped>\n",
       "    .dataframe tbody tr th:only-of-type {\n",
       "        vertical-align: middle;\n",
       "    }\n",
       "\n",
       "    .dataframe tbody tr th {\n",
       "        vertical-align: top;\n",
       "    }\n",
       "\n",
       "    .dataframe thead th {\n",
       "        text-align: right;\n",
       "    }\n",
       "</style>\n",
       "<table border=\"1\" class=\"dataframe\">\n",
       "  <thead>\n",
       "    <tr style=\"text-align: right;\">\n",
       "      <th></th>\n",
       "      <th></th>\n",
       "      <th>seconds</th>\n",
       "      <th>minutes</th>\n",
       "    </tr>\n",
       "    <tr>\n",
       "      <th>exp_type</th>\n",
       "      <th>depth</th>\n",
       "      <th></th>\n",
       "      <th></th>\n",
       "    </tr>\n",
       "  </thead>\n",
       "  <tbody>\n",
       "    <tr>\n",
       "      <th rowspan=\"2\" valign=\"top\">SIP</th>\n",
       "      <th>depth10MM</th>\n",
       "      <td>620.532333</td>\n",
       "      <td>10.342206</td>\n",
       "    </tr>\n",
       "    <tr>\n",
       "      <th>depth5MM</th>\n",
       "      <td>611.302667</td>\n",
       "      <td>10.188378</td>\n",
       "    </tr>\n",
       "    <tr>\n",
       "      <th rowspan=\"2\" valign=\"top\">nonSIP</th>\n",
       "      <th>depth10MM</th>\n",
       "      <td>634.038667</td>\n",
       "      <td>10.567311</td>\n",
       "    </tr>\n",
       "    <tr>\n",
       "      <th>depth5MM</th>\n",
       "      <td>618.499667</td>\n",
       "      <td>10.308328</td>\n",
       "    </tr>\n",
       "  </tbody>\n",
       "</table>\n",
       "</div>"
      ],
      "text/plain": [
       "                       seconds    minutes\n",
       "exp_type depth                           \n",
       "SIP      depth10MM  620.532333  10.342206\n",
       "         depth5MM   611.302667  10.188378\n",
       "nonSIP   depth10MM  634.038667  10.567311\n",
       "         depth5MM   618.499667  10.308328"
      ]
     },
     "execution_count": 69,
     "metadata": {},
     "output_type": "execute_result"
    }
   ],
   "source": [
    "fragtime_df = pd.DataFrame()\n",
    "\n",
    "for genome_set in ['low_GC_skew', 'medium_GC', 'high_GC_skew']:\n",
    "    for depth in ['depth5MM', 'depth10MM']:\n",
    "        for exp_type in ['SIP', 'nonSIP']:\n",
    "            log_file = '_'.join([exp_type, 'simulation.log'])\n",
    "            log_file = os.path.join(baseDir, genome_set, depth, log_file)\n",
    "            with open(log_file, 'r') as log:\n",
    "                liblines = [l for l in log if 'seconds to build the fragments' in l]\n",
    "            sub_df = pd.DataFrame(liblines, columns = ['line'])\n",
    "            sub_df['seconds'] = sub_df['line'].str.split(\" seconds to build the fragments\", n = 1, expand = True)[0].replace({'It took ':''}, regex=True).astype('float')\n",
    "            sub_df['exp_type'] = exp_type\n",
    "            sub_df['depth'] = depth\n",
    "            sub_df['genome_set'] = genome_set\n",
    "            fragtime_df = fragtime_df.append(sub_df)\n",
    "            \n",
    "            \n",
    "fragtime_df = fragtime_df.groupby(['exp_type', 'depth']).mean()\n",
    "fragtime_df['minutes'] = fragtime_df['seconds']/60.0\n",
    "fragtime_df"
   ]
  },
  {
   "cell_type": "markdown",
   "metadata": {},
   "source": [
    "### Now for the entire simulation\n",
    "Find the mean time for the entire simulations"
   ]
  },
  {
   "cell_type": "code",
   "execution_count": 67,
   "metadata": {},
   "outputs": [
    {
     "data": {
      "text/html": [
       "<div>\n",
       "<style scoped>\n",
       "    .dataframe tbody tr th:only-of-type {\n",
       "        vertical-align: middle;\n",
       "    }\n",
       "\n",
       "    .dataframe tbody tr th {\n",
       "        vertical-align: top;\n",
       "    }\n",
       "\n",
       "    .dataframe thead th {\n",
       "        text-align: right;\n",
       "    }\n",
       "</style>\n",
       "<table border=\"1\" class=\"dataframe\">\n",
       "  <thead>\n",
       "    <tr style=\"text-align: right;\">\n",
       "      <th></th>\n",
       "      <th></th>\n",
       "      <th>seconds</th>\n",
       "      <th>minutes</th>\n",
       "      <th>hours</th>\n",
       "    </tr>\n",
       "    <tr>\n",
       "      <th>exp_type</th>\n",
       "      <th>depth</th>\n",
       "      <th></th>\n",
       "      <th></th>\n",
       "      <th></th>\n",
       "    </tr>\n",
       "  </thead>\n",
       "  <tbody>\n",
       "    <tr>\n",
       "      <th rowspan=\"2\" valign=\"top\">SIP</th>\n",
       "      <th>depth10MM</th>\n",
       "      <td>7278.964333</td>\n",
       "      <td>121.316072</td>\n",
       "      <td>2.021935</td>\n",
       "    </tr>\n",
       "    <tr>\n",
       "      <th>depth5MM</th>\n",
       "      <td>5859.781000</td>\n",
       "      <td>97.663017</td>\n",
       "      <td>1.627717</td>\n",
       "    </tr>\n",
       "    <tr>\n",
       "      <th rowspan=\"2\" valign=\"top\">nonSIP</th>\n",
       "      <th>depth10MM</th>\n",
       "      <td>3381.460667</td>\n",
       "      <td>56.357678</td>\n",
       "      <td>0.939295</td>\n",
       "    </tr>\n",
       "    <tr>\n",
       "      <th>depth5MM</th>\n",
       "      <td>2296.874667</td>\n",
       "      <td>38.281244</td>\n",
       "      <td>0.638021</td>\n",
       "    </tr>\n",
       "  </tbody>\n",
       "</table>\n",
       "</div>"
      ],
      "text/plain": [
       "                        seconds     minutes     hours\n",
       "exp_type depth                                       \n",
       "SIP      depth10MM  7278.964333  121.316072  2.021935\n",
       "         depth5MM   5859.781000   97.663017  1.627717\n",
       "nonSIP   depth10MM  3381.460667   56.357678  0.939295\n",
       "         depth5MM   2296.874667   38.281244  0.638021"
      ]
     },
     "execution_count": 67,
     "metadata": {},
     "output_type": "execute_result"
    }
   ],
   "source": [
    "simtime_df = pd.DataFrame()\n",
    "\n",
    "for genome_set in ['low_GC_skew', 'medium_GC', 'high_GC_skew']:\n",
    "    for depth in ['depth5MM', 'depth10MM']:\n",
    "        for exp_type in ['SIP', 'nonSIP']:\n",
    "            log_file = '_'.join([exp_type, 'simulation.log'])\n",
    "            log_file = os.path.join(baseDir, genome_set, depth, log_file)\n",
    "            with open(log_file, 'r') as log:\n",
    "                liblines = [l for l in log if 'seconds to run the entire simulation' in l]\n",
    "            sub_df = pd.DataFrame(liblines, columns = ['line'])\n",
    "            sub_df['seconds'] = sub_df['line'].replace({'It took ':''}, regex=True).replace({' seconds.*\\n':''}, regex=True).astype('float')\n",
    "            sub_df['exp_type'] = exp_type\n",
    "            sub_df['depth'] = depth\n",
    "            sub_df['genome_set'] = genome_set\n",
    "            simtime_df = simtime_df.append(sub_df)\n",
    "            \n",
    "            \n",
    "simtime_sum = simtime_df.groupby(['exp_type', 'depth']).mean()\n",
    "\n",
    "simtime_sum['minutes'] = simtime_sum['seconds']/60.0\n",
    "simtime_sum['hours'] = simtime_sum['minutes']/60.0\n",
    "simtime_sum\n"
   ]
  },
  {
   "cell_type": "code",
   "execution_count": null,
   "metadata": {},
   "outputs": [],
   "source": []
  },
  {
   "cell_type": "code",
   "execution_count": null,
   "metadata": {},
   "outputs": [],
   "source": []
  }
 ],
 "metadata": {
  "kernelspec": {
   "display_name": "Python 2",
   "language": "python",
   "name": "python2"
  },
  "language_info": {
   "codemirror_mode": {
    "name": "ipython",
    "version": 2
   },
   "file_extension": ".py",
   "mimetype": "text/x-python",
   "name": "python",
   "nbconvert_exporter": "python",
   "pygments_lexer": "ipython2",
   "version": "2.7.15"
  }
 },
 "nbformat": 4,
 "nbformat_minor": 2
}
