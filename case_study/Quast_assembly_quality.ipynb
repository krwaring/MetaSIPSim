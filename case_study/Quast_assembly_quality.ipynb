{
 "cells": [
  {
   "cell_type": "markdown",
   "metadata": {},
   "source": [
    "# Assembly quality with QUAST\n",
    "\n",
    "Samuel Barnett\n",
    "\n",
    "### Introduction\n",
    "\n",
    "Here I'll use QUAST to assess the quality of the co-assemblies compared to the reference genomes."
   ]
  },
  {
   "cell_type": "markdown",
   "metadata": {},
   "source": [
    "## 1) Initialization\n",
    "\n",
    "First I need to import the python modules I'll use, set some variables, initiate R magic, and create/get into the working directory."
   ]
  },
  {
   "cell_type": "code",
   "execution_count": 1,
   "metadata": {},
   "outputs": [],
   "source": [
    "import os\n",
    "mainDir = '/home/sam/data/SIPSim2_data/RealWorld_study3/'\n",
    "qualDir = os.path.join(mainDir, 'assembly_quality')\n",
    "contigDir = os.path.join(mainDir, 'coassembly')\n",
    "binDir = os.path.join(mainDir, 'binning')\n",
    "genomeDir = '/home/sam/databases/ncbi_genomes/ncbi-genomes-2019-01-25/'\n",
    "nprocs = 15"
   ]
  },
  {
   "cell_type": "code",
   "execution_count": 2,
   "metadata": {},
   "outputs": [],
   "source": [
    "import sys\n",
    "import pandas as pd"
   ]
  },
  {
   "cell_type": "code",
   "execution_count": 3,
   "metadata": {},
   "outputs": [
    {
     "name": "stdout",
     "output_type": "stream",
     "text": [
      "Working directory does not exist! Making it now\n",
      "/home/sam/data/SIPSim2_data/RealWorld_study3/assembly_quality\n"
     ]
    }
   ],
   "source": [
    "# making directories\n",
    "## working directory\n",
    "if not os.path.isdir(qualDir):\n",
    "    print(\"Working directory does not exist! Making it now\")\n",
    "    os.makedirs(qualDir)\n",
    "%cd $qualDir\n",
    "\n",
    "## genome directory\n",
    "if not os.path.isdir(genomeDir):\n",
    "    print(\"Genome directory does not exist!!!\")"
   ]
  },
  {
   "cell_type": "markdown",
   "metadata": {},
   "source": [
    "## 2) Assembly quality\n",
    "\n",
    "Now I'll run QUAST for each simulation group."
   ]
  },
  {
   "cell_type": "code",
   "execution_count": 4,
   "metadata": {},
   "outputs": [
    {
     "name": "stdout",
     "output_type": "stream",
     "text": [
      "/home/sam/data/SIPSim2_data/RealWorld_study3/coassembly\n"
     ]
    }
   ],
   "source": [
    "## Contig directory\n",
    "if not os.path.isdir(contigDir):\n",
    "    print(\"Contig directory does not exist!!!\")\n",
    "%cd $contigDir"
   ]
  },
  {
   "cell_type": "code",
   "execution_count": null,
   "metadata": {},
   "outputs": [
    {
     "name": "stdout",
     "output_type": "stream",
     "text": [
      "Running metaquast to get assembly quality for low_GC_skew genomes at depth5MM from the SIP experiment\n",
      "\n"
     ]
    }
   ],
   "source": [
    "genset_dict = {'low_GC_skew': 'lowGC', \n",
    "               'medium_GC': 'medGC', \n",
    "               'high_GC_skew': 'highGC'}\n",
    "depth_dict = {'depth5MM': '5MM', \n",
    "              'depth10MM': '10MM'}\n",
    "exp_dict = {'SIP': 'window', 'nonSIP': 'nonSIP'}\n",
    "\n",
    "\n",
    "for genome_set in ['low_GC_skew', 'medium_GC', 'high_GC_skew']:\n",
    "    index_file = '_'.join([genome_set, 'genome_index.txt'])\n",
    "    index_file = os.path.join(mainDir, index_file)\n",
    "    ref_list = ','.join([os.path.join(genomeDir, x) for x in pd.read_table(index_file, names = ['genome', 'file'])['file']])\n",
    "    \n",
    "    for depth in ['depth5MM', 'depth10MM']:\n",
    "        for exp_type in ['SIP', 'nonSIP']:\n",
    "            print(' '.join(['Running metaquast to get assembly quality for', \n",
    "                            genome_set, 'genomes at', depth, \n",
    "                            'from the', exp_type, 'experiment\\n']))\n",
    "            subcontigfasta = '_'.join([genset_dict[genome_set], depth_dict[depth], exp_type])\n",
    "            subcontigfasta = os.path.join(contigDir, subcontigfasta, 'final.contigs.fa')\n",
    "            outputDir = '_'.join([genset_dict[genome_set], depth_dict[depth], exp_type])\n",
    "            outputDir = os.path.join(qualDir, outputDir)\n",
    "            cmd = ' '.join(['metaquast.py -r', ref_list,\n",
    "                            '-o', outputDir,\n",
    "                            '-t 10', subcontigfasta])\n",
    "            os.system(cmd)\n"
   ]
  },
  {
   "cell_type": "code",
   "execution_count": 6,
   "metadata": {},
   "outputs": [
    {
     "name": "stdout",
     "output_type": "stream",
     "text": [
      "Done\n"
     ]
    }
   ],
   "source": [
    "print(\"Done\")"
   ]
  },
  {
   "cell_type": "markdown",
   "metadata": {},
   "source": [
    "## 3) Getting contig-genome assignments\n",
    "\n",
    "Many genomes are made up of multiple scaffolds (chromosomes and plasmids) and I need to match these scaffolds to their reference genome ID."
   ]
  },
  {
   "cell_type": "code",
   "execution_count": 7,
   "metadata": {},
   "outputs": [
    {
     "name": "stdout",
     "output_type": "stream",
     "text": [
      "There were 318 genomes aligned from lowGC 5MM SIP\n",
      "There were 500 genomes aligned from lowGC 5MM nonSIP\n",
      "There were 339 genomes aligned from lowGC 10MM SIP\n",
      "There were 500 genomes aligned from lowGC 10MM nonSIP\n",
      "There were 354 genomes aligned from medGC 5MM SIP\n",
      "There were 500 genomes aligned from medGC 5MM nonSIP\n",
      "There were 353 genomes aligned from medGC 10MM SIP\n",
      "There were 500 genomes aligned from medGC 10MM nonSIP\n",
      "There were 396 genomes aligned from highGC 5MM SIP\n",
      "There were 500 genomes aligned from highGC 5MM nonSIP\n",
      "There were 398 genomes aligned from highGC 10MM SIP\n",
      "There were 500 genomes aligned from highGC 10MM nonSIP\n"
     ]
    }
   ],
   "source": [
    "j = 1\n",
    "align_df = pd.DataFrame()\n",
    "tempDir = os.path.join(qualDir, 'tmp_align')\n",
    "if not os.path.isdir(tempDir):\n",
    "    os.makedirs(tempDir)\n",
    "    \n",
    "for genome_set in ['lowGC', 'medGC', 'highGC']:\n",
    "    for depth in ['5MM', '10MM']:\n",
    "        for exp_type in ['SIP', 'nonSIP']:\n",
    "            runsDir = '_'.join([genome_set, depth, exp_type])\n",
    "            runsDir = os.path.join(qualDir, runsDir, 'runs_per_reference')\n",
    "            subDir_list = os.listdir(runsDir)\n",
    "            i = 1\n",
    "            for subDir in subDir_list:\n",
    "                alignFile = os.path.join(runsDir, subDir, 'contigs_reports', 'all_alignments_final-contigs.tsv')\n",
    "                subalign_df = pd.read_csv(alignFile, sep='\\t')\n",
    "                subalign_df['genome_set'] = genome_set\n",
    "                subalign_df['depth'] = depth\n",
    "                subalign_df['exp_type'] = exp_type\n",
    "                if j == 1:\n",
    "                    header = subalign_df.columns.values.tolist()\n",
    "                    with open(os.path.join(qualDir, 'header.txt'), 'w') as headfile:\n",
    "                        headfile.write('\\t'.join(header))\n",
    "                        headfile.write('\\n')\n",
    "                subalignFile = '_'.join([genome_set, depth, exp_type, 'genome', str(i), 'aligned.txt'])\n",
    "                subalign_df.to_csv(os.path.join(tempDir, subalignFile), header=False, index=False, sep='\\t')\n",
    "                i = i+1\n",
    "            print(' '.join(['There were', str(i-1), 'genomes aligned from', genome_set, depth, exp_type]))\n",
    "    j = j+1"
   ]
  },
  {
   "cell_type": "code",
   "execution_count": 8,
   "metadata": {},
   "outputs": [
    {
     "name": "stdout",
     "output_type": "stream",
     "text": [
      "cat /home/sam/data/SIPSim2_data/RealWorld_study3/assembly_quality/header.txt /home/sam/data/SIPSim2_data/RealWorld_study3/assembly_quality/tmp_align/* > /home/sam/data/SIPSim2_data/RealWorld_study3/assembly_quality/all_contig_alignments.txt\n",
      "rm -r /home/sam/data/SIPSim2_data/RealWorld_study3/assembly_quality/tmp_align\n",
      "rm /home/sam/data/SIPSim2_data/RealWorld_study3/assembly_quality/header.txt\n"
     ]
    },
    {
     "data": {
      "text/plain": [
       "0"
      ]
     },
     "execution_count": 8,
     "metadata": {},
     "output_type": "execute_result"
    }
   ],
   "source": [
    "cmd = ''.join(['cat ', os.path.join(qualDir, 'header.txt'), ' ', tempDir, '/* > ', \n",
    "               os.path.join(qualDir, 'all_contig_alignments.txt')])\n",
    "print(cmd)\n",
    "os.system(cmd)\n",
    "\n",
    "cmd = ' '.join(['rm -r', tempDir])\n",
    "print(cmd)\n",
    "os.system(cmd)\n",
    "\n",
    "cmd = ' '.join(['rm', os.path.join(qualDir, 'header.txt')])\n",
    "print(cmd)\n",
    "os.system(cmd)"
   ]
  },
  {
   "cell_type": "markdown",
   "metadata": {},
   "source": [
    "### Get scaffold lengths\n",
    "Get the lengths for all the scaffolds"
   ]
  },
  {
   "cell_type": "code",
   "execution_count": 9,
   "metadata": {},
   "outputs": [],
   "source": [
    "finalstatsFile = os.path.join(qualDir, 'scaffold_stats.txt')\n",
    "with open(finalstatsFile, 'w') as finalstats:\n",
    "    finalstats.write('Reference\\tReference_length\\tReference_length_noN\\ttotal_coverage\\tgenome_set\\tdepth\\texp_type\\n')\n",
    "    for genome_set in ['lowGC', 'medGC', 'highGC']:\n",
    "        for depth in ['5MM', '10MM']:\n",
    "            for exp_type in ['SIP', 'nonSIP']:\n",
    "                statsFile = '_'.join([genome_set, depth, exp_type])\n",
    "                statsFile = os.path.join(qualDir, statsFile, 'combined_reference/genome_stats/genome_info.txt')\n",
    "                with open(statsFile, 'r') as stats:\n",
    "                    for line in stats:\n",
    "                        if line.startswith('\\tGCF_'):\n",
    "                            line = line.strip('\\t').strip(' bp)\\n')\n",
    "                            line = line.replace(' (total length: ', '\\t')\n",
    "                            line = line.replace(\" bp, total length without N's: \", '\\t')\n",
    "                            line = line.replace(' bp, maximal covered length: ', '\\t')\n",
    "                            line = '\\t'.join([line, genome_set, depth, exp_type])\n",
    "                            finalstats.write(line)\n",
    "                            finalstats.write('\\n')"
   ]
  },
  {
   "cell_type": "code",
   "execution_count": null,
   "metadata": {},
   "outputs": [],
   "source": []
  }
 ],
 "metadata": {
  "kernelspec": {
   "display_name": "Python 2",
   "language": "python",
   "name": "python2"
  },
  "language_info": {
   "codemirror_mode": {
    "name": "ipython",
    "version": 2
   },
   "file_extension": ".py",
   "mimetype": "text/x-python",
   "name": "python",
   "nbconvert_exporter": "python",
   "pygments_lexer": "ipython2",
   "version": "2.7.15"
  }
 },
 "nbformat": 4,
 "nbformat_minor": 2
}
