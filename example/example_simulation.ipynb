{
 "cells": [
  {
   "cell_type": "markdown",
   "metadata": {},
   "source": [
    "# Example run of MetaSIPSim scripts"
   ]
  },
  {
   "cell_type": "markdown",
   "metadata": {},
   "source": [
    "Samuel Barnett\n",
    "\n",
    "### Introduction\n",
    "\n",
    "Below is a simple example for running MetaSIPSim using 10 random genomes downloaded from NCBI RefSeq. Here I'll take you through:\n",
    "\n",
    "1. Selecting genomes from a local database\n",
    "2. Indexing genomes\n",
    "3. Building an in silico community\n",
    "4. Selecting incorporators\n",
    "5. Simulating a density gradient \n",
    "6. Generating a configuration file\n",
    "7. Simulating metagenomic-SIP reads\n",
    "8. Simulating shotgun metagenomic reads\n",
    "9. Converting reads from fasta to fastq format\n",
    "\n",
    "For this example I'll be labeling with 15N and using single heavy-window SIP experimental design. The NCBI RefSeq assemblies in my case is in a directory at `databases/ncbi_genomes/ncbi-genomes-2019-01-25/`.\n"
   ]
  },
  {
   "cell_type": "markdown",
   "metadata": {},
   "source": [
    "### Initialization\n",
    "\n",
    "Import the required python modules, set the working directory and required variables."
   ]
  },
  {
   "cell_type": "code",
   "execution_count": 1,
   "metadata": {},
   "outputs": [],
   "source": [
    "import os\n",
    "import random\n",
    "import numpy as np\n",
    "import ConfigParser\n",
    "\n",
    "## Set the working directory where all files should be stored\n",
    "workDir = '/home/sam/tmp/MetaSIPSim_example'\n",
    "\n",
    "## Where are the reference genomes stored?\n",
    "genomeDir = '/home/sam/databases/ncbi_genomes/ncbi-genomes-2019-01-25/'\n",
    "\n",
    "## How many processors to use with this simulation\n",
    "nprocs = 2"
   ]
  },
  {
   "cell_type": "code",
   "execution_count": 2,
   "metadata": {},
   "outputs": [
    {
     "name": "stdout",
     "output_type": "stream",
     "text": [
      "/home/sam/tmp/MetaSIPSim_example\n"
     ]
    }
   ],
   "source": [
    "## Go into the working directory\n",
    "%cd $workDir"
   ]
  },
  {
   "cell_type": "markdown",
   "metadata": {},
   "source": [
    "## 1) Selecting genomes\n",
    "\n",
    "I've already downloaded the NCBI RefSeq database on January 25th, 2019. I will now take 10 random genomes from this database for our reference set."
   ]
  },
  {
   "cell_type": "code",
   "execution_count": 3,
   "metadata": {},
   "outputs": [
    {
     "name": "stdout",
     "output_type": "stream",
     "text": [
      "['GCF_002005405.1_ASM200540v1_genomic.fna', 'GCF_001314945.1_ASM131494v1_genomic.fna', 'GCF_002079945.1_ASM207994v1_genomic.fna', 'GCF_000024785.1_ASM2478v1_genomic.fna', 'GCF_002073715.2_ASM207371v2_genomic.fna', 'GCF_000143085.1_ASM14308v1_genomic.fna', 'GCF_000143165.1_ASM14316v1_genomic.fna', 'GCF_000091325.1_ASM9132v1_genomic.fna', 'GCF_000013125.1_ASM1312v1_genomic.fna', 'GCF_900169085.1_SWA-2_genomic.fna']\n"
     ]
    }
   ],
   "source": [
    "## Get all fasta files (.fna) in the database directory\n",
    "available_genomes = [f for f in os.listdir(genomeDir) if f.endswith('.fna')]\n",
    "\n",
    "## Select 10 random genomes from the database\n",
    "ref_set = random.sample(available_genomes, 10)\n",
    "print(ref_set)"
   ]
  },
  {
   "cell_type": "markdown",
   "metadata": {},
   "source": [
    "## 2) Make index file\n",
    "\n",
    "Now I'll make an index file that will tell the MetaSIPSim scripts what files contain each genome. This will also set the genome IDs, which I will simply use their RefSeq assembly accessions. \n",
    "\n",
    "This file should be tab delimited with the first column the genome ID and the second the file name. The index file will be called \"genome_index.txt\"."
   ]
  },
  {
   "cell_type": "code",
   "execution_count": 4,
   "metadata": {
    "scrolled": true
   },
   "outputs": [
    {
     "name": "stdout",
     "output_type": "stream",
     "text": [
      "GCF_002005405.1\tGCF_002005405.1_ASM200540v1_genomic.fna\r\n",
      "GCF_001314945.1\tGCF_001314945.1_ASM131494v1_genomic.fna\r\n",
      "GCF_002079945.1\tGCF_002079945.1_ASM207994v1_genomic.fna\r\n",
      "GCF_000024785.1\tGCF_000024785.1_ASM2478v1_genomic.fna\r\n",
      "GCF_002073715.2\tGCF_002073715.2_ASM207371v2_genomic.fna\r\n",
      "GCF_000143085.1\tGCF_000143085.1_ASM14308v1_genomic.fna\r\n",
      "GCF_000143165.1\tGCF_000143165.1_ASM14316v1_genomic.fna\r\n",
      "GCF_000091325.1\tGCF_000091325.1_ASM9132v1_genomic.fna\r\n",
      "GCF_000013125.1\tGCF_000013125.1_ASM1312v1_genomic.fna\r\n",
      "GCF_900169085.1\tGCF_900169085.1_SWA-2_genomic.fna\r\n"
     ]
    }
   ],
   "source": [
    "with open(os.path.join(workDir, 'genome_index.txt'), 'w') as idxfile:\n",
    "    for g in ref_set:\n",
    "        idxfile.write('\\t'.join([\"_\".join(g.split(\"_\", 2)[:2]), g]))\n",
    "        idxfile.write('\\n')\n",
    "!head genome_index.txt\n"
   ]
  },
  {
   "cell_type": "markdown",
   "metadata": {},
   "source": [
    "## 3) Building in silico communities\n",
    "\n",
    "Now I'll make a community composition table with the abundance of each reference in each sample/library. I'll use two samples for this example. As with many bacterial communities, I'm going to base these two samples on a lognormal species distribution. This will be accomplished with the numpy random lognormal function.\n",
    "\n",
    "I'll save this community composition file as \"community.txt\""
   ]
  },
  {
   "cell_type": "code",
   "execution_count": 5,
   "metadata": {},
   "outputs": [
    {
     "name": "stdout",
     "output_type": "stream",
     "text": [
      "library\ttaxon_name\trel_abund_perc\trank\r\n",
      "1\tGCF_001314945.1\t32.17446986009239\t1\r\n",
      "1\tGCF_000013125.1\t19.053272363328837\t2\r\n",
      "1\tGCF_000143085.1\t14.071835106552626\t3\r\n",
      "1\tGCF_002073715.2\t9.366510705725819\t4\r\n",
      "1\tGCF_002079945.1\t7.405160586239504\t5\r\n",
      "1\tGCF_002005405.1\t6.109269108489677\t6\r\n",
      "1\tGCF_000024785.1\t4.798331309063747\t7\r\n",
      "1\tGCF_000143165.1\t3.7165227052609544\t8\r\n",
      "1\tGCF_000091325.1\t2.8901980947625505\t9\r\n",
      "1\tGCF_900169085.1\t0.4144301604838983\t10\r\n",
      "2\tGCF_000143085.1\t30.55598786114518\t1\r\n",
      "2\tGCF_900169085.1\t19.77719280556173\t2\r\n",
      "2\tGCF_000091325.1\t12.25134513692992\t3\r\n",
      "2\tGCF_002005405.1\t12.027747409371974\t4\r\n",
      "2\tGCF_001314945.1\t9.803716840119032\t5\r\n",
      "2\tGCF_002079945.1\t6.597278372507359\t6\r\n",
      "2\tGCF_000143165.1\t3.8584270764279434\t7\r\n",
      "2\tGCF_000024785.1\t1.9537362047275335\t8\r\n",
      "2\tGCF_000013125.1\t1.884722681298399\t9\r\n",
      "2\tGCF_002073715.2\t1.2898456119109285\t10\r\n"
     ]
    }
   ],
   "source": [
    "with open(os.path.join(workDir, 'community.txt'), 'w') as commfile:\n",
    "    commfile.write('library\\ttaxon_name\\trel_abund_perc\\trank\\n')\n",
    "    for lib in [1, 2]:\n",
    "        # Get random abundances for 10 genomes based on lognormal distribution\n",
    "        abdlist = sorted(list(np.random.lognormal(mean=0, sigma=1, size=10)), reverse=True)\n",
    "        abdlist = abdlist/sum(abdlist)*100\n",
    "        # Assign genomes to these abundances\n",
    "        orderedgenomes = random.sample(ref_set, 10)\n",
    "        for i in range(0, 10):\n",
    "            commfile.write('\\t'.join([str(lib), \n",
    "                                      \"_\".join(orderedgenomes[i].split(\"_\", 2)[:2]), \n",
    "                                      str(abdlist[i]), \n",
    "                                      str(i+1)]))\n",
    "            commfile.write('\\n')\n",
    "                \n",
    "!cat community.txt\n"
   ]
  },
  {
   "cell_type": "markdown",
   "metadata": {},
   "source": [
    "## 4) Selecting incorporators\n",
    "\n",
    "I'm just going to randomly select 3 incorporators from each sample to be isotopically labeled. Further, I'll set their mean atom % excess of 15N randomly from a uniform distribution between 50 and 100%. Their standard deviation of isotope labeleing will be 5%."
   ]
  },
  {
   "cell_type": "code",
   "execution_count": 13,
   "metadata": {},
   "outputs": [
    {
     "name": "stdout",
     "output_type": "stream",
     "text": [
      "taxon_name\tlibrary\tpercent_incorporation\tsd_incorporation\r\n",
      "GCF_002005405.1\t1\t57\t5\r\n",
      "GCF_000013125.1\t1\t58\t5\r\n",
      "GCF_000143085.1\t1\t60\t5\r\n",
      "GCF_002079945.1\t2\t68\t5\r\n",
      "GCF_000024785.1\t2\t63\t5\r\n",
      "GCF_000143165.1\t2\t54\t5\r\n"
     ]
    }
   ],
   "source": [
    "with open(os.path.join(workDir, 'incorporators.txt'), 'w') as incorpfile:\n",
    "    incorpfile.write('taxon_name\\tlibrary\\tpercent_incorporation\\tsd_incorporation\\n')\n",
    "    for lib in [1,2]:\n",
    "        for incorp in random.sample(ref_set, 3):\n",
    "            incorpfile.write('\\t'.join([\"_\".join(incorp.split(\"_\", 2)[:2]), \n",
    "                                        str(lib), str(random.randint(50,100)), '5']))\n",
    "            incorpfile.write('\\n')\n",
    "\n",
    "!cat incorporators.txt"
   ]
  },
  {
   "cell_type": "markdown",
   "metadata": {},
   "source": [
    "## 5) Simulating gradient fractions\n",
    "\n",
    "Now I'll simulate fractions of a CsCl gradient. I'll do this simply by randomly generating fractions with size randomly between 0.003 and 0.010 g/ml starting at 1.670 g/ml and ending at 1.780 g/ml. I'll do this separately for each sample.\n",
    "\n",
    "The fraction file will be called \"fractions.txt\"."
   ]
  },
  {
   "cell_type": "code",
   "execution_count": 19,
   "metadata": {},
   "outputs": [
    {
     "name": "stdout",
     "output_type": "stream",
     "text": [
      "library\tfraction\tBD_min\tBD_max\tfraction_size\r\n",
      "1\t1\t1.67\t1.675\t0.005\r\n",
      "1\t2\t1.675\t1.684\t0.009\r\n",
      "1\t3\t1.684\t1.687\t0.003\r\n",
      "1\t4\t1.687\t1.696\t0.009\r\n",
      "1\t5\t1.696\t1.7\t0.004\r\n",
      "1\t6\t1.7\t1.709\t0.009\r\n",
      "1\t7\t1.709\t1.715\t0.006\r\n",
      "1\t8\t1.715\t1.724\t0.009\r\n",
      "1\t9\t1.724\t1.728\t0.004\r\n",
      "1\t10\t1.728\t1.734\t0.006\r\n",
      "1\t11\t1.734\t1.738\t0.004\r\n",
      "1\t12\t1.738\t1.744\t0.006\r\n",
      "1\t13\t1.744\t1.75\t0.006\r\n",
      "1\t14\t1.75\t1.76\t0.01\r\n",
      "1\t15\t1.76\t1.763\t0.003\r\n",
      "1\t16\t1.763\t1.766\t0.003\r\n",
      "1\t17\t1.766\t1.771\t0.005\r\n",
      "1\t18\t1.771\t1.779\t0.008\r\n",
      "1\t19\t1.779\t1.788\t0.009\r\n",
      "2\t1\t1.67\t1.676\t0.006\r\n",
      "2\t2\t1.676\t1.679\t0.003\r\n",
      "2\t3\t1.679\t1.683\t0.004\r\n",
      "2\t4\t1.683\t1.693\t0.01\r\n",
      "2\t5\t1.693\t1.697\t0.004\r\n",
      "2\t6\t1.697\t1.706\t0.009\r\n",
      "2\t7\t1.706\t1.712\t0.006\r\n",
      "2\t8\t1.712\t1.72\t0.008\r\n",
      "2\t9\t1.72\t1.727\t0.007\r\n",
      "2\t10\t1.727\t1.732\t0.005\r\n",
      "2\t11\t1.732\t1.737\t0.005\r\n",
      "2\t12\t1.737\t1.745\t0.008\r\n",
      "2\t13\t1.745\t1.749\t0.004\r\n",
      "2\t14\t1.749\t1.756\t0.007\r\n",
      "2\t15\t1.756\t1.759\t0.003\r\n",
      "2\t16\t1.759\t1.766\t0.007\r\n",
      "2\t17\t1.766\t1.775\t0.009\r\n",
      "2\t18\t1.775\t1.781\t0.006\r\n"
     ]
    }
   ],
   "source": [
    "with open(os.path.join(workDir, 'fractions.txt'), 'w') as fracfile:\n",
    "    fracfile.write('library\\tfraction\\tBD_min\\tBD_max\\tfraction_size\\n')\n",
    "    for lib in [1,2]:\n",
    "        frac = 1\n",
    "        BD_max = 1.670\n",
    "        while BD_max < 1.780:\n",
    "            frac_size = float(random.randint(3,10))/1000\n",
    "            BD_min = BD_max\n",
    "            BD_max = BD_min+frac_size\n",
    "            fracfile.write('\\t'.join([str(lib), str(frac), str(BD_min), str(BD_max), str(frac_size)]))\n",
    "            fracfile.write('\\n')\n",
    "            frac += 1\n",
    "            \n",
    "!cat fractions.txt"
   ]
  },
  {
   "cell_type": "markdown",
   "metadata": {},
   "source": [
    "## 6) Generating configuration file\n",
    "\n",
    "To run the MetaSIPSim scripts all experimental parameters need to be in a configuration file. We can use the same configuration file for both the metagenomic-SIP and shotgun metagenomic simulations. For more information on each individual parameter, check out the [manual](https://github.com/seb369/MetaSIPSim/blob/master/MetaSIPSim_manual.pdf)."
   ]
  },
  {
   "cell_type": "code",
   "execution_count": 22,
   "metadata": {},
   "outputs": [],
   "source": [
    "config = ConfigParser.SafeConfigParser()\n",
    "\n",
    "## Library parameters\n",
    "config.add_section('Library')\n",
    "config.set('Library', 'library_list', '1, 2')\n",
    "config.set('Library', 'window_or_fraction', 'window')\n",
    "config.set('Library', 'min_bouyant_density_sequenced', '1.72')\n",
    "config.set('Library', 'max_bouyant_density_sequenced', '1.77')\n",
    "\n",
    "## Fragment parameters\n",
    "config.add_section('Fragment')\n",
    "config.set('Fragment', 'genomeDir', genomeDir)\n",
    "config.set('Fragment', 'frag_length_distribution', 'skewed-normal,9000,2500,-5')\n",
    "config.set('Fragment', 'coverage_of_fragments', '10')\n",
    "config.set('Fragment', 'temp_fragment_file', 'tmp')\n",
    "config.set('Fragment', 'genome_index_file', 'genome_index.txt')\n",
    "#config.set('Fragment', 'number_of_iterations', '1') NOT NEEDED IN THIS EXAMPLE\n",
    "\n",
    "## Gradient parameters\n",
    "config.add_section('Gradient')\n",
    "config.set('Gradient', 'temperature', '293.15')\n",
    "config.set('Gradient', 'avg_density', '1.69')\n",
    "config.set('Gradient', 'angular_velocity', '33172837')\n",
    "config.set('Gradient', 'min_rotation_radius', '2.6')\n",
    "config.set('Gradient', 'max_rotation_radius', '4.85')\n",
    "config.set('Gradient', 'tube_angle', '28.6')\n",
    "config.set('Gradient', 'tube_radius', '0.66')\n",
    "config.set('Gradient', 'tube_height', '4.7')\n",
    "config.set('Gradient', 'fraction_frag_in_DBL', '0.001')\n",
    "config.set('Gradient', 'isotope', 'N')\n",
    "#config.set('Gradient', 'isotope', 'C') # ANOTHER POSSIBLE OPTION\n",
    "\n",
    "## Model parameters\n",
    "config.add_section('Model')\n",
    "config.set('Model', 'min_bouyant_density', '1.67')\n",
    "config.set('Model', 'max_bouyant_density', '1.78')\n",
    "config.set('Model', 'bouyant_density_step', '0.0001')\n",
    "config.set('Model', 'fraction_table_file', 'fractions.txt')\n",
    "\n",
    "## Community parameters\n",
    "config.add_section('Community')\n",
    "config.set('Community', 'community_file', 'community.txt')\n",
    "config.set('Community', 'incorporator_file', 'incorporators.txt')\n",
    "\n",
    "## Sequencing parameters\n",
    "config.add_section('Sequencing')\n",
    "config.set('Sequencing', 'max_read_length', '151')\n",
    "config.set('Sequencing', 'avg_insert_size', '1000')\n",
    "config.set('Sequencing', 'stddev_insert_size', '5')\n",
    "config.set('Sequencing', 'final_number_of_sequences', '100000')\n",
    "config.set('Sequencing', 'number_of_sequences_per_iteration', '100000')\n",
    "\n",
    "## Other parameters\n",
    "config.add_section('Other')\n",
    "config.set('Other', 'temp_directory', 'tmp')\n",
    "config.set('Other', 'threads', '2')\n",
    "config.set('Other', 'logfile', 'example_simulation.log')\n",
    "config.set('Other', 'endpoint', 'read_sequences')\n",
    "#config.set('Other', 'endpoint', 'fragment_list') # ANOTHER POSSIBLE OPTION\n",
    "#config.set('Other', 'endpoint', 'read_list') # ANOTHER POSSIBLE OPTION\n",
    "\n",
    "# Writing our configuration file to 'example.cfg'\n",
    "with open(os.path.join(workDir, 'example_parameters.cfg'), 'wb') as configfile:\n",
    "    config.write(configfile)"
   ]
  },
  {
   "cell_type": "markdown",
   "metadata": {},
   "source": [
    "## 7) Simulating metagenomic-SIP reads\n",
    "\n",
    "Now I'll run the function `SIPSim_metagenome.py` to simulate reads from a metagenomic-SIP experiment with our in silico community and incorporators."
   ]
  },
  {
   "cell_type": "code",
   "execution_count": 23,
   "metadata": {},
   "outputs": [
    {
     "name": "stdout",
     "output_type": "stream",
     "text": [
      "Running SIPSim_metagenome\n",
      "This program was writen by Samuel Barnett (seb369@cornell.edu)\n",
      "\n",
      "This run was started on 06/08/19 at 15:24:47\n",
      "\n",
      "\n",
      "You have chosen to get sequences of simulated, sequenced SIP metagenome reads.\n",
      "You have selected to simulate metagenome for a SIP gradient between buoyant densities: 1.72 and 1.77.\n",
      "\n",
      "Your community abundance file is: community.txt\n",
      "\n",
      "Your incorporator assignment file is: incorporators.txt\n",
      "\n",
      "You are simulating with the isotope of N\n",
      "\n",
      "It took 0.963 seconds to get these models.\n",
      "It took 0.937 seconds to get these models.\n",
      "\n",
      "Building fragments\n",
      "\n",
      "Temporary fragment directory already exists. Your current files may be overwriten.\n",
      "\n",
      "\n",
      "It took 7.35 seconds to build the fragments\n",
      "\n",
      "----------\n",
      "\n",
      "Starting library 1\n",
      "\n",
      "Starting library 1 in window BD:1.72-1.77\n",
      "Writing fragments to file\n",
      "It took 7.932 seconds to write fragment file.\n",
      "It took 1.161 seconds to generate reads. Now building map.\n",
      "Writing read sequences\n",
      "It took 24.654 seconds to make this fasta\n",
      "It took 25.656 seconds to run library 1 fraction BD:1.72-1.77 iteration 1\n",
      "\n",
      "It took 33.748 seconds to run the library 1 in window BD:1.72-1.77\n",
      "\n",
      "It took 33.749 seconds to run the whole library 1\n",
      "\n",
      "----------\n",
      "\n",
      "Starting library 2\n",
      "\n",
      "Starting library 2 in window BD:1.72-1.77\n",
      "Writing fragments to file\n",
      "It took 7.658 seconds to write fragment file.\n",
      "It took 1.341 seconds to generate reads. Now building map.\n",
      "Writing read sequences\n",
      "It took 27.732 seconds to make this fasta\n",
      "It took 28.904 seconds to run library 2 fraction BD:1.72-1.77 iteration 1\n",
      "\n",
      "It took 36.731 seconds to run the library 2 in window BD:1.72-1.77\n",
      "\n",
      "It took 36.732 seconds to run the whole library 2\n",
      "\n",
      "----------\n",
      "\n",
      "It took 80.262 seconds to run the entire simulation. This program is now done!\n"
     ]
    }
   ],
   "source": [
    "!python /home/sam/notebooks/MetaSIPSim/bin/SIPSim_metagenome.py example_parameters.cfg"
   ]
  },
  {
   "cell_type": "markdown",
   "metadata": {},
   "source": [
    "## 8) Simulating shotgun metagenomic reads\n",
    "\n",
    "Now I'll run the function `nonSIP_metagenome.py` to simulate reads from a conventional shotgun metagenome experiment with our in silico community."
   ]
  },
  {
   "cell_type": "code",
   "execution_count": 24,
   "metadata": {},
   "outputs": [
    {
     "name": "stdout",
     "output_type": "stream",
     "text": [
      "Running nonSIP_metagenome\n",
      "This program was writen by Samuel Barnett (seb369@cornell.edu)\n",
      "\n",
      "This run was started on 06/08/19 at 15:27:44\n",
      "\n",
      "\n",
      "You have chosen to get sequences of simulated, sequenced SIP metagenome reads.\n",
      "\n",
      "Building fragments\n",
      "\n",
      "Temporary fragment directory already exists. Your current files may be overwriten.\n",
      "\n",
      "\n",
      "It took 7.072 seconds to build the fragments\n",
      "\n",
      "----------\n",
      "\n",
      "Starting library 1\n",
      "\n",
      "Writing fragments to file\n",
      "It took 0.4 seconds to write fragment file.\n",
      "It took 2.33 seconds to generate reads. Now building map.\n",
      "Writing read sequences\n",
      "It took 20.154 seconds to make this fasta\n",
      "It took 22.306 seconds to run library 1 iteration 1\n",
      "\n",
      "It took 22.884 seconds to run the whole library 1\n",
      "\n",
      "----------\n",
      "\n",
      "Starting library 2\n",
      "\n",
      "Writing fragments to file\n",
      "It took 0.402 seconds to write fragment file.\n",
      "It took 2.04 seconds to generate reads. Now building map.\n",
      "Writing read sequences\n",
      "It took 17.05 seconds to make this fasta\n",
      "It took 18.946 seconds to run library 2 iteration 1\n",
      "\n",
      "It took 19.493 seconds to run the whole library 2\n",
      "\n",
      "----------\n",
      "\n",
      "It took 49.475 seconds to run the entire simulation. This program is now done!\n"
     ]
    }
   ],
   "source": [
    "!python /home/sam/notebooks/MetaSIPSim/bin/nonSIP_metagenome.py example_parameters.cfg"
   ]
  },
  {
   "cell_type": "markdown",
   "metadata": {
    "collapsed": true
   },
   "source": [
    "## 9) Converting reads from fasta to fastq format\n",
    "\n",
    "The output from the previous two sections is fasta formated reads. For most applications, you want fastq formated reads. Here I'll use the fasta2fastq.py script to convert the reads.\n",
    "\n",
    "First I need to get a list of the fasta files that were just generated (those ending in \"fasta.gz\")"
   ]
  },
  {
   "cell_type": "code",
   "execution_count": 25,
   "metadata": {},
   "outputs": [],
   "source": [
    "fasta_files = [f for f in os.listdir(workDir) if f.endswith('.fasta.gz')]"
   ]
  },
  {
   "cell_type": "markdown",
   "metadata": {},
   "source": [
    "Now I'll run the fasta2fastq.py script separately for each fasta file. This script needs to know which direction the reads are (forward or reverse). Those with \"reads_f\" are forward and with \"reads_r\" are reverse.  I'll use the NovaSeq error model for this run. I have provided the error models from InSilicoSeq along with this toolkit.\n",
    "\n",
    "Note: this might take a little while to run fully."
   ]
  },
  {
   "cell_type": "code",
   "execution_count": 29,
   "metadata": {},
   "outputs": [
    {
     "name": "stdout",
     "output_type": "stream",
     "text": [
      "Running library_1_window_1.72-1.77_reads_f.fasta.gz\n",
      "pigz -d -k -p 2 library_1_window_1.72-1.77_reads_f.fasta.gz\n",
      "python /home/sam/notebooks/MetaSIPSim/bin/fasta2fastq.py library_1_window_1.72-1.77_reads_f.fasta forward /home/sam/notebooks/MetaSIPSim/ISS_error_models/NovaSeq 151 tmp 2\n",
      "rm library_1_window_1.72-1.77_reads_f.fasta\n",
      "\n",
      "\n",
      "Running library_1_window_1.72-1.77_reads_r.fasta.gz\n",
      "pigz -d -k -p 2 library_1_window_1.72-1.77_reads_r.fasta.gz\n",
      "python /home/sam/notebooks/MetaSIPSim/bin/fasta2fastq.py library_1_window_1.72-1.77_reads_r.fasta reverse /home/sam/notebooks/MetaSIPSim/ISS_error_models/NovaSeq 151 tmp 2\n",
      "rm library_1_window_1.72-1.77_reads_r.fasta\n",
      "\n",
      "\n",
      "Running library_2_window_1.72-1.77_reads_f.fasta.gz\n",
      "pigz -d -k -p 2 library_2_window_1.72-1.77_reads_f.fasta.gz\n",
      "python /home/sam/notebooks/MetaSIPSim/bin/fasta2fastq.py library_2_window_1.72-1.77_reads_f.fasta forward /home/sam/notebooks/MetaSIPSim/ISS_error_models/NovaSeq 151 tmp 2\n",
      "rm library_2_window_1.72-1.77_reads_f.fasta\n",
      "\n",
      "\n",
      "Running library_2_window_1.72-1.77_reads_r.fasta.gz\n",
      "pigz -d -k -p 2 library_2_window_1.72-1.77_reads_r.fasta.gz\n",
      "python /home/sam/notebooks/MetaSIPSim/bin/fasta2fastq.py library_2_window_1.72-1.77_reads_r.fasta reverse /home/sam/notebooks/MetaSIPSim/ISS_error_models/NovaSeq 151 tmp 2\n",
      "rm library_2_window_1.72-1.77_reads_r.fasta\n",
      "\n",
      "\n",
      "Running nonSIP_library_1_reads_f.fasta.gz\n",
      "pigz -d -k -p 2 nonSIP_library_1_reads_f.fasta.gz\n",
      "python /home/sam/notebooks/MetaSIPSim/bin/fasta2fastq.py nonSIP_library_1_reads_f.fasta forward /home/sam/notebooks/MetaSIPSim/ISS_error_models/NovaSeq 151 tmp 2\n",
      "rm nonSIP_library_1_reads_f.fasta\n",
      "\n",
      "\n",
      "Running nonSIP_library_1_reads_r.fasta.gz\n",
      "pigz -d -k -p 2 nonSIP_library_1_reads_r.fasta.gz\n",
      "python /home/sam/notebooks/MetaSIPSim/bin/fasta2fastq.py nonSIP_library_1_reads_r.fasta reverse /home/sam/notebooks/MetaSIPSim/ISS_error_models/NovaSeq 151 tmp 2\n",
      "rm nonSIP_library_1_reads_r.fasta\n",
      "\n",
      "\n",
      "Running nonSIP_library_2_reads_f.fasta.gz\n",
      "pigz -d -k -p 2 nonSIP_library_2_reads_f.fasta.gz\n",
      "python /home/sam/notebooks/MetaSIPSim/bin/fasta2fastq.py nonSIP_library_2_reads_f.fasta forward /home/sam/notebooks/MetaSIPSim/ISS_error_models/NovaSeq 151 tmp 2\n",
      "rm nonSIP_library_2_reads_f.fasta\n",
      "\n",
      "\n",
      "Running nonSIP_library_2_reads_r.fasta.gz\n",
      "pigz -d -k -p 2 nonSIP_library_2_reads_r.fasta.gz\n",
      "python /home/sam/notebooks/MetaSIPSim/bin/fasta2fastq.py nonSIP_library_2_reads_r.fasta reverse /home/sam/notebooks/MetaSIPSim/ISS_error_models/NovaSeq 151 tmp 2\n",
      "rm nonSIP_library_2_reads_r.fasta\n",
      "\n",
      "\n"
     ]
    }
   ],
   "source": [
    "for fasta in sorted(fasta_files):\n",
    "    print(\"Running \" + fasta)\n",
    "    # Uncompress the fasta file\n",
    "    cmd = ' '.join(['pigz -d -k -p', str(nprocs), fasta])\n",
    "    print(cmd)\n",
    "    os.system(cmd)\n",
    "    # Convert to fastq file\n",
    "    fastafile = fasta.replace(\".gz\", \"\")\n",
    "    # Which direction are these reads?\n",
    "    if fastafile.endswith('reads_f.fasta'):\n",
    "        direction = 'forward'\n",
    "    elif fastafile.endswith('reads_r.fasta'):\n",
    "        direction = 'reverse'\n",
    "    # Make command arguments (i d e l t p)\n",
    "    args = ' '. join([fastafile, \n",
    "                      direction, \n",
    "                      '/home/sam/notebooks/MetaSIPSim/ISS_error_models/NovaSeq', \n",
    "                      '151', \n",
    "                      'tmp', \n",
    "                      '2'])\n",
    "    # Run fasta2fastq.py\n",
    "    cmd = ' '.join(['python /home/sam/notebooks/MetaSIPSim/bin/fasta2fastq.py', \n",
    "                    args])\n",
    "    print(cmd)\n",
    "    os.system(cmd)\n",
    "    # Remove uncompressed fasta file\n",
    "    cmd = ' '.join(['rm', fastafile])\n",
    "    print(cmd)\n",
    "    os.system(cmd)\n",
    "    print('\\n')"
   ]
  },
  {
   "cell_type": "markdown",
   "metadata": {},
   "source": [
    "## List files generated through this tutorial\n",
    "\n",
    "Check out all the files generated in this tutorial!"
   ]
  },
  {
   "cell_type": "code",
   "execution_count": 30,
   "metadata": {},
   "outputs": [
    {
     "name": "stdout",
     "output_type": "stream",
     "text": [
      "total 90M\r\n",
      "-rw-rw-r-- 1 sam sam   20 Aug  6 15:25 BD_min_max_list.pkl\r\n",
      "-rw-rw-r-- 1 sam sam  810 Aug  6 14:55 community.txt\r\n",
      "-rw-rw-r-- 1 sam sam 1.1K Aug  6 15:23 example_parameters.cfg\r\n",
      "-rw-rw-r-- 1 sam sam 1.1K Aug  6 15:28 example_simulation.log\r\n",
      "-rw-rw-r-- 1 sam sam  864 Aug  6 15:09 fractions.txt\r\n",
      "-rw-rw-r-- 1 sam sam  546 Aug  6 14:55 genome_index.txt\r\n",
      "-rw-rw-r-- 1 sam sam  196 Aug  6 14:57 incorporators.txt\r\n",
      "-rw-rw-r-- 1 sam sam 895K Aug  6 15:25 library_1_window_1.72-1.77_fragments.txt.gz\r\n",
      "-rw-rw-r-- 1 sam sam 4.6M Aug  6 15:25 library_1_window_1.72-1.77_reads_f.fasta.gz\r\n",
      "-rw-rw-r-- 1 sam sam 5.8M Aug  6 15:48 library_1_window_1.72-1.77_reads_f.fastq.gz\r\n",
      "-rw-rw-r-- 1 sam sam 4.6M Aug  6 15:25 library_1_window_1.72-1.77_reads_r.fasta.gz\r\n",
      "-rw-rw-r-- 1 sam sam 6.4M Aug  6 15:49 library_1_window_1.72-1.77_reads_r.fastq.gz\r\n",
      "-rw-rw-r-- 1 sam sam 913K Aug  6 15:25 library_2_window_1.72-1.77_fragments.txt.gz\r\n",
      "-rw-rw-r-- 1 sam sam 4.6M Aug  6 15:26 library_2_window_1.72-1.77_reads_f.fasta.gz\r\n",
      "-rw-rw-r-- 1 sam sam 5.8M Aug  6 15:51 library_2_window_1.72-1.77_reads_f.fastq.gz\r\n",
      "-rw-rw-r-- 1 sam sam 4.6M Aug  6 15:26 library_2_window_1.72-1.77_reads_r.fasta.gz\r\n",
      "-rw-rw-r-- 1 sam sam 6.5M Aug  6 15:52 library_2_window_1.72-1.77_reads_r.fastq.gz\r\n",
      "-rw-rw-r-- 1 sam sam 298K Aug  6 15:27 nonSIP_library_1_fragments.txt.gz\r\n",
      "-rw-rw-r-- 1 sam sam 4.9M Aug  6 15:28 nonSIP_library_1_reads_f.fasta.gz\r\n",
      "-rw-rw-r-- 1 sam sam 6.0M Aug  6 15:54 nonSIP_library_1_reads_f.fastq.gz\r\n",
      "-rw-rw-r-- 1 sam sam 4.9M Aug  6 15:28 nonSIP_library_1_reads_r.fasta.gz\r\n",
      "-rw-rw-r-- 1 sam sam 6.7M Aug  6 15:56 nonSIP_library_1_reads_r.fastq.gz\r\n",
      "-rw-rw-r-- 1 sam sam 298K Aug  6 15:28 nonSIP_library_2_fragments.txt.gz\r\n",
      "-rw-rw-r-- 1 sam sam 4.9M Aug  6 15:28 nonSIP_library_2_reads_f.fasta.gz\r\n",
      "-rw-rw-r-- 1 sam sam 6.1M Aug  6 15:57 nonSIP_library_2_reads_f.fastq.gz\r\n",
      "-rw-rw-r-- 1 sam sam 4.9M Aug  6 15:28 nonSIP_library_2_reads_r.fasta.gz\r\n",
      "-rw-rw-r-- 1 sam sam 6.8M Aug  6 15:59 nonSIP_library_2_reads_r.fastq.gz\r\n",
      "drwxrwxr-x 2 sam sam 4.0K Aug  6 15:59 tmp\r\n"
     ]
    }
   ],
   "source": [
    "!ls -lh $workDir"
   ]
  },
  {
   "cell_type": "markdown",
   "metadata": {},
   "source": [
    "## The End\n",
    "\n",
    "Thank you for checking out this tutorial and for considering MetaSIPSim for your simulation needs!"
   ]
  }
 ],
 "metadata": {
  "anaconda-cloud": {},
  "kernelspec": {
   "display_name": "Python 2",
   "language": "python",
   "name": "python2"
  },
  "language_info": {
   "codemirror_mode": {
    "name": "ipython",
    "version": 2
   },
   "file_extension": ".py",
   "mimetype": "text/x-python",
   "name": "python",
   "nbconvert_exporter": "python",
   "pygments_lexer": "ipython2",
   "version": "2.7.15"
  }
 },
 "nbformat": 4,
 "nbformat_minor": 1
}
